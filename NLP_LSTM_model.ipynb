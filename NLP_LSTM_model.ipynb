{
 "cells": [
  {
   "cell_type": "code",
   "execution_count": 31,
   "metadata": {},
   "outputs": [],
   "source": [
    "import pickle\n",
    "import numpy as np\n",
    "\n",
    "with open('train_qa.txt','rb') as f:\n",
    "    train_data=pickle.load(f)"
   ]
  },
  {
   "cell_type": "code",
   "execution_count": 3,
   "metadata": {},
   "outputs": [],
   "source": [
    "with open('test_qa.txt','rb') as f:\n",
    "    test_data=pickle.load(f)"
   ]
  },
  {
   "cell_type": "code",
   "execution_count": 4,
   "metadata": {},
   "outputs": [
    {
     "data": {
      "text/plain": [
       "list"
      ]
     },
     "execution_count": 4,
     "metadata": {},
     "output_type": "execute_result"
    }
   ],
   "source": [
    "type(test_data)"
   ]
  },
  {
   "cell_type": "code",
   "execution_count": 5,
   "metadata": {},
   "outputs": [],
   "source": [
    "all_data=test_data+ train_data"
   ]
  },
  {
   "cell_type": "code",
   "execution_count": 6,
   "metadata": {},
   "outputs": [
    {
     "data": {
      "text/plain": [
       "11000"
      ]
     },
     "execution_count": 6,
     "metadata": {},
     "output_type": "execute_result"
    }
   ],
   "source": [
    "len(all_data)"
   ]
  },
  {
   "cell_type": "code",
   "execution_count": 7,
   "metadata": {},
   "outputs": [],
   "source": [
    "vocab =set()\n",
    "for story,question,answer in all_data:\n",
    "    vocab=vocab.union(set(story))\n",
    "    vocab=vocab.union(set(question))"
   ]
  },
  {
   "cell_type": "code",
   "execution_count": 8,
   "metadata": {},
   "outputs": [],
   "source": [
    "vocab.add('no')\n",
    "vocab.add('yes')"
   ]
  },
  {
   "cell_type": "code",
   "execution_count": 9,
   "metadata": {},
   "outputs": [
    {
     "data": {
      "text/plain": [
       "{'.',\n",
       " '?',\n",
       " 'Daniel',\n",
       " 'Is',\n",
       " 'John',\n",
       " 'Mary',\n",
       " 'Sandra',\n",
       " 'apple',\n",
       " 'back',\n",
       " 'bathroom',\n",
       " 'bedroom',\n",
       " 'discarded',\n",
       " 'down',\n",
       " 'dropped',\n",
       " 'football',\n",
       " 'garden',\n",
       " 'got',\n",
       " 'grabbed',\n",
       " 'hallway',\n",
       " 'in',\n",
       " 'journeyed',\n",
       " 'kitchen',\n",
       " 'left',\n",
       " 'milk',\n",
       " 'moved',\n",
       " 'no',\n",
       " 'office',\n",
       " 'picked',\n",
       " 'put',\n",
       " 'the',\n",
       " 'there',\n",
       " 'to',\n",
       " 'took',\n",
       " 'travelled',\n",
       " 'up',\n",
       " 'went',\n",
       " 'yes'}"
      ]
     },
     "execution_count": 9,
     "metadata": {},
     "output_type": "execute_result"
    }
   ],
   "source": [
    "vocab"
   ]
  },
  {
   "cell_type": "code",
   "execution_count": 11,
   "metadata": {},
   "outputs": [],
   "source": [
    "vocab_len=len(vocab)+1"
   ]
  },
  {
   "cell_type": "code",
   "execution_count": 12,
   "metadata": {},
   "outputs": [
    {
     "data": {
      "text/plain": [
       "38"
      ]
     },
     "execution_count": 12,
     "metadata": {},
     "output_type": "execute_result"
    }
   ],
   "source": [
    "vocab_len"
   ]
  },
  {
   "cell_type": "code",
   "execution_count": 13,
   "metadata": {},
   "outputs": [],
   "source": [
    "#Longest story\n",
    "\n",
    "all_story_lens=[len(data[0]) for data in all_data]\n",
    "max_story_len=max(all_story_lens)"
   ]
  },
  {
   "cell_type": "code",
   "execution_count": 14,
   "metadata": {},
   "outputs": [],
   "source": [
    "#Longest question\n",
    "all_question_lens=[len(data[1]) for data in all_data]\n",
    "max_question_len=max(all_question_lens)"
   ]
  },
  {
   "cell_type": "code",
   "execution_count": 18,
   "metadata": {},
   "outputs": [],
   "source": [
    "from keras.preprocessing.sequence import pad_sequences\n",
    "from keras.preprocessing.text import Tokenizer"
   ]
  },
  {
   "cell_type": "code",
   "execution_count": 19,
   "metadata": {},
   "outputs": [],
   "source": [
    "tokenizer=Tokenizer(filters=[])\n",
    "tokenizer.fit_on_texts(vocab)"
   ]
  },
  {
   "cell_type": "code",
   "execution_count": 20,
   "metadata": {},
   "outputs": [
    {
     "data": {
      "text/plain": [
       "{'took': 1,\n",
       " '?': 2,\n",
       " 'moved': 3,\n",
       " 'sandra': 4,\n",
       " 'put': 5,\n",
       " 'in': 6,\n",
       " 'hallway': 7,\n",
       " 'the': 8,\n",
       " 'up': 9,\n",
       " 'down': 10,\n",
       " 'office': 11,\n",
       " 'there': 12,\n",
       " 'grabbed': 13,\n",
       " 'got': 14,\n",
       " 'left': 15,\n",
       " 'football': 16,\n",
       " 'garden': 17,\n",
       " 'no': 18,\n",
       " 'apple': 19,\n",
       " 'went': 20,\n",
       " 'milk': 21,\n",
       " 'yes': 22,\n",
       " '.': 23,\n",
       " 'to': 24,\n",
       " 'mary': 25,\n",
       " 'journeyed': 26,\n",
       " 'discarded': 27,\n",
       " 'kitchen': 28,\n",
       " 'bedroom': 29,\n",
       " 'picked': 30,\n",
       " 'travelled': 31,\n",
       " 'back': 32,\n",
       " 'bathroom': 33,\n",
       " 'dropped': 34,\n",
       " 'john': 35,\n",
       " 'is': 36,\n",
       " 'daniel': 37}"
      ]
     },
     "execution_count": 20,
     "metadata": {},
     "output_type": "execute_result"
    }
   ],
   "source": [
    "tokenizer.word_index"
   ]
  },
  {
   "cell_type": "code",
   "execution_count": 21,
   "metadata": {},
   "outputs": [],
   "source": [
    "train_story_text=[]\n",
    "train_question_text=[]\n",
    "train_answers=[]"
   ]
  },
  {
   "cell_type": "code",
   "execution_count": 23,
   "metadata": {},
   "outputs": [],
   "source": [
    "for story,question,answer in train_data:\n",
    "    train_story_text.append(story)\n",
    "    train_question_text.append(question)\n",
    "    train_answers.append(answer)"
   ]
  },
  {
   "cell_type": "code",
   "execution_count": 25,
   "metadata": {},
   "outputs": [],
   "source": [
    "#train_story_text"
   ]
  },
  {
   "cell_type": "code",
   "execution_count": 26,
   "metadata": {},
   "outputs": [],
   "source": [
    "train_story_seq =tokenizer.texts_to_sequences(train_story_text)"
   ]
  },
  {
   "cell_type": "code",
   "execution_count": 28,
   "metadata": {},
   "outputs": [],
   "source": [
    "#train_story_seq"
   ]
  },
  {
   "cell_type": "code",
   "execution_count": 34,
   "metadata": {},
   "outputs": [],
   "source": [
    "def vectorize_stories(data,word_index=tokenizer.word_index,max_story_len=max_story_len,max_question_len=max_question_len):\n",
    "    #Stories=X\n",
    "    X=[]\n",
    "    #Questions=Xq\n",
    "    Xq=[]\n",
    "    #Y Correct answer(yes/no)\n",
    "    Y=[]\n",
    "    \n",
    "    for story,query,answer in data:\n",
    "        x=[word_index[word.lower()] for word  in story]\n",
    "        xq=[word_index[word.lower()] for word in query]\n",
    "        y=np.zeros(len(word_index)+1)\n",
    "        y[word_index[answer]]=1\n",
    "        \n",
    "        X.append(x)\n",
    "        Xq.append(xq)\n",
    "        Y.append(y)\n",
    "        \n",
    "    return (pad_sequences(X,maxlen=max_story_len),pad_sequences(Xq,maxlen=max_question_len),np.array(Y))"
   ]
  },
  {
   "cell_type": "code",
   "execution_count": 35,
   "metadata": {},
   "outputs": [],
   "source": [
    "inputs_train , queries_train , answers_train =vectorize_stories(train_data)"
   ]
  },
  {
   "cell_type": "code",
   "execution_count": 36,
   "metadata": {},
   "outputs": [],
   "source": [
    "inputs_test , queries_test , answers_test =vectorize_stories(test_data)"
   ]
  },
  {
   "cell_type": "markdown",
   "metadata": {},
   "source": [
    "Creating Model"
   ]
  },
  {
   "cell_type": "code",
   "execution_count": 37,
   "metadata": {},
   "outputs": [],
   "source": [
    "from keras.models import Sequential, Model\n",
    "from keras.layers.embeddings import Embedding\n",
    "from keras.layers import Input, Activation, Dense, Permute, Dropout\n",
    "from keras.layers import add, dot, concatenate\n",
    "from keras.layers import LSTM"
   ]
  },
  {
   "cell_type": "code",
   "execution_count": 38,
   "metadata": {},
   "outputs": [],
   "source": [
    "input_sequence=Input((max_story_len,))\n",
    "question=Input((max_question_len,))"
   ]
  },
  {
   "cell_type": "code",
   "execution_count": 39,
   "metadata": {},
   "outputs": [],
   "source": [
    "vocab_size=len(vocab)+1"
   ]
  },
  {
   "cell_type": "code",
   "execution_count": 40,
   "metadata": {},
   "outputs": [],
   "source": [
    "#INPUT ENCODER M\n",
    "input_encoder_m=Sequential()\n",
    "input_encoder_m.add(Embedding(input_dim=vocab_size,output_dim=64))\n",
    "input_encoder_m.add(Dropout(0.3))"
   ]
  },
  {
   "cell_type": "code",
   "execution_count": 41,
   "metadata": {},
   "outputs": [],
   "source": [
    "#INPUT ENCODER C\n",
    "input_encoder_c=Sequential()\n",
    "input_encoder_c.add(Embedding(input_dim=vocab_size,output_dim=max_question_len))\n",
    "input_encoder_c.add(Dropout(0.3))"
   ]
  },
  {
   "cell_type": "code",
   "execution_count": 42,
   "metadata": {},
   "outputs": [],
   "source": [
    "#question ENCODER C\n",
    "question_encoder=Sequential()\n",
    "question_encoder.add(Embedding(input_dim=vocab_size,output_dim=64,input_length=max_question_len))\n",
    "question_encoder.add(Dropout(0.3))"
   ]
  },
  {
   "cell_type": "code",
   "execution_count": 44,
   "metadata": {},
   "outputs": [],
   "source": [
    "#Encoded<---encoder(input)\n",
    "input_encoded_m =input_encoder_m(input_sequence)\n",
    "input_encoded_c =input_encoder_c(input_sequence)\n",
    "question_encoded=question_encoder(question)"
   ]
  },
  {
   "cell_type": "code",
   "execution_count": 45,
   "metadata": {},
   "outputs": [],
   "source": [
    "# shape: `(samples, story_maxlen, query_maxlen)`\n",
    "match = dot([input_encoded_m, question_encoded], axes=(2, 2))\n",
    "match = Activation('softmax')(match)"
   ]
  },
  {
   "cell_type": "code",
   "execution_count": 46,
   "metadata": {},
   "outputs": [],
   "source": [
    "# add the match matrix with the second input vector sequence\n",
    "response = add([match, input_encoded_c])  # (samples, story_maxlen, query_maxlen)\n",
    "response = Permute((2, 1))(response)  # (samples, query_maxlen, story_maxlen)"
   ]
  },
  {
   "cell_type": "code",
   "execution_count": 47,
   "metadata": {},
   "outputs": [],
   "source": [
    "answer=concatenate([response,question_encoded])"
   ]
  },
  {
   "cell_type": "code",
   "execution_count": 48,
   "metadata": {},
   "outputs": [
    {
     "data": {
      "text/plain": [
       "<KerasTensor: shape=(None, 6, 220) dtype=float32 (created by layer 'concatenate')>"
      ]
     },
     "execution_count": 48,
     "metadata": {},
     "output_type": "execute_result"
    }
   ],
   "source": [
    "answer"
   ]
  },
  {
   "cell_type": "code",
   "execution_count": 50,
   "metadata": {},
   "outputs": [],
   "source": [
    "answer=LSTM(32)(answer)"
   ]
  },
  {
   "cell_type": "code",
   "execution_count": 51,
   "metadata": {},
   "outputs": [],
   "source": [
    "# Regularization with Dropout\n",
    "answer = Dropout(0.5)(answer)\n",
    "answer = Dense(vocab_size)(answer)  # (samples, vocab_size)"
   ]
  },
  {
   "cell_type": "code",
   "execution_count": 52,
   "metadata": {},
   "outputs": [],
   "source": [
    "# we output a probability distribution over the vocabulary\n",
    "answer = Activation('softmax')(answer)\n",
    "\n",
    "# build the final model\n",
    "model = Model([input_sequence, question], answer)\n",
    "model.compile(optimizer='rmsprop', loss='categorical_crossentropy',\n",
    "              metrics=['accuracy'])"
   ]
  },
  {
   "cell_type": "code",
   "execution_count": 53,
   "metadata": {},
   "outputs": [
    {
     "name": "stdout",
     "output_type": "stream",
     "text": [
      "Model: \"model\"\n",
      "__________________________________________________________________________________________________\n",
      "Layer (type)                    Output Shape         Param #     Connected to                     \n",
      "==================================================================================================\n",
      "input_1 (InputLayer)            [(None, 156)]        0                                            \n",
      "__________________________________________________________________________________________________\n",
      "input_2 (InputLayer)            [(None, 6)]          0                                            \n",
      "__________________________________________________________________________________________________\n",
      "sequential (Sequential)         (None, None, 64)     2432        input_1[0][0]                    \n",
      "__________________________________________________________________________________________________\n",
      "sequential_2 (Sequential)       (None, 6, 64)        2432        input_2[0][0]                    \n",
      "__________________________________________________________________________________________________\n",
      "dot (Dot)                       (None, 156, 6)       0           sequential[0][0]                 \n",
      "                                                                 sequential_2[0][0]               \n",
      "__________________________________________________________________________________________________\n",
      "activation (Activation)         (None, 156, 6)       0           dot[0][0]                        \n",
      "__________________________________________________________________________________________________\n",
      "sequential_1 (Sequential)       (None, None, 6)      228         input_1[0][0]                    \n",
      "__________________________________________________________________________________________________\n",
      "add (Add)                       (None, 156, 6)       0           activation[0][0]                 \n",
      "                                                                 sequential_1[0][0]               \n",
      "__________________________________________________________________________________________________\n",
      "permute (Permute)               (None, 6, 156)       0           add[0][0]                        \n",
      "__________________________________________________________________________________________________\n",
      "concatenate (Concatenate)       (None, 6, 220)       0           permute[0][0]                    \n",
      "                                                                 sequential_2[0][0]               \n",
      "__________________________________________________________________________________________________\n",
      "lstm_1 (LSTM)                   (None, 32)           32384       concatenate[0][0]                \n",
      "__________________________________________________________________________________________________\n",
      "dropout_3 (Dropout)             (None, 32)           0           lstm_1[0][0]                     \n",
      "__________________________________________________________________________________________________\n",
      "dense (Dense)                   (None, 38)           1254        dropout_3[0][0]                  \n",
      "__________________________________________________________________________________________________\n",
      "activation_1 (Activation)       (None, 38)           0           dense[0][0]                      \n",
      "==================================================================================================\n",
      "Total params: 38,730\n",
      "Trainable params: 38,730\n",
      "Non-trainable params: 0\n",
      "__________________________________________________________________________________________________\n"
     ]
    }
   ],
   "source": [
    "model.summary()"
   ]
  },
  {
   "cell_type": "code",
   "execution_count": 54,
   "metadata": {},
   "outputs": [
    {
     "name": "stdout",
     "output_type": "stream",
     "text": [
      "Epoch 1/120\n",
      "313/313 [==============================] - 6s 11ms/step - loss: 0.9013 - accuracy: 0.4943 - val_loss: 0.7101 - val_accuracy: 0.5030\n",
      "Epoch 2/120\n",
      "313/313 [==============================] - 3s 10ms/step - loss: 0.7047 - accuracy: 0.4999 - val_loss: 0.6933 - val_accuracy: 0.4970\n",
      "Epoch 3/120\n",
      "313/313 [==============================] - 3s 10ms/step - loss: 0.6968 - accuracy: 0.4920 - val_loss: 0.6943 - val_accuracy: 0.5030\n",
      "Epoch 4/120\n",
      "313/313 [==============================] - 3s 10ms/step - loss: 0.6951 - accuracy: 0.5003 - val_loss: 0.6935 - val_accuracy: 0.4970\n",
      "Epoch 5/120\n",
      "313/313 [==============================] - 3s 10ms/step - loss: 0.6948 - accuracy: 0.4963 - val_loss: 0.6933 - val_accuracy: 0.5010\n",
      "Epoch 6/120\n",
      "313/313 [==============================] - 3s 10ms/step - loss: 0.6943 - accuracy: 0.5002 - val_loss: 0.6949 - val_accuracy: 0.4970\n",
      "Epoch 7/120\n",
      "313/313 [==============================] - 3s 11ms/step - loss: 0.6944 - accuracy: 0.4971 - val_loss: 0.6937 - val_accuracy: 0.4940\n",
      "Epoch 8/120\n",
      "313/313 [==============================] - 3s 11ms/step - loss: 0.6933 - accuracy: 0.5122 - val_loss: 0.6938 - val_accuracy: 0.4980\n",
      "Epoch 9/120\n",
      "313/313 [==============================] - 4s 12ms/step - loss: 0.6906 - accuracy: 0.5320 - val_loss: 0.6904 - val_accuracy: 0.5040\n",
      "Epoch 10/120\n",
      "313/313 [==============================] - 3s 11ms/step - loss: 0.6763 - accuracy: 0.5582 - val_loss: 0.6698 - val_accuracy: 0.5410\n",
      "Epoch 11/120\n",
      "313/313 [==============================] - 3s 11ms/step - loss: 0.6593 - accuracy: 0.5906 - val_loss: 0.6514 - val_accuracy: 0.6230\n",
      "Epoch 12/120\n",
      "313/313 [==============================] - 3s 11ms/step - loss: 0.6398 - accuracy: 0.6397 - val_loss: 0.6343 - val_accuracy: 0.6540\n",
      "Epoch 13/120\n",
      "313/313 [==============================] - 3s 11ms/step - loss: 0.6298 - accuracy: 0.6493 - val_loss: 0.6154 - val_accuracy: 0.6730\n",
      "Epoch 14/120\n",
      "313/313 [==============================] - 4s 11ms/step - loss: 0.6213 - accuracy: 0.6627 - val_loss: 0.6095 - val_accuracy: 0.6630\n",
      "Epoch 15/120\n",
      "313/313 [==============================] - 4s 12ms/step - loss: 0.6078 - accuracy: 0.6731 - val_loss: 0.5988 - val_accuracy: 0.6780\n",
      "Epoch 16/120\n",
      "313/313 [==============================] - 3s 11ms/step - loss: 0.6050 - accuracy: 0.6789 - val_loss: 0.5892 - val_accuracy: 0.6900\n",
      "Epoch 17/120\n",
      "313/313 [==============================] - 4s 11ms/step - loss: 0.5911 - accuracy: 0.6839 - val_loss: 0.5795 - val_accuracy: 0.6960\n",
      "Epoch 18/120\n",
      "313/313 [==============================] - 4s 11ms/step - loss: 0.5751 - accuracy: 0.7036 - val_loss: 0.5536 - val_accuracy: 0.7180\n",
      "Epoch 19/120\n",
      "313/313 [==============================] - 4s 12ms/step - loss: 0.5505 - accuracy: 0.7189 - val_loss: 0.5383 - val_accuracy: 0.7230\n",
      "Epoch 20/120\n",
      "313/313 [==============================] - 3s 11ms/step - loss: 0.5290 - accuracy: 0.7406 - val_loss: 0.5162 - val_accuracy: 0.7510\n",
      "Epoch 21/120\n",
      "313/313 [==============================] - 3s 11ms/step - loss: 0.5133 - accuracy: 0.7518 - val_loss: 0.4982 - val_accuracy: 0.7530\n",
      "Epoch 22/120\n",
      "313/313 [==============================] - 3s 11ms/step - loss: 0.5035 - accuracy: 0.7584 - val_loss: 0.4709 - val_accuracy: 0.7740\n",
      "Epoch 23/120\n",
      "313/313 [==============================] - 3s 11ms/step - loss: 0.4875 - accuracy: 0.7670 - val_loss: 0.4613 - val_accuracy: 0.7880\n",
      "Epoch 24/120\n",
      "313/313 [==============================] - 4s 11ms/step - loss: 0.4746 - accuracy: 0.7794 - val_loss: 0.4557 - val_accuracy: 0.7880\n",
      "Epoch 25/120\n",
      "313/313 [==============================] - 3s 11ms/step - loss: 0.4686 - accuracy: 0.7850 - val_loss: 0.4411 - val_accuracy: 0.7990\n",
      "Epoch 26/120\n",
      "313/313 [==============================] - 3s 11ms/step - loss: 0.4584 - accuracy: 0.7916 - val_loss: 0.4415 - val_accuracy: 0.7940\n",
      "Epoch 27/120\n",
      "313/313 [==============================] - 3s 11ms/step - loss: 0.4428 - accuracy: 0.8012 - val_loss: 0.4251 - val_accuracy: 0.8120\n",
      "Epoch 28/120\n",
      "313/313 [==============================] - 3s 11ms/step - loss: 0.4420 - accuracy: 0.7975 - val_loss: 0.4195 - val_accuracy: 0.8100\n",
      "Epoch 29/120\n",
      "313/313 [==============================] - 3s 11ms/step - loss: 0.4341 - accuracy: 0.8030 - val_loss: 0.4142 - val_accuracy: 0.8170\n",
      "Epoch 30/120\n",
      "313/313 [==============================] - 4s 11ms/step - loss: 0.4233 - accuracy: 0.8118 - val_loss: 0.4168 - val_accuracy: 0.8090\n",
      "Epoch 31/120\n",
      "313/313 [==============================] - 4s 11ms/step - loss: 0.4170 - accuracy: 0.8151 - val_loss: 0.4033 - val_accuracy: 0.8180\n",
      "Epoch 32/120\n",
      "313/313 [==============================] - 3s 11ms/step - loss: 0.4079 - accuracy: 0.8133 - val_loss: 0.4085 - val_accuracy: 0.8130\n",
      "Epoch 33/120\n",
      "313/313 [==============================] - 3s 11ms/step - loss: 0.4016 - accuracy: 0.8245 - val_loss: 0.4166 - val_accuracy: 0.8160\n",
      "Epoch 34/120\n",
      "313/313 [==============================] - 3s 11ms/step - loss: 0.3928 - accuracy: 0.8261 - val_loss: 0.3928 - val_accuracy: 0.8230\n",
      "Epoch 35/120\n",
      "313/313 [==============================] - 3s 11ms/step - loss: 0.3878 - accuracy: 0.8265 - val_loss: 0.3847 - val_accuracy: 0.8280\n",
      "Epoch 36/120\n",
      "313/313 [==============================] - 4s 11ms/step - loss: 0.3851 - accuracy: 0.8295 - val_loss: 0.3852 - val_accuracy: 0.8310\n",
      "Epoch 37/120\n",
      "313/313 [==============================] - 3s 11ms/step - loss: 0.3744 - accuracy: 0.8361 - val_loss: 0.3786 - val_accuracy: 0.8260\n",
      "Epoch 38/120\n",
      "313/313 [==============================] - 4s 11ms/step - loss: 0.3685 - accuracy: 0.8413 - val_loss: 0.3737 - val_accuracy: 0.8340\n",
      "Epoch 39/120\n",
      "313/313 [==============================] - 4s 11ms/step - loss: 0.3586 - accuracy: 0.8408 - val_loss: 0.3777 - val_accuracy: 0.8280\n",
      "Epoch 40/120\n",
      "313/313 [==============================] - 4s 11ms/step - loss: 0.3589 - accuracy: 0.8410 - val_loss: 0.3633 - val_accuracy: 0.8370\n",
      "Epoch 41/120\n",
      "313/313 [==============================] - 4s 13ms/step - loss: 0.3448 - accuracy: 0.8481 - val_loss: 0.3750 - val_accuracy: 0.8350\n",
      "Epoch 42/120\n",
      "313/313 [==============================] - 4s 12ms/step - loss: 0.3400 - accuracy: 0.8490 - val_loss: 0.3637 - val_accuracy: 0.8360\n",
      "Epoch 43/120\n",
      "313/313 [==============================] - 4s 13ms/step - loss: 0.3334 - accuracy: 0.8561 - val_loss: 0.3801 - val_accuracy: 0.8310\n",
      "Epoch 44/120\n",
      "313/313 [==============================] - 4s 11ms/step - loss: 0.3267 - accuracy: 0.8600 - val_loss: 0.3581 - val_accuracy: 0.8370\n",
      "Epoch 45/120\n",
      "313/313 [==============================] - 4s 11ms/step - loss: 0.3280 - accuracy: 0.8576 - val_loss: 0.3544 - val_accuracy: 0.8480\n",
      "Epoch 46/120\n",
      "313/313 [==============================] - 4s 11ms/step - loss: 0.3209 - accuracy: 0.8566 - val_loss: 0.3584 - val_accuracy: 0.8390\n",
      "Epoch 47/120\n",
      "313/313 [==============================] - 4s 12ms/step - loss: 0.3230 - accuracy: 0.8584 - val_loss: 0.3602 - val_accuracy: 0.8330\n",
      "Epoch 48/120\n",
      "313/313 [==============================] - 4s 14ms/step - loss: 0.3176 - accuracy: 0.8626 - val_loss: 0.3502 - val_accuracy: 0.8490\n",
      "Epoch 49/120\n",
      "313/313 [==============================] - 4s 11ms/step - loss: 0.3157 - accuracy: 0.8620 - val_loss: 0.3605 - val_accuracy: 0.8380\n",
      "Epoch 50/120\n",
      "313/313 [==============================] - 4s 11ms/step - loss: 0.3115 - accuracy: 0.8654 - val_loss: 0.3689 - val_accuracy: 0.8360\n",
      "Epoch 51/120\n",
      "313/313 [==============================] - 4s 12ms/step - loss: 0.3118 - accuracy: 0.8661 - val_loss: 0.3566 - val_accuracy: 0.8390\n",
      "Epoch 52/120\n",
      "313/313 [==============================] - 4s 12ms/step - loss: 0.3057 - accuracy: 0.8688 - val_loss: 0.3577 - val_accuracy: 0.8380\n",
      "Epoch 53/120\n",
      "313/313 [==============================] - 4s 11ms/step - loss: 0.3040 - accuracy: 0.8667 - val_loss: 0.3462 - val_accuracy: 0.8500\n",
      "Epoch 54/120\n",
      "313/313 [==============================] - 4s 11ms/step - loss: 0.3011 - accuracy: 0.8684 - val_loss: 0.3556 - val_accuracy: 0.8410\n",
      "Epoch 55/120\n",
      "313/313 [==============================] - 4s 12ms/step - loss: 0.3040 - accuracy: 0.8655 - val_loss: 0.3583 - val_accuracy: 0.8400\n",
      "Epoch 56/120\n",
      "313/313 [==============================] - 4s 11ms/step - loss: 0.3014 - accuracy: 0.8669 - val_loss: 0.3488 - val_accuracy: 0.8380\n",
      "Epoch 57/120\n",
      "313/313 [==============================] - 4s 11ms/step - loss: 0.3015 - accuracy: 0.8685 - val_loss: 0.3504 - val_accuracy: 0.8420\n",
      "Epoch 58/120\n",
      "313/313 [==============================] - 3s 11ms/step - loss: 0.2998 - accuracy: 0.8713 - val_loss: 0.3409 - val_accuracy: 0.8470\n",
      "Epoch 59/120\n",
      "313/313 [==============================] - 4s 11ms/step - loss: 0.2992 - accuracy: 0.8663 - val_loss: 0.3699 - val_accuracy: 0.8400\n",
      "Epoch 60/120\n",
      "313/313 [==============================] - 3s 11ms/step - loss: 0.2980 - accuracy: 0.8666 - val_loss: 0.3428 - val_accuracy: 0.8400\n",
      "Epoch 61/120\n",
      "313/313 [==============================] - 3s 11ms/step - loss: 0.2942 - accuracy: 0.8686 - val_loss: 0.3399 - val_accuracy: 0.8410\n",
      "Epoch 62/120\n",
      "313/313 [==============================] - 4s 12ms/step - loss: 0.2893 - accuracy: 0.8706 - val_loss: 0.3617 - val_accuracy: 0.8340\n",
      "Epoch 63/120\n",
      "313/313 [==============================] - 4s 11ms/step - loss: 0.2901 - accuracy: 0.8734 - val_loss: 0.3393 - val_accuracy: 0.8430\n",
      "Epoch 64/120\n",
      "313/313 [==============================] - 4s 11ms/step - loss: 0.2868 - accuracy: 0.8735 - val_loss: 0.3446 - val_accuracy: 0.8470\n",
      "Epoch 65/120\n",
      "313/313 [==============================] - 3s 11ms/step - loss: 0.2882 - accuracy: 0.8729 - val_loss: 0.3505 - val_accuracy: 0.8360\n",
      "Epoch 66/120\n",
      "313/313 [==============================] - 3s 11ms/step - loss: 0.2867 - accuracy: 0.8726 - val_loss: 0.3513 - val_accuracy: 0.8460\n",
      "Epoch 67/120\n",
      "313/313 [==============================] - 4s 12ms/step - loss: 0.2878 - accuracy: 0.8741 - val_loss: 0.3592 - val_accuracy: 0.8420\n",
      "Epoch 68/120\n",
      "313/313 [==============================] - 3s 11ms/step - loss: 0.2836 - accuracy: 0.8797 - val_loss: 0.3414 - val_accuracy: 0.8360\n",
      "Epoch 69/120\n",
      "313/313 [==============================] - 3s 11ms/step - loss: 0.2833 - accuracy: 0.8769 - val_loss: 0.3487 - val_accuracy: 0.8510\n",
      "Epoch 70/120\n",
      "313/313 [==============================] - 3s 11ms/step - loss: 0.2812 - accuracy: 0.8785 - val_loss: 0.3458 - val_accuracy: 0.8470\n",
      "Epoch 71/120\n",
      "313/313 [==============================] - 3s 11ms/step - loss: 0.2872 - accuracy: 0.8760 - val_loss: 0.3514 - val_accuracy: 0.8370\n",
      "Epoch 72/120\n",
      "313/313 [==============================] - 3s 11ms/step - loss: 0.2797 - accuracy: 0.8788 - val_loss: 0.3540 - val_accuracy: 0.8410\n",
      "Epoch 73/120\n",
      "313/313 [==============================] - 4s 11ms/step - loss: 0.2863 - accuracy: 0.8751 - val_loss: 0.3503 - val_accuracy: 0.8420\n",
      "Epoch 74/120\n",
      "313/313 [==============================] - 4s 11ms/step - loss: 0.2789 - accuracy: 0.8791 - val_loss: 0.3574 - val_accuracy: 0.8420\n",
      "Epoch 75/120\n",
      "313/313 [==============================] - 4s 11ms/step - loss: 0.2841 - accuracy: 0.8765 - val_loss: 0.3623 - val_accuracy: 0.8340\n",
      "Epoch 76/120\n",
      "313/313 [==============================] - 3s 11ms/step - loss: 0.2773 - accuracy: 0.8796 - val_loss: 0.3611 - val_accuracy: 0.8410\n",
      "Epoch 77/120\n",
      "313/313 [==============================] - 4s 11ms/step - loss: 0.2767 - accuracy: 0.8784 - val_loss: 0.3567 - val_accuracy: 0.8370\n",
      "Epoch 78/120\n",
      "313/313 [==============================] - 4s 11ms/step - loss: 0.2763 - accuracy: 0.8790 - val_loss: 0.3637 - val_accuracy: 0.8290\n",
      "Epoch 79/120\n",
      "313/313 [==============================] - 4s 11ms/step - loss: 0.2780 - accuracy: 0.8820 - val_loss: 0.3546 - val_accuracy: 0.8390\n",
      "Epoch 80/120\n",
      "313/313 [==============================] - 4s 11ms/step - loss: 0.2726 - accuracy: 0.8812 - val_loss: 0.3497 - val_accuracy: 0.8350\n",
      "Epoch 81/120\n",
      "313/313 [==============================] - 4s 11ms/step - loss: 0.2676 - accuracy: 0.8826 - val_loss: 0.3818 - val_accuracy: 0.8320\n",
      "Epoch 82/120\n",
      "313/313 [==============================] - 4s 11ms/step - loss: 0.2733 - accuracy: 0.8835 - val_loss: 0.3708 - val_accuracy: 0.8320\n",
      "Epoch 83/120\n",
      "313/313 [==============================] - 3s 11ms/step - loss: 0.2702 - accuracy: 0.8844 - val_loss: 0.3710 - val_accuracy: 0.8380\n",
      "Epoch 84/120\n",
      "313/313 [==============================] - 3s 11ms/step - loss: 0.2717 - accuracy: 0.8839 - val_loss: 0.3572 - val_accuracy: 0.8390\n",
      "Epoch 85/120\n",
      "313/313 [==============================] - 4s 11ms/step - loss: 0.2697 - accuracy: 0.8819 - val_loss: 0.3837 - val_accuracy: 0.8360\n",
      "Epoch 86/120\n",
      "313/313 [==============================] - 3s 11ms/step - loss: 0.2631 - accuracy: 0.8840 - val_loss: 0.3746 - val_accuracy: 0.8460\n",
      "Epoch 87/120\n",
      "313/313 [==============================] - 3s 11ms/step - loss: 0.2633 - accuracy: 0.8872 - val_loss: 0.3784 - val_accuracy: 0.8360\n",
      "Epoch 88/120\n",
      "313/313 [==============================] - 4s 12ms/step - loss: 0.2630 - accuracy: 0.8858 - val_loss: 0.3686 - val_accuracy: 0.8380\n",
      "Epoch 89/120\n",
      "313/313 [==============================] - 4s 11ms/step - loss: 0.2642 - accuracy: 0.8882 - val_loss: 0.3672 - val_accuracy: 0.8410\n",
      "Epoch 90/120\n",
      "313/313 [==============================] - 4s 12ms/step - loss: 0.2607 - accuracy: 0.8865 - val_loss: 0.3841 - val_accuracy: 0.8410\n",
      "Epoch 91/120\n",
      "313/313 [==============================] - 3s 11ms/step - loss: 0.2660 - accuracy: 0.8886 - val_loss: 0.3768 - val_accuracy: 0.8400\n",
      "Epoch 92/120\n",
      "313/313 [==============================] - 4s 13ms/step - loss: 0.2574 - accuracy: 0.8901 - val_loss: 0.3895 - val_accuracy: 0.8410\n",
      "Epoch 93/120\n",
      "313/313 [==============================] - 4s 13ms/step - loss: 0.2577 - accuracy: 0.8881 - val_loss: 0.3755 - val_accuracy: 0.8360\n",
      "Epoch 94/120\n",
      "313/313 [==============================] - 4s 11ms/step - loss: 0.2561 - accuracy: 0.8901 - val_loss: 0.3850 - val_accuracy: 0.8440\n",
      "Epoch 95/120\n",
      "313/313 [==============================] - 4s 12ms/step - loss: 0.2527 - accuracy: 0.8923 - val_loss: 0.3731 - val_accuracy: 0.8360\n",
      "Epoch 96/120\n",
      "313/313 [==============================] - 4s 12ms/step - loss: 0.2528 - accuracy: 0.8948 - val_loss: 0.4378 - val_accuracy: 0.8340\n",
      "Epoch 97/120\n",
      "313/313 [==============================] - 4s 12ms/step - loss: 0.2571 - accuracy: 0.8893 - val_loss: 0.3667 - val_accuracy: 0.8410\n",
      "Epoch 98/120\n",
      "313/313 [==============================] - 4s 12ms/step - loss: 0.2531 - accuracy: 0.8911 - val_loss: 0.3859 - val_accuracy: 0.8390\n",
      "Epoch 99/120\n",
      "313/313 [==============================] - 4s 12ms/step - loss: 0.2521 - accuracy: 0.8927 - val_loss: 0.3647 - val_accuracy: 0.8410\n",
      "Epoch 100/120\n",
      "313/313 [==============================] - 4s 12ms/step - loss: 0.2549 - accuracy: 0.8900 - val_loss: 0.4048 - val_accuracy: 0.8380\n",
      "Epoch 101/120\n",
      "313/313 [==============================] - 4s 12ms/step - loss: 0.2570 - accuracy: 0.8867 - val_loss: 0.3857 - val_accuracy: 0.8370\n",
      "Epoch 102/120\n",
      "313/313 [==============================] - 4s 12ms/step - loss: 0.2491 - accuracy: 0.8947 - val_loss: 0.3766 - val_accuracy: 0.8390\n",
      "Epoch 103/120\n",
      "313/313 [==============================] - 4s 12ms/step - loss: 0.2506 - accuracy: 0.8917 - val_loss: 0.3613 - val_accuracy: 0.8450\n",
      "Epoch 104/120\n",
      "313/313 [==============================] - 4s 12ms/step - loss: 0.2437 - accuracy: 0.8968 - val_loss: 0.3760 - val_accuracy: 0.8410\n",
      "Epoch 105/120\n",
      "313/313 [==============================] - 4s 12ms/step - loss: 0.2443 - accuracy: 0.8981 - val_loss: 0.3913 - val_accuracy: 0.8390\n",
      "Epoch 106/120\n",
      "313/313 [==============================] - 4s 12ms/step - loss: 0.2440 - accuracy: 0.8973 - val_loss: 0.4048 - val_accuracy: 0.8360\n",
      "Epoch 107/120\n",
      "313/313 [==============================] - 4s 11ms/step - loss: 0.2407 - accuracy: 0.8960 - val_loss: 0.3802 - val_accuracy: 0.8400\n",
      "Epoch 108/120\n",
      "313/313 [==============================] - 4s 11ms/step - loss: 0.2443 - accuracy: 0.8929 - val_loss: 0.4193 - val_accuracy: 0.8350\n",
      "Epoch 109/120\n",
      "313/313 [==============================] - 4s 11ms/step - loss: 0.2422 - accuracy: 0.8988 - val_loss: 0.4277 - val_accuracy: 0.8380\n",
      "Epoch 110/120\n",
      "313/313 [==============================] - 4s 11ms/step - loss: 0.2425 - accuracy: 0.8963 - val_loss: 0.4306 - val_accuracy: 0.8410\n",
      "Epoch 111/120\n",
      "313/313 [==============================] - 4s 11ms/step - loss: 0.2412 - accuracy: 0.8964 - val_loss: 0.4380 - val_accuracy: 0.8410\n",
      "Epoch 112/120\n",
      "313/313 [==============================] - 4s 11ms/step - loss: 0.2417 - accuracy: 0.8986 - val_loss: 0.4008 - val_accuracy: 0.8420\n",
      "Epoch 113/120\n"
     ]
    },
    {
     "name": "stdout",
     "output_type": "stream",
     "text": [
      "313/313 [==============================] - 3s 11ms/step - loss: 0.2339 - accuracy: 0.8997 - val_loss: 0.3816 - val_accuracy: 0.8420\n",
      "Epoch 114/120\n",
      "313/313 [==============================] - 3s 11ms/step - loss: 0.2311 - accuracy: 0.9020 - val_loss: 0.3968 - val_accuracy: 0.8400\n",
      "Epoch 115/120\n",
      "313/313 [==============================] - 3s 11ms/step - loss: 0.2328 - accuracy: 0.9000 - val_loss: 0.4207 - val_accuracy: 0.8400\n",
      "Epoch 116/120\n",
      "313/313 [==============================] - 3s 11ms/step - loss: 0.2386 - accuracy: 0.8961 - val_loss: 0.4182 - val_accuracy: 0.8350\n",
      "Epoch 117/120\n",
      "313/313 [==============================] - 4s 12ms/step - loss: 0.2341 - accuracy: 0.9014 - val_loss: 0.4573 - val_accuracy: 0.8300\n",
      "Epoch 118/120\n",
      "313/313 [==============================] - 4s 12ms/step - loss: 0.2289 - accuracy: 0.9041 - val_loss: 0.4171 - val_accuracy: 0.8440\n",
      "Epoch 119/120\n",
      "313/313 [==============================] - 3s 11ms/step - loss: 0.2318 - accuracy: 0.9033 - val_loss: 0.4222 - val_accuracy: 0.8330\n",
      "Epoch 120/120\n",
      "313/313 [==============================] - 3s 11ms/step - loss: 0.2302 - accuracy: 0.9035 - val_loss: 0.4355 - val_accuracy: 0.8300\n"
     ]
    }
   ],
   "source": [
    "# train\n",
    "history = model.fit([inputs_train, queries_train], answers_train,batch_size=32,epochs=120,validation_data=([inputs_test, queries_test], answers_test))"
   ]
  },
  {
   "cell_type": "code",
   "execution_count": 55,
   "metadata": {},
   "outputs": [
    {
     "name": "stderr",
     "output_type": "stream",
     "text": [
      "C:\\Users\\kmegh\\anaconda3\\lib\\site-packages\\keras\\utils\\generic_utils.py:494: CustomMaskWarning: Custom mask layers require a config and must override get_config. When loading, the custom mask layer must be passed to the custom_objects argument.\n",
      "  warnings.warn('Custom mask layers require a config and must override '\n"
     ]
    }
   ],
   "source": [
    "filename = 'chatbot_120_epochs.h5'\n",
    "model.save(filename)"
   ]
  },
  {
   "cell_type": "code",
   "execution_count": 57,
   "metadata": {},
   "outputs": [
    {
     "name": "stdout",
     "output_type": "stream",
     "text": [
      "dict_keys(['loss', 'accuracy', 'val_loss', 'val_accuracy'])\n"
     ]
    },
    {
     "ename": "KeyError",
     "evalue": "'val_acc'",
     "output_type": "error",
     "traceback": [
      "\u001b[1;31m---------------------------------------------------------------------------\u001b[0m",
      "\u001b[1;31mKeyError\u001b[0m                                  Traceback (most recent call last)",
      "\u001b[1;32m<ipython-input-57-9f50be3a09cc>\u001b[0m in \u001b[0;36m<module>\u001b[1;34m\u001b[0m\n\u001b[0;32m      4\u001b[0m \u001b[1;31m# summarize history for accuracy\u001b[0m\u001b[1;33m\u001b[0m\u001b[1;33m\u001b[0m\u001b[1;33m\u001b[0m\u001b[0m\n\u001b[0;32m      5\u001b[0m \u001b[1;31m#plt.plot(history.history['acc'])\u001b[0m\u001b[1;33m\u001b[0m\u001b[1;33m\u001b[0m\u001b[1;33m\u001b[0m\u001b[0m\n\u001b[1;32m----> 6\u001b[1;33m \u001b[0mplt\u001b[0m\u001b[1;33m.\u001b[0m\u001b[0mplot\u001b[0m\u001b[1;33m(\u001b[0m\u001b[0mhistory\u001b[0m\u001b[1;33m.\u001b[0m\u001b[0mhistory\u001b[0m\u001b[1;33m[\u001b[0m\u001b[1;34m'val_acc'\u001b[0m\u001b[1;33m]\u001b[0m\u001b[1;33m)\u001b[0m\u001b[1;33m\u001b[0m\u001b[1;33m\u001b[0m\u001b[0m\n\u001b[0m\u001b[0;32m      7\u001b[0m \u001b[0mplt\u001b[0m\u001b[1;33m.\u001b[0m\u001b[0mtitle\u001b[0m\u001b[1;33m(\u001b[0m\u001b[1;34m'model accuracy'\u001b[0m\u001b[1;33m)\u001b[0m\u001b[1;33m\u001b[0m\u001b[1;33m\u001b[0m\u001b[0m\n\u001b[0;32m      8\u001b[0m \u001b[0mplt\u001b[0m\u001b[1;33m.\u001b[0m\u001b[0mylabel\u001b[0m\u001b[1;33m(\u001b[0m\u001b[1;34m'accuracy'\u001b[0m\u001b[1;33m)\u001b[0m\u001b[1;33m\u001b[0m\u001b[1;33m\u001b[0m\u001b[0m\n",
      "\u001b[1;31mKeyError\u001b[0m: 'val_acc'"
     ]
    }
   ],
   "source": [
    "import matplotlib.pyplot as plt\n",
    "%matplotlib inline\n",
    "print(history.history.keys())\n",
    "# summarize history for accuracy\n",
    "#plt.plot(history.history['acc'])\n",
    "plt.plot(history.history['val_acc'])\n",
    "plt.title('model accuracy')\n",
    "plt.ylabel('accuracy')\n",
    "plt.xlabel('epoch')\n",
    "plt.legend(['train', 'test'], loc='upper left')\n",
    "plt.show()"
   ]
  },
  {
   "cell_type": "code",
   "execution_count": 58,
   "metadata": {},
   "outputs": [],
   "source": [
    "model.load_weights(filename)\n",
    "pred_results = model.predict(([inputs_test, queries_test]))"
   ]
  },
  {
   "cell_type": "code",
   "execution_count": 59,
   "metadata": {},
   "outputs": [
    {
     "name": "stdout",
     "output_type": "stream",
     "text": [
      "Predicted answer is:  no\n",
      "Probability of certainty was:  0.9999323\n"
     ]
    }
   ],
   "source": [
    "#Generate prediction from model\n",
    "val_max = np.argmax(pred_results[0])\n",
    "\n",
    "for key, val in tokenizer.word_index.items():\n",
    "    if val == val_max:\n",
    "        k = key\n",
    "\n",
    "print(\"Predicted answer is: \", k)\n",
    "print(\"Probability of certainty was: \", pred_results[0][val_max])"
   ]
  },
  {
   "cell_type": "code",
   "execution_count": 60,
   "metadata": {},
   "outputs": [],
   "source": [
    "sq_pairs = [str(train_story_text[i])+\" \"+str(train_question_text[i]) for i in range(len(train_story_text))]"
   ]
  },
  {
   "cell_type": "code",
   "execution_count": null,
   "metadata": {},
   "outputs": [],
   "source": []
  },
  {
   "cell_type": "code",
   "execution_count": 62,
   "metadata": {},
   "outputs": [],
   "source": [
    "X_train=[inputs_train , queries_train] \n",
    "y_train=answers_train"
   ]
  },
  {
   "cell_type": "code",
   "execution_count": 63,
   "metadata": {},
   "outputs": [],
   "source": [
    "X_test=[inputs_test , queries_test] \n",
    "y_test=answers_test"
   ]
  },
  {
   "cell_type": "code",
   "execution_count": 66,
   "metadata": {},
   "outputs": [
    {
     "ename": "ValueError",
     "evalue": "Found input variables with inconsistent numbers of samples: [10000, 1000]",
     "output_type": "error",
     "traceback": [
      "\u001b[1;31m---------------------------------------------------------------------------\u001b[0m",
      "\u001b[1;31mValueError\u001b[0m                                Traceback (most recent call last)",
      "\u001b[1;32m<ipython-input-66-1a703a086803>\u001b[0m in \u001b[0;36m<module>\u001b[1;34m\u001b[0m\n\u001b[0;32m      2\u001b[0m \u001b[0mX\u001b[0m\u001b[1;33m=\u001b[0m\u001b[0msq_pairs\u001b[0m\u001b[1;33m\u001b[0m\u001b[1;33m\u001b[0m\u001b[0m\n\u001b[0;32m      3\u001b[0m \u001b[0my\u001b[0m\u001b[1;33m=\u001b[0m\u001b[0manswers_test\u001b[0m\u001b[1;33m.\u001b[0m\u001b[0mtolist\u001b[0m\u001b[1;33m(\u001b[0m\u001b[1;33m)\u001b[0m\u001b[1;33m\u001b[0m\u001b[1;33m\u001b[0m\u001b[0m\n\u001b[1;32m----> 4\u001b[1;33m \u001b[0mX_train\u001b[0m\u001b[1;33m,\u001b[0m \u001b[0mX_test\u001b[0m\u001b[1;33m,\u001b[0m \u001b[0my_train\u001b[0m\u001b[1;33m,\u001b[0m \u001b[0my_test\u001b[0m \u001b[1;33m=\u001b[0m \u001b[0mtrain_test_split\u001b[0m\u001b[1;33m(\u001b[0m\u001b[0mX\u001b[0m\u001b[1;33m,\u001b[0m \u001b[0my\u001b[0m\u001b[1;33m,\u001b[0m \u001b[0mtest_size\u001b[0m\u001b[1;33m=\u001b[0m\u001b[1;36m0.33\u001b[0m\u001b[1;33m,\u001b[0m \u001b[0mrandom_state\u001b[0m\u001b[1;33m=\u001b[0m\u001b[1;36m42\u001b[0m\u001b[1;33m)\u001b[0m\u001b[1;33m\u001b[0m\u001b[1;33m\u001b[0m\u001b[0m\n\u001b[0m",
      "\u001b[1;32m~\\anaconda3\\lib\\site-packages\\sklearn\\model_selection\\_split.py\u001b[0m in \u001b[0;36mtrain_test_split\u001b[1;34m(test_size, train_size, random_state, shuffle, stratify, *arrays)\u001b[0m\n\u001b[0;32m   2417\u001b[0m         \u001b[1;32mraise\u001b[0m \u001b[0mValueError\u001b[0m\u001b[1;33m(\u001b[0m\u001b[1;34m\"At least one array required as input\"\u001b[0m\u001b[1;33m)\u001b[0m\u001b[1;33m\u001b[0m\u001b[1;33m\u001b[0m\u001b[0m\n\u001b[0;32m   2418\u001b[0m \u001b[1;33m\u001b[0m\u001b[0m\n\u001b[1;32m-> 2419\u001b[1;33m     \u001b[0marrays\u001b[0m \u001b[1;33m=\u001b[0m \u001b[0mindexable\u001b[0m\u001b[1;33m(\u001b[0m\u001b[1;33m*\u001b[0m\u001b[0marrays\u001b[0m\u001b[1;33m)\u001b[0m\u001b[1;33m\u001b[0m\u001b[1;33m\u001b[0m\u001b[0m\n\u001b[0m\u001b[0;32m   2420\u001b[0m \u001b[1;33m\u001b[0m\u001b[0m\n\u001b[0;32m   2421\u001b[0m     \u001b[0mn_samples\u001b[0m \u001b[1;33m=\u001b[0m \u001b[0m_num_samples\u001b[0m\u001b[1;33m(\u001b[0m\u001b[0marrays\u001b[0m\u001b[1;33m[\u001b[0m\u001b[1;36m0\u001b[0m\u001b[1;33m]\u001b[0m\u001b[1;33m)\u001b[0m\u001b[1;33m\u001b[0m\u001b[1;33m\u001b[0m\u001b[0m\n",
      "\u001b[1;32m~\\anaconda3\\lib\\site-packages\\sklearn\\utils\\validation.py\u001b[0m in \u001b[0;36mindexable\u001b[1;34m(*iterables)\u001b[0m\n\u001b[0;32m    368\u001b[0m     \"\"\"\n\u001b[0;32m    369\u001b[0m     \u001b[0mresult\u001b[0m \u001b[1;33m=\u001b[0m \u001b[1;33m[\u001b[0m\u001b[0m_make_indexable\u001b[0m\u001b[1;33m(\u001b[0m\u001b[0mX\u001b[0m\u001b[1;33m)\u001b[0m \u001b[1;32mfor\u001b[0m \u001b[0mX\u001b[0m \u001b[1;32min\u001b[0m \u001b[0miterables\u001b[0m\u001b[1;33m]\u001b[0m\u001b[1;33m\u001b[0m\u001b[1;33m\u001b[0m\u001b[0m\n\u001b[1;32m--> 370\u001b[1;33m     \u001b[0mcheck_consistent_length\u001b[0m\u001b[1;33m(\u001b[0m\u001b[1;33m*\u001b[0m\u001b[0mresult\u001b[0m\u001b[1;33m)\u001b[0m\u001b[1;33m\u001b[0m\u001b[1;33m\u001b[0m\u001b[0m\n\u001b[0m\u001b[0;32m    371\u001b[0m     \u001b[1;32mreturn\u001b[0m \u001b[0mresult\u001b[0m\u001b[1;33m\u001b[0m\u001b[1;33m\u001b[0m\u001b[0m\n\u001b[0;32m    372\u001b[0m \u001b[1;33m\u001b[0m\u001b[0m\n",
      "\u001b[1;32m~\\anaconda3\\lib\\site-packages\\sklearn\\utils\\validation.py\u001b[0m in \u001b[0;36mcheck_consistent_length\u001b[1;34m(*arrays)\u001b[0m\n\u001b[0;32m    329\u001b[0m     \u001b[0muniques\u001b[0m \u001b[1;33m=\u001b[0m \u001b[0mnp\u001b[0m\u001b[1;33m.\u001b[0m\u001b[0munique\u001b[0m\u001b[1;33m(\u001b[0m\u001b[0mlengths\u001b[0m\u001b[1;33m)\u001b[0m\u001b[1;33m\u001b[0m\u001b[1;33m\u001b[0m\u001b[0m\n\u001b[0;32m    330\u001b[0m     \u001b[1;32mif\u001b[0m \u001b[0mlen\u001b[0m\u001b[1;33m(\u001b[0m\u001b[0muniques\u001b[0m\u001b[1;33m)\u001b[0m \u001b[1;33m>\u001b[0m \u001b[1;36m1\u001b[0m\u001b[1;33m:\u001b[0m\u001b[1;33m\u001b[0m\u001b[1;33m\u001b[0m\u001b[0m\n\u001b[1;32m--> 331\u001b[1;33m         raise ValueError(\n\u001b[0m\u001b[0;32m    332\u001b[0m             \u001b[1;34m\"Found input variables with inconsistent numbers of samples: %r\"\u001b[0m\u001b[1;33m\u001b[0m\u001b[1;33m\u001b[0m\u001b[0m\n\u001b[0;32m    333\u001b[0m             \u001b[1;33m%\u001b[0m \u001b[1;33m[\u001b[0m\u001b[0mint\u001b[0m\u001b[1;33m(\u001b[0m\u001b[0ml\u001b[0m\u001b[1;33m)\u001b[0m \u001b[1;32mfor\u001b[0m \u001b[0ml\u001b[0m \u001b[1;32min\u001b[0m \u001b[0mlengths\u001b[0m\u001b[1;33m]\u001b[0m\u001b[1;33m\u001b[0m\u001b[1;33m\u001b[0m\u001b[0m\n",
      "\u001b[1;31mValueError\u001b[0m: Found input variables with inconsistent numbers of samples: [10000, 1000]"
     ]
    }
   ],
   "source": [
    "from sklearn.model_selection import train_test_split\n",
    "X=sq_pairs\n",
    "y=answers_test.tolist()\n",
    "X_train, X_test, y_train, y_test = train_test_split(X, y, test_size=0.33, random_state=42)"
   ]
  },
  {
   "cell_type": "code",
   "execution_count": 65,
   "metadata": {},
   "outputs": [
    {
     "ename": "ValueError",
     "evalue": "could not broadcast input array from shape (10000,156) into shape (10000)",
     "output_type": "error",
     "traceback": [
      "\u001b[1;31m---------------------------------------------------------------------------\u001b[0m",
      "\u001b[1;31mValueError\u001b[0m                                Traceback (most recent call last)",
      "\u001b[1;32m<ipython-input-65-eeb6a6fdb774>\u001b[0m in \u001b[0;36m<module>\u001b[1;34m\u001b[0m\n\u001b[0;32m      2\u001b[0m \u001b[1;32mfrom\u001b[0m \u001b[0msklearn\u001b[0m \u001b[1;32mimport\u001b[0m \u001b[0msvm\u001b[0m\u001b[1;33m\u001b[0m\u001b[1;33m\u001b[0m\u001b[0m\n\u001b[0;32m      3\u001b[0m \u001b[1;32mfrom\u001b[0m \u001b[0msklearn\u001b[0m\u001b[1;33m.\u001b[0m\u001b[0mmetrics\u001b[0m \u001b[1;32mimport\u001b[0m \u001b[0maccuracy_score\u001b[0m\u001b[1;33m,\u001b[0m \u001b[0mf1_score\u001b[0m\u001b[1;33m,\u001b[0m \u001b[0mclassification_report\u001b[0m\u001b[1;33m\u001b[0m\u001b[1;33m\u001b[0m\u001b[0m\n\u001b[1;32m----> 4\u001b[1;33m \u001b[0msvmmodel\u001b[0m \u001b[1;33m=\u001b[0m \u001b[0mSVC\u001b[0m\u001b[1;33m(\u001b[0m\u001b[0mkernel\u001b[0m\u001b[1;33m=\u001b[0m\u001b[1;34m'linear'\u001b[0m\u001b[1;33m,\u001b[0m \u001b[0mdegree\u001b[0m\u001b[1;33m=\u001b[0m\u001b[1;36m3\u001b[0m\u001b[1;33m,\u001b[0m \u001b[0mC\u001b[0m\u001b[1;33m=\u001b[0m\u001b[1;36m1\u001b[0m\u001b[1;33m,\u001b[0m \u001b[0mdecision_function_shape\u001b[0m\u001b[1;33m=\u001b[0m\u001b[1;34m'ovo'\u001b[0m\u001b[1;33m)\u001b[0m\u001b[1;33m.\u001b[0m\u001b[0mfit\u001b[0m\u001b[1;33m(\u001b[0m\u001b[0mX_train\u001b[0m\u001b[1;33m,\u001b[0m \u001b[0my_train\u001b[0m\u001b[1;33m)\u001b[0m\u001b[1;33m\u001b[0m\u001b[1;33m\u001b[0m\u001b[0m\n\u001b[0m\u001b[0;32m      5\u001b[0m \u001b[0maccuracy\u001b[0m \u001b[1;33m=\u001b[0m \u001b[0msvmmodel\u001b[0m\u001b[1;33m.\u001b[0m\u001b[0mscore\u001b[0m\u001b[1;33m(\u001b[0m\u001b[0mX_test\u001b[0m\u001b[1;33m,\u001b[0m \u001b[0my_test\u001b[0m\u001b[1;33m)\u001b[0m\u001b[1;33m\u001b[0m\u001b[1;33m\u001b[0m\u001b[0m\n\u001b[0;32m      6\u001b[0m \u001b[0mf1score\u001b[0m \u001b[1;33m=\u001b[0m \u001b[0mf1_score\u001b[0m\u001b[1;33m(\u001b[0m\u001b[0my_test\u001b[0m\u001b[1;33m,\u001b[0m \u001b[0mpredictions\u001b[0m\u001b[1;33m,\u001b[0m \u001b[0maverage\u001b[0m\u001b[1;33m=\u001b[0m\u001b[1;34m'micro'\u001b[0m\u001b[1;33m)\u001b[0m\u001b[1;33m\u001b[0m\u001b[1;33m\u001b[0m\u001b[0m\n",
      "\u001b[1;32m~\\anaconda3\\lib\\site-packages\\sklearn\\svm\\_base.py\u001b[0m in \u001b[0;36mfit\u001b[1;34m(self, X, y, sample_weight)\u001b[0m\n\u001b[0;32m    188\u001b[0m             \u001b[0mcheck_consistent_length\u001b[0m\u001b[1;33m(\u001b[0m\u001b[0mX\u001b[0m\u001b[1;33m,\u001b[0m \u001b[0my\u001b[0m\u001b[1;33m)\u001b[0m\u001b[1;33m\u001b[0m\u001b[1;33m\u001b[0m\u001b[0m\n\u001b[0;32m    189\u001b[0m         \u001b[1;32melse\u001b[0m\u001b[1;33m:\u001b[0m\u001b[1;33m\u001b[0m\u001b[1;33m\u001b[0m\u001b[0m\n\u001b[1;32m--> 190\u001b[1;33m             X, y = self._validate_data(\n\u001b[0m\u001b[0;32m    191\u001b[0m                 \u001b[0mX\u001b[0m\u001b[1;33m,\u001b[0m\u001b[1;33m\u001b[0m\u001b[1;33m\u001b[0m\u001b[0m\n\u001b[0;32m    192\u001b[0m                 \u001b[0my\u001b[0m\u001b[1;33m,\u001b[0m\u001b[1;33m\u001b[0m\u001b[1;33m\u001b[0m\u001b[0m\n",
      "\u001b[1;32m~\\anaconda3\\lib\\site-packages\\sklearn\\base.py\u001b[0m in \u001b[0;36m_validate_data\u001b[1;34m(self, X, y, reset, validate_separately, **check_params)\u001b[0m\n\u001b[0;32m    570\u001b[0m                 \u001b[0my\u001b[0m \u001b[1;33m=\u001b[0m \u001b[0mcheck_array\u001b[0m\u001b[1;33m(\u001b[0m\u001b[0my\u001b[0m\u001b[1;33m,\u001b[0m \u001b[1;33m**\u001b[0m\u001b[0mcheck_y_params\u001b[0m\u001b[1;33m)\u001b[0m\u001b[1;33m\u001b[0m\u001b[1;33m\u001b[0m\u001b[0m\n\u001b[0;32m    571\u001b[0m             \u001b[1;32melse\u001b[0m\u001b[1;33m:\u001b[0m\u001b[1;33m\u001b[0m\u001b[1;33m\u001b[0m\u001b[0m\n\u001b[1;32m--> 572\u001b[1;33m                 \u001b[0mX\u001b[0m\u001b[1;33m,\u001b[0m \u001b[0my\u001b[0m \u001b[1;33m=\u001b[0m \u001b[0mcheck_X_y\u001b[0m\u001b[1;33m(\u001b[0m\u001b[0mX\u001b[0m\u001b[1;33m,\u001b[0m \u001b[0my\u001b[0m\u001b[1;33m,\u001b[0m \u001b[1;33m**\u001b[0m\u001b[0mcheck_params\u001b[0m\u001b[1;33m)\u001b[0m\u001b[1;33m\u001b[0m\u001b[1;33m\u001b[0m\u001b[0m\n\u001b[0m\u001b[0;32m    573\u001b[0m             \u001b[0mout\u001b[0m \u001b[1;33m=\u001b[0m \u001b[0mX\u001b[0m\u001b[1;33m,\u001b[0m \u001b[0my\u001b[0m\u001b[1;33m\u001b[0m\u001b[1;33m\u001b[0m\u001b[0m\n\u001b[0;32m    574\u001b[0m \u001b[1;33m\u001b[0m\u001b[0m\n",
      "\u001b[1;32m~\\anaconda3\\lib\\site-packages\\sklearn\\utils\\validation.py\u001b[0m in \u001b[0;36mcheck_X_y\u001b[1;34m(X, y, accept_sparse, accept_large_sparse, dtype, order, copy, force_all_finite, ensure_2d, allow_nd, multi_output, ensure_min_samples, ensure_min_features, y_numeric, estimator)\u001b[0m\n\u001b[0;32m    954\u001b[0m         \u001b[1;32mraise\u001b[0m \u001b[0mValueError\u001b[0m\u001b[1;33m(\u001b[0m\u001b[1;34m\"y cannot be None\"\u001b[0m\u001b[1;33m)\u001b[0m\u001b[1;33m\u001b[0m\u001b[1;33m\u001b[0m\u001b[0m\n\u001b[0;32m    955\u001b[0m \u001b[1;33m\u001b[0m\u001b[0m\n\u001b[1;32m--> 956\u001b[1;33m     X = check_array(\n\u001b[0m\u001b[0;32m    957\u001b[0m         \u001b[0mX\u001b[0m\u001b[1;33m,\u001b[0m\u001b[1;33m\u001b[0m\u001b[1;33m\u001b[0m\u001b[0m\n\u001b[0;32m    958\u001b[0m         \u001b[0maccept_sparse\u001b[0m\u001b[1;33m=\u001b[0m\u001b[0maccept_sparse\u001b[0m\u001b[1;33m,\u001b[0m\u001b[1;33m\u001b[0m\u001b[1;33m\u001b[0m\u001b[0m\n",
      "\u001b[1;32m~\\anaconda3\\lib\\site-packages\\sklearn\\utils\\validation.py\u001b[0m in \u001b[0;36mcheck_array\u001b[1;34m(array, accept_sparse, accept_large_sparse, dtype, order, copy, force_all_finite, ensure_2d, allow_nd, ensure_min_samples, ensure_min_features, estimator)\u001b[0m\n\u001b[0;32m    736\u001b[0m                     \u001b[0marray\u001b[0m \u001b[1;33m=\u001b[0m \u001b[0marray\u001b[0m\u001b[1;33m.\u001b[0m\u001b[0mastype\u001b[0m\u001b[1;33m(\u001b[0m\u001b[0mdtype\u001b[0m\u001b[1;33m,\u001b[0m \u001b[0mcasting\u001b[0m\u001b[1;33m=\u001b[0m\u001b[1;34m\"unsafe\"\u001b[0m\u001b[1;33m,\u001b[0m \u001b[0mcopy\u001b[0m\u001b[1;33m=\u001b[0m\u001b[1;32mFalse\u001b[0m\u001b[1;33m)\u001b[0m\u001b[1;33m\u001b[0m\u001b[1;33m\u001b[0m\u001b[0m\n\u001b[0;32m    737\u001b[0m                 \u001b[1;32melse\u001b[0m\u001b[1;33m:\u001b[0m\u001b[1;33m\u001b[0m\u001b[1;33m\u001b[0m\u001b[0m\n\u001b[1;32m--> 738\u001b[1;33m                     \u001b[0marray\u001b[0m \u001b[1;33m=\u001b[0m \u001b[0mnp\u001b[0m\u001b[1;33m.\u001b[0m\u001b[0masarray\u001b[0m\u001b[1;33m(\u001b[0m\u001b[0marray\u001b[0m\u001b[1;33m,\u001b[0m \u001b[0morder\u001b[0m\u001b[1;33m=\u001b[0m\u001b[0morder\u001b[0m\u001b[1;33m,\u001b[0m \u001b[0mdtype\u001b[0m\u001b[1;33m=\u001b[0m\u001b[0mdtype\u001b[0m\u001b[1;33m)\u001b[0m\u001b[1;33m\u001b[0m\u001b[1;33m\u001b[0m\u001b[0m\n\u001b[0m\u001b[0;32m    739\u001b[0m             \u001b[1;32mexcept\u001b[0m \u001b[0mComplexWarning\u001b[0m \u001b[1;32mas\u001b[0m \u001b[0mcomplex_warning\u001b[0m\u001b[1;33m:\u001b[0m\u001b[1;33m\u001b[0m\u001b[1;33m\u001b[0m\u001b[0m\n\u001b[0;32m    740\u001b[0m                 raise ValueError(\n",
      "\u001b[1;32m~\\anaconda3\\lib\\site-packages\\numpy\\core\\_asarray.py\u001b[0m in \u001b[0;36masarray\u001b[1;34m(a, dtype, order)\u001b[0m\n\u001b[0;32m     81\u001b[0m \u001b[1;33m\u001b[0m\u001b[0m\n\u001b[0;32m     82\u001b[0m     \"\"\"\n\u001b[1;32m---> 83\u001b[1;33m     \u001b[1;32mreturn\u001b[0m \u001b[0marray\u001b[0m\u001b[1;33m(\u001b[0m\u001b[0ma\u001b[0m\u001b[1;33m,\u001b[0m \u001b[0mdtype\u001b[0m\u001b[1;33m,\u001b[0m \u001b[0mcopy\u001b[0m\u001b[1;33m=\u001b[0m\u001b[1;32mFalse\u001b[0m\u001b[1;33m,\u001b[0m \u001b[0morder\u001b[0m\u001b[1;33m=\u001b[0m\u001b[0morder\u001b[0m\u001b[1;33m)\u001b[0m\u001b[1;33m\u001b[0m\u001b[1;33m\u001b[0m\u001b[0m\n\u001b[0m\u001b[0;32m     84\u001b[0m \u001b[1;33m\u001b[0m\u001b[0m\n\u001b[0;32m     85\u001b[0m \u001b[1;33m\u001b[0m\u001b[0m\n",
      "\u001b[1;31mValueError\u001b[0m: could not broadcast input array from shape (10000,156) into shape (10000)"
     ]
    }
   ],
   "source": [
    "from sklearn.svm import SVC\n",
    "from sklearn import svm\n",
    "from sklearn.metrics import accuracy_score, f1_score, classification_report\n",
    "svmmodel = SVC(kernel='linear', degree=3, C=1, decision_function_shape='ovo').fit(X_train, y_train)\n",
    "accuracy = svmmodel.score(X_test, y_test)\n",
    "f1score = f1_score(y_test, predictions, average='micro')\n",
    "print(classification_report(y_test, predictions))\n",
    "print(\"Accuracy of SVM with Polynomial Kernel:\", accuracy)"
   ]
  },
  {
   "cell_type": "code",
   "execution_count": null,
   "metadata": {},
   "outputs": [],
   "source": []
  }
 ],
 "metadata": {
  "kernelspec": {
   "display_name": "Python 3",
   "language": "python",
   "name": "python3"
  },
  "language_info": {
   "codemirror_mode": {
    "name": "ipython",
    "version": 3
   },
   "file_extension": ".py",
   "mimetype": "text/x-python",
   "name": "python",
   "nbconvert_exporter": "python",
   "pygments_lexer": "ipython3",
   "version": "3.8.5"
  }
 },
 "nbformat": 4,
 "nbformat_minor": 5
}
