{
 "cells": [
  {
   "cell_type": "markdown",
   "metadata": {},
   "source": [
    "Loading the Data\n",
    "Dataset here will be the Babi Data Set from Facebook Research."
   ]
  },
  {
   "cell_type": "code",
   "execution_count": 1,
   "metadata": {},
   "outputs": [],
   "source": [
    "import pickle\n",
    "import numpy as np\n",
    "\n",
    "with open('train_qa.txt','rb') as f:\n",
    "    train_data=pickle.load(f)\n",
    "    \n",
    "with open('test_qa.txt','rb') as f:\n",
    "    test_data=pickle.load(f)"
   ]
  },
  {
   "cell_type": "markdown",
   "metadata": {},
   "source": [
    "Exploring the Format of the Data"
   ]
  },
  {
   "cell_type": "code",
   "execution_count": 2,
   "metadata": {
    "scrolled": true
   },
   "outputs": [
    {
     "name": "stdout",
     "output_type": "stream",
     "text": [
      "length of test data 1000\n",
      "length of train data 10000\n",
      "type of data <class 'list'>\n"
     ]
    }
   ],
   "source": [
    "print(\"length of test data\",len(test_data))\n",
    "print(\"length of train data\",len(train_data))\n",
    "print(\"type of data\",type(test_data))"
   ]
  },
  {
   "cell_type": "code",
   "execution_count": 3,
   "metadata": {
    "scrolled": true
   },
   "outputs": [
    {
     "data": {
      "text/plain": [
       "(['Mary',\n",
       "  'moved',\n",
       "  'to',\n",
       "  'the',\n",
       "  'bathroom',\n",
       "  '.',\n",
       "  'Sandra',\n",
       "  'journeyed',\n",
       "  'to',\n",
       "  'the',\n",
       "  'bedroom',\n",
       "  '.'],\n",
       " ['Is', 'Sandra', 'in', 'the', 'hallway', '?'],\n",
       " 'no')"
      ]
     },
     "execution_count": 3,
     "metadata": {},
     "output_type": "execute_result"
    }
   ],
   "source": [
    "#Exploring how the data looks\n",
    "train_data[0]\n",
    "# train_data[0][0] is story and train_data[0][1] is question and train_data[0][2] is answer  "
   ]
  },
  {
   "cell_type": "code",
   "execution_count": 7,
   "metadata": {
    "scrolled": true
   },
   "outputs": [
    {
     "name": "stdout",
     "output_type": "stream",
     "text": [
      "story-> Mary moved to the bathroom . Sandra journeyed to the bedroom . question-> Is Sandra in the hallway ? answer : n o\n"
     ]
    }
   ],
   "source": [
    "print(\"story->\",' '.join(train_data[0][0]),\"question->\",' '.join(train_data[0][1]),\"answer :\",' '.join(train_data[0][2]))"
   ]
  },
  {
   "cell_type": "markdown",
   "metadata": {},
   "source": [
    "Setting up Vocabulary of All Words"
   ]
  },
  {
   "cell_type": "code",
   "execution_count": 9,
   "metadata": {},
   "outputs": [
    {
     "name": "stdout",
     "output_type": "stream",
     "text": [
      "11000\n"
     ]
    }
   ],
   "source": [
    "#combining the data\n",
    "all_data=test_data+ train_data\n",
    "print(len(all_data))"
   ]
  },
  {
   "cell_type": "code",
   "execution_count": 10,
   "metadata": {},
   "outputs": [],
   "source": [
    "#adding vocabulary in the set\n",
    "vocab =set()\n",
    "for story,question,answer in all_data:\n",
    "    vocab=vocab.union(set(story))\n",
    "    vocab=vocab.union(set(question))"
   ]
  },
  {
   "cell_type": "code",
   "execution_count": 11,
   "metadata": {},
   "outputs": [],
   "source": [
    "vocab.add('no')\n",
    "vocab.add('yes')"
   ]
  },
  {
   "cell_type": "code",
   "execution_count": 12,
   "metadata": {},
   "outputs": [
    {
     "data": {
      "text/plain": [
       "{'.',\n",
       " '?',\n",
       " 'Daniel',\n",
       " 'Is',\n",
       " 'John',\n",
       " 'Mary',\n",
       " 'Sandra',\n",
       " 'apple',\n",
       " 'back',\n",
       " 'bathroom',\n",
       " 'bedroom',\n",
       " 'discarded',\n",
       " 'down',\n",
       " 'dropped',\n",
       " 'football',\n",
       " 'garden',\n",
       " 'got',\n",
       " 'grabbed',\n",
       " 'hallway',\n",
       " 'in',\n",
       " 'journeyed',\n",
       " 'kitchen',\n",
       " 'left',\n",
       " 'milk',\n",
       " 'moved',\n",
       " 'no',\n",
       " 'office',\n",
       " 'picked',\n",
       " 'put',\n",
       " 'the',\n",
       " 'there',\n",
       " 'to',\n",
       " 'took',\n",
       " 'travelled',\n",
       " 'up',\n",
       " 'went',\n",
       " 'yes'}"
      ]
     },
     "execution_count": 12,
     "metadata": {},
     "output_type": "execute_result"
    }
   ],
   "source": [
    "# preview of vocab\n",
    "vocab"
   ]
  },
  {
   "cell_type": "code",
   "execution_count": 13,
   "metadata": {},
   "outputs": [],
   "source": [
    "vocab_len=len(vocab)+1#we add an extra space to hold a 0 for Keras's pad_sequences"
   ]
  },
  {
   "cell_type": "code",
   "execution_count": 14,
   "metadata": {},
   "outputs": [
    {
     "data": {
      "text/plain": [
       "38"
      ]
     },
     "execution_count": 14,
     "metadata": {},
     "output_type": "execute_result"
    }
   ],
   "source": [
    "vocab_len"
   ]
  },
  {
   "cell_type": "code",
   "execution_count": 15,
   "metadata": {},
   "outputs": [],
   "source": [
    "#Longest story\n",
    "\n",
    "all_story_lens=[len(data[0]) for data in all_data]\n",
    "maximum_story_len=max(all_story_lens)"
   ]
  },
  {
   "cell_type": "code",
   "execution_count": 16,
   "metadata": {},
   "outputs": [],
   "source": [
    "#Longest question\n",
    "all_question_lens=[len(data[1]) for data in all_data]\n",
    "maximum_question_len=max(all_question_lens)"
   ]
  },
  {
   "cell_type": "markdown",
   "metadata": {},
   "source": [
    "Vectorizing the data"
   ]
  },
  {
   "cell_type": "code",
   "execution_count": 18,
   "metadata": {},
   "outputs": [],
   "source": [
    "from keras.preprocessing.sequence import pad_sequences\n",
    "from keras.preprocessing.text import Tokenizer"
   ]
  },
  {
   "cell_type": "code",
   "execution_count": 19,
   "metadata": {},
   "outputs": [],
   "source": [
    "# integer encode sequences of words\n",
    "tokenizer=Tokenizer(filters=[])\n",
    "tokenizer.fit_on_texts(vocab)"
   ]
  },
  {
   "cell_type": "code",
   "execution_count": 20,
   "metadata": {},
   "outputs": [
    {
     "data": {
      "text/plain": [
       "{'apple': 1,\n",
       " 'daniel': 2,\n",
       " 'journeyed': 3,\n",
       " 'grabbed': 4,\n",
       " 'moved': 5,\n",
       " 'got': 6,\n",
       " 'milk': 7,\n",
       " 'to': 8,\n",
       " 'no': 9,\n",
       " 'kitchen': 10,\n",
       " 'is': 11,\n",
       " 'the': 12,\n",
       " 'bathroom': 13,\n",
       " 'office': 14,\n",
       " 'back': 15,\n",
       " 'yes': 16,\n",
       " 'there': 17,\n",
       " 'football': 18,\n",
       " 'up': 19,\n",
       " 'sandra': 20,\n",
       " 'left': 21,\n",
       " 'dropped': 22,\n",
       " 'hallway': 23,\n",
       " 'john': 24,\n",
       " '?': 25,\n",
       " 'bedroom': 26,\n",
       " 'in': 27,\n",
       " 'went': 28,\n",
       " 'took': 29,\n",
       " 'put': 30,\n",
       " 'discarded': 31,\n",
       " 'garden': 32,\n",
       " 'picked': 33,\n",
       " 'travelled': 34,\n",
       " 'down': 35,\n",
       " '.': 36,\n",
       " 'mary': 37}"
      ]
     },
     "execution_count": 20,
     "metadata": {},
     "output_type": "execute_result"
    }
   ],
   "source": [
    "tokenizer.word_index"
   ]
  },
  {
   "cell_type": "code",
   "execution_count": 21,
   "metadata": {},
   "outputs": [],
   "source": [
    "train_story_text=[]\n",
    "train_question_text=[]\n",
    "train_answers=[]"
   ]
  },
  {
   "cell_type": "code",
   "execution_count": 22,
   "metadata": {},
   "outputs": [],
   "source": [
    "# Splitting into 3 seperate lists\n",
    "for story,question,answer in train_data:\n",
    "    train_story_text.append(story)\n",
    "    train_question_text.append(question)\n",
    "    train_answers.append(answer)"
   ]
  },
  {
   "cell_type": "code",
   "execution_count": 23,
   "metadata": {},
   "outputs": [],
   "source": [
    "train_story_seq =tokenizer.texts_to_sequences(train_story_text)"
   ]
  },
  {
   "cell_type": "markdown",
   "metadata": {},
   "source": [
    "Functionalize Vectorization"
   ]
  },
  {
   "cell_type": "code",
   "execution_count": 24,
   "metadata": {},
   "outputs": [
    {
     "data": {
      "text/plain": [
       "'\\n\\n    OUTPUT:\\n    \\n    Vectorizes the stories,questions, and answers into padded sequences. We first loop for every story, query , and\\n    answer in the data. Then we convert the raw words to an word index value. Then we append each set to their appropriate\\n    output list. Then once we have converted the words to numbers, we pad the sequences so they are all of equal length.\\n    \\n    Returns this in the form of a tuple (X,Xq,Y) (padded based on max lengths)\\n'"
      ]
     },
     "execution_count": 24,
     "metadata": {},
     "output_type": "execute_result"
    }
   ],
   "source": [
    "def vectorize_stories(data,word_index=tokenizer.word_index,max_story_len=maximum_story_len,max_question_len=maximum_question_len):\n",
    "    #Stories=X\n",
    "    X=[]\n",
    "    #Questions=Xq\n",
    "    Xq=[]\n",
    "    #Y Correct answer(yes/no)\n",
    "    Y=[]\n",
    "    \n",
    "    for story,query,answer in data:\n",
    "        x=[word_index[word.lower()] for word  in story]\n",
    "        xq=[word_index[word.lower()] for word in query]\n",
    "        y=np.zeros(len(word_index)+1)\n",
    "        y[word_index[answer]]=1\n",
    "        \n",
    "        X.append(x)\n",
    "        Xq.append(xq)\n",
    "        Y.append(y)\n",
    "        \n",
    "    return (pad_sequences(X,maxlen=maximum_story_len),pad_sequences(Xq,maxlen=maximum_question_len),np.array(Y))\n",
    "'''\n",
    "\n",
    "    OUTPUT:\n",
    "    \n",
    "    Vectorizes the stories,questions, and answers into padded sequences. We first loop for every story, query , and\n",
    "    answer in the data. Then we convert the raw words to an word index value. Then we append each set to their appropriate\n",
    "    output list. Then once we have converted the words to numbers, we pad the sequences so they are all of equal length.\n",
    "    \n",
    "    Returns this in the form of a tuple (X,Xq,Y) (padded based on max lengths)\n",
    "'''"
   ]
  },
  {
   "cell_type": "code",
   "execution_count": 25,
   "metadata": {},
   "outputs": [],
   "source": [
    "inputs_train , queries_train , answers_train =vectorize_stories(train_data)"
   ]
  },
  {
   "cell_type": "code",
   "execution_count": 26,
   "metadata": {},
   "outputs": [],
   "source": [
    "inputs_test , queries_test , answers_test =vectorize_stories(test_data)"
   ]
  },
  {
   "cell_type": "code",
   "execution_count": 27,
   "metadata": {},
   "outputs": [
    {
     "data": {
      "text/plain": [
       "array([[ 0,  0,  0, ..., 12, 26, 36],\n",
       "       [ 0,  0,  0, ..., 12, 32, 36],\n",
       "       [ 0,  0,  0, ..., 12, 32, 36],\n",
       "       ...,\n",
       "       [ 0,  0,  0, ..., 12,  1, 36],\n",
       "       [ 0,  0,  0, ..., 12, 32, 36],\n",
       "       [ 0,  0,  0, ...,  1, 17, 36]])"
      ]
     },
     "execution_count": 27,
     "metadata": {},
     "output_type": "execute_result"
    }
   ],
   "source": [
    "#example of vectorized data\n",
    "inputs_test"
   ]
  },
  {
   "cell_type": "markdown",
   "metadata": {},
   "source": [
    "Creating Model"
   ]
  },
  {
   "cell_type": "code",
   "execution_count": 28,
   "metadata": {},
   "outputs": [],
   "source": [
    "from keras.models import Sequential, Model\n",
    "from keras.layers.embeddings import Embedding\n",
    "from keras.layers import Input, Activation, Dense, Permute, Dropout\n",
    "from keras.layers import add, dot, concatenate\n",
    "from keras.layers import LSTM"
   ]
  },
  {
   "cell_type": "code",
   "execution_count": 30,
   "metadata": {},
   "outputs": [],
   "source": [
    "# we have two inputs stories and questions\n",
    "input_sequence=Input((maximum_story_len,))\n",
    "question=Input((maximum_question_len,))\n",
    "#Input() is used to instantiate a Keras tensor."
   ]
  },
  {
   "cell_type": "code",
   "execution_count": 31,
   "metadata": {},
   "outputs": [],
   "source": [
    "vocab_size=len(vocab)+1"
   ]
  },
  {
   "cell_type": "markdown",
   "metadata": {},
   "source": [
    "To build this network we have choosen the below article\n",
    "\n",
    "* Sainbayar Sukhbaatar, Arthur Szlam, Jason Weston, Rob Fergus,\n",
    "  \"End-To-End Memory Networks\",\n",
    "  http://arxiv.org/abs/1503.08895"
   ]
  },
  {
   "cell_type": "markdown",
   "metadata": {},
   "source": [
    "Encoders"
   ]
  },
  {
   "cell_type": "code",
   "execution_count": 32,
   "metadata": {},
   "outputs": [],
   "source": [
    "#INPUT ENCODER M\n",
    "# Input gets embedded to a sequence of vectors\n",
    "input_encoder_m=Sequential()\n",
    "input_encoder_m.add(Embedding(input_dim=vocab_size,output_dim=64))\n",
    "input_encoder_m.add(Dropout(0.3))\n",
    "# This encoder will output:\n",
    "# (samples, story_maxlen, embedding_dim)"
   ]
  },
  {
   "cell_type": "code",
   "execution_count": 33,
   "metadata": {},
   "outputs": [],
   "source": [
    "#INPUT ENCODER C\n",
    "# embed the input into a sequence of vectors of size query_maxlen\n",
    "input_encoder_c=Sequential()\n",
    "input_encoder_c.add(Embedding(input_dim=vocab_size,output_dim=maximum_question_len))\n",
    "input_encoder_c.add(Dropout(0.3))\n",
    "# output: (samples, story_maxlen, query_maxlen)"
   ]
  },
  {
   "cell_type": "code",
   "execution_count": 35,
   "metadata": {},
   "outputs": [],
   "source": [
    "#question ENCODER C\n",
    "# embed the question into a sequence of vectors\n",
    "question_encoder=Sequential()\n",
    "question_encoder.add(Embedding(input_dim=vocab_size,output_dim=64,input_length=maximum_question_len))\n",
    "question_encoder.add(Dropout(0.3))"
   ]
  },
  {
   "cell_type": "code",
   "execution_count": 36,
   "metadata": {},
   "outputs": [],
   "source": [
    "#Encoded<---encoder(input)\n",
    "# encode input sequence and questions (which are indices)\n",
    "# to sequences of dense vectors\n",
    "input_encoded_m =input_encoder_m(input_sequence)\n",
    "input_encoded_c =input_encoder_c(input_sequence)\n",
    "question_encoded=question_encoder(question)"
   ]
  },
  {
   "cell_type": "markdown",
   "metadata": {},
   "source": [
    "Use dot product to compute the match between first input vector seq and the query"
   ]
  },
  {
   "cell_type": "code",
   "execution_count": 38,
   "metadata": {},
   "outputs": [],
   "source": [
    "# shape: `(samples, story_maxlen, query_maxlen)`\n",
    "match = dot([input_encoded_m, question_encoded], axes=(2, 2))\n",
    "match = Activation('softmax')(match)"
   ]
  },
  {
   "cell_type": "code",
   "execution_count": 39,
   "metadata": {},
   "outputs": [],
   "source": [
    "# add the match matrix with the second input vector sequence\n",
    "response = add([match, input_encoded_c])  # (samples, story_maxlen, query_maxlen)\n",
    "response = Permute((2, 1))(response)  # (samples, query_maxlen, story_maxlen)"
   ]
  },
  {
   "cell_type": "code",
   "execution_count": 40,
   "metadata": {},
   "outputs": [],
   "source": [
    "# concatenate the match matrix with the question vector sequence\n",
    "answer=concatenate([response,question_encoded])"
   ]
  },
  {
   "cell_type": "code",
   "execution_count": 41,
   "metadata": {},
   "outputs": [
    {
     "data": {
      "text/plain": [
       "<KerasTensor: shape=(None, 6, 220) dtype=float32 (created by layer 'concatenate')>"
      ]
     },
     "execution_count": 41,
     "metadata": {},
     "output_type": "execute_result"
    }
   ],
   "source": [
    "answer"
   ]
  },
  {
   "cell_type": "code",
   "execution_count": 42,
   "metadata": {},
   "outputs": [],
   "source": [
    "# Reduce with RNN (LSTM)\n",
    "answer=LSTM(32)(answer)"
   ]
  },
  {
   "cell_type": "code",
   "execution_count": 43,
   "metadata": {},
   "outputs": [],
   "source": [
    "# Regularization with Dropout\n",
    "answer = Dropout(0.5)(answer)\n",
    "answer = Dense(vocab_size)(answer)  # (samples, vocab_size)"
   ]
  },
  {
   "cell_type": "code",
   "execution_count": 44,
   "metadata": {},
   "outputs": [],
   "source": [
    "# we output a probability distribution over the vocabulary\n",
    "answer = Activation('softmax')(answer)\n",
    "\n",
    "# build the final model\n",
    "model = Model([input_sequence, question], answer)\n",
    "model.compile(optimizer='rmsprop', loss='categorical_crossentropy',\n",
    "              metrics=['accuracy'])"
   ]
  },
  {
   "cell_type": "code",
   "execution_count": 45,
   "metadata": {},
   "outputs": [
    {
     "name": "stdout",
     "output_type": "stream",
     "text": [
      "Model: \"model\"\n",
      "__________________________________________________________________________________________________\n",
      "Layer (type)                    Output Shape         Param #     Connected to                     \n",
      "==================================================================================================\n",
      "input_3 (InputLayer)            [(None, 156)]        0                                            \n",
      "__________________________________________________________________________________________________\n",
      "input_4 (InputLayer)            [(None, 6)]          0                                            \n",
      "__________________________________________________________________________________________________\n",
      "sequential (Sequential)         (None, None, 64)     2432        input_3[0][0]                    \n",
      "__________________________________________________________________________________________________\n",
      "sequential_3 (Sequential)       (None, 6, 64)        2432        input_4[0][0]                    \n",
      "__________________________________________________________________________________________________\n",
      "dot (Dot)                       (None, 156, 6)       0           sequential[0][0]                 \n",
      "                                                                 sequential_3[0][0]               \n",
      "__________________________________________________________________________________________________\n",
      "activation (Activation)         (None, 156, 6)       0           dot[0][0]                        \n",
      "__________________________________________________________________________________________________\n",
      "sequential_1 (Sequential)       (None, None, 6)      228         input_3[0][0]                    \n",
      "__________________________________________________________________________________________________\n",
      "add (Add)                       (None, 156, 6)       0           activation[0][0]                 \n",
      "                                                                 sequential_1[0][0]               \n",
      "__________________________________________________________________________________________________\n",
      "permute (Permute)               (None, 6, 156)       0           add[0][0]                        \n",
      "__________________________________________________________________________________________________\n",
      "concatenate (Concatenate)       (None, 6, 220)       0           permute[0][0]                    \n",
      "                                                                 sequential_3[0][0]               \n",
      "__________________________________________________________________________________________________\n",
      "lstm (LSTM)                     (None, 32)           32384       concatenate[0][0]                \n",
      "__________________________________________________________________________________________________\n",
      "dropout_4 (Dropout)             (None, 32)           0           lstm[0][0]                       \n",
      "__________________________________________________________________________________________________\n",
      "dense (Dense)                   (None, 38)           1254        dropout_4[0][0]                  \n",
      "__________________________________________________________________________________________________\n",
      "activation_1 (Activation)       (None, 38)           0           dense[0][0]                      \n",
      "==================================================================================================\n",
      "Total params: 38,730\n",
      "Trainable params: 38,730\n",
      "Non-trainable params: 0\n",
      "__________________________________________________________________________________________________\n"
     ]
    }
   ],
   "source": [
    "model.summary()"
   ]
  },
  {
   "cell_type": "code",
   "execution_count": 46,
   "metadata": {},
   "outputs": [
    {
     "name": "stdout",
     "output_type": "stream",
     "text": [
      "Epoch 1/120\n",
      "313/313 [==============================] - 6s 11ms/step - loss: 0.9066 - accuracy: 0.4871 - val_loss: 0.6979 - val_accuracy: 0.5030\n",
      "Epoch 2/120\n",
      "313/313 [==============================] - 3s 10ms/step - loss: 0.7041 - accuracy: 0.4938 - val_loss: 0.6935 - val_accuracy: 0.4970\n",
      "Epoch 3/120\n",
      "313/313 [==============================] - 3s 11ms/step - loss: 0.6970 - accuracy: 0.4880 - val_loss: 0.6933 - val_accuracy: 0.4970\n",
      "Epoch 4/120\n",
      "313/313 [==============================] - 5s 15ms/step - loss: 0.6938 - accuracy: 0.5101 - val_loss: 0.6987 - val_accuracy: 0.4970\n",
      "Epoch 5/120\n",
      "313/313 [==============================] - 4s 14ms/step - loss: 0.6953 - accuracy: 0.4969 - val_loss: 0.6941 - val_accuracy: 0.5030\n",
      "Epoch 6/120\n",
      "313/313 [==============================] - 5s 15ms/step - loss: 0.6943 - accuracy: 0.5025 - val_loss: 0.6945 - val_accuracy: 0.5030\n",
      "Epoch 7/120\n",
      "313/313 [==============================] - 5s 14ms/step - loss: 0.6949 - accuracy: 0.4907 - val_loss: 0.6936 - val_accuracy: 0.4970\n",
      "Epoch 8/120\n",
      "313/313 [==============================] - 4s 14ms/step - loss: 0.6942 - accuracy: 0.5035 - val_loss: 0.6959 - val_accuracy: 0.4970\n",
      "Epoch 9/120\n",
      "313/313 [==============================] - 4s 14ms/step - loss: 0.6934 - accuracy: 0.5077 - val_loss: 0.6946 - val_accuracy: 0.5010\n",
      "Epoch 10/120\n",
      "313/313 [==============================] - 4s 14ms/step - loss: 0.6861 - accuracy: 0.5426 - val_loss: 0.6835 - val_accuracy: 0.5390\n",
      "Epoch 11/120\n",
      "313/313 [==============================] - 4s 14ms/step - loss: 0.6613 - accuracy: 0.5992 - val_loss: 0.6480 - val_accuracy: 0.6560\n",
      "Epoch 12/120\n",
      "313/313 [==============================] - 4s 14ms/step - loss: 0.6457 - accuracy: 0.6316 - val_loss: 0.6356 - val_accuracy: 0.6600\n",
      "Epoch 13/120\n",
      "313/313 [==============================] - 4s 13ms/step - loss: 0.6369 - accuracy: 0.6440 - val_loss: 0.6299 - val_accuracy: 0.6590\n",
      "Epoch 14/120\n",
      "313/313 [==============================] - 4s 13ms/step - loss: 0.6273 - accuracy: 0.6579 - val_loss: 0.6237 - val_accuracy: 0.6560\n",
      "Epoch 15/120\n",
      "313/313 [==============================] - 4s 14ms/step - loss: 0.6208 - accuracy: 0.6642 - val_loss: 0.6224 - val_accuracy: 0.6580\n",
      "Epoch 16/120\n",
      "313/313 [==============================] - 4s 14ms/step - loss: 0.6129 - accuracy: 0.6727 - val_loss: 0.6077 - val_accuracy: 0.6680\n",
      "Epoch 17/120\n",
      "313/313 [==============================] - 5s 15ms/step - loss: 0.6056 - accuracy: 0.6826 - val_loss: 0.6079 - val_accuracy: 0.6670\n",
      "Epoch 18/120\n",
      "313/313 [==============================] - 4s 14ms/step - loss: 0.5934 - accuracy: 0.6930 - val_loss: 0.5929 - val_accuracy: 0.6730\n",
      "Epoch 19/120\n",
      "313/313 [==============================] - 4s 14ms/step - loss: 0.5870 - accuracy: 0.6939 - val_loss: 0.5815 - val_accuracy: 0.6830\n",
      "Epoch 20/120\n",
      "313/313 [==============================] - 4s 14ms/step - loss: 0.5737 - accuracy: 0.7030 - val_loss: 0.5931 - val_accuracy: 0.6800\n",
      "Epoch 21/120\n",
      "313/313 [==============================] - 4s 14ms/step - loss: 0.5625 - accuracy: 0.7133 - val_loss: 0.5708 - val_accuracy: 0.6860\n",
      "Epoch 22/120\n",
      "313/313 [==============================] - 4s 14ms/step - loss: 0.5491 - accuracy: 0.7205 - val_loss: 0.5531 - val_accuracy: 0.7120\n",
      "Epoch 23/120\n",
      "313/313 [==============================] - 4s 14ms/step - loss: 0.5346 - accuracy: 0.7294 - val_loss: 0.5369 - val_accuracy: 0.7240\n",
      "Epoch 24/120\n",
      "313/313 [==============================] - 4s 14ms/step - loss: 0.5170 - accuracy: 0.7446 - val_loss: 0.5217 - val_accuracy: 0.7330\n",
      "Epoch 25/120\n",
      "313/313 [==============================] - 4s 14ms/step - loss: 0.5006 - accuracy: 0.7546 - val_loss: 0.5214 - val_accuracy: 0.7400\n",
      "Epoch 26/120\n",
      "313/313 [==============================] - 4s 14ms/step - loss: 0.4884 - accuracy: 0.7590 - val_loss: 0.4931 - val_accuracy: 0.7640\n",
      "Epoch 27/120\n",
      "313/313 [==============================] - 4s 14ms/step - loss: 0.4812 - accuracy: 0.7709 - val_loss: 0.4926 - val_accuracy: 0.7570\n",
      "Epoch 28/120\n",
      "313/313 [==============================] - 4s 14ms/step - loss: 0.4749 - accuracy: 0.7766 - val_loss: 0.4758 - val_accuracy: 0.7780\n",
      "Epoch 29/120\n",
      "313/313 [==============================] - 4s 14ms/step - loss: 0.4641 - accuracy: 0.7821 - val_loss: 0.4813 - val_accuracy: 0.7850\n",
      "Epoch 30/120\n",
      "313/313 [==============================] - 5s 15ms/step - loss: 0.4555 - accuracy: 0.7899 - val_loss: 0.4839 - val_accuracy: 0.7680\n",
      "Epoch 31/120\n",
      "313/313 [==============================] - 5s 15ms/step - loss: 0.4463 - accuracy: 0.7963 - val_loss: 0.4683 - val_accuracy: 0.7760\n",
      "Epoch 32/120\n",
      "313/313 [==============================] - 5s 14ms/step - loss: 0.4399 - accuracy: 0.8016 - val_loss: 0.4744 - val_accuracy: 0.7770\n",
      "Epoch 33/120\n",
      "313/313 [==============================] - 5s 15ms/step - loss: 0.4348 - accuracy: 0.8003 - val_loss: 0.4643 - val_accuracy: 0.7970\n",
      "Epoch 34/120\n",
      "313/313 [==============================] - 4s 14ms/step - loss: 0.4335 - accuracy: 0.7994 - val_loss: 0.4540 - val_accuracy: 0.7890\n",
      "Epoch 35/120\n",
      "313/313 [==============================] - 4s 13ms/step - loss: 0.4260 - accuracy: 0.8080 - val_loss: 0.4735 - val_accuracy: 0.7850\n",
      "Epoch 36/120\n",
      "313/313 [==============================] - 5s 16ms/step - loss: 0.4216 - accuracy: 0.8106 - val_loss: 0.4477 - val_accuracy: 0.7980\n",
      "Epoch 37/120\n",
      "313/313 [==============================] - 5s 17ms/step - loss: 0.4228 - accuracy: 0.8066 - val_loss: 0.4590 - val_accuracy: 0.7890\n",
      "Epoch 38/120\n",
      "313/313 [==============================] - 4s 14ms/step - loss: 0.4173 - accuracy: 0.8110 - val_loss: 0.4405 - val_accuracy: 0.7990\n",
      "Epoch 39/120\n",
      "313/313 [==============================] - 5s 16ms/step - loss: 0.4102 - accuracy: 0.8123 - val_loss: 0.4657 - val_accuracy: 0.7910\n",
      "Epoch 40/120\n",
      "313/313 [==============================] - 4s 14ms/step - loss: 0.4054 - accuracy: 0.8189 - val_loss: 0.4460 - val_accuracy: 0.7940\n",
      "Epoch 41/120\n",
      "313/313 [==============================] - 4s 13ms/step - loss: 0.4081 - accuracy: 0.8135 - val_loss: 0.4629 - val_accuracy: 0.7930\n",
      "Epoch 42/120\n",
      "313/313 [==============================] - 4s 13ms/step - loss: 0.4036 - accuracy: 0.8172 - val_loss: 0.4428 - val_accuracy: 0.8020\n",
      "Epoch 43/120\n",
      "313/313 [==============================] - 4s 14ms/step - loss: 0.3971 - accuracy: 0.8171 - val_loss: 0.4582 - val_accuracy: 0.7950\n",
      "Epoch 44/120\n",
      "313/313 [==============================] - 4s 14ms/step - loss: 0.3974 - accuracy: 0.8223 - val_loss: 0.4544 - val_accuracy: 0.8060\n",
      "Epoch 45/120\n",
      "313/313 [==============================] - 4s 13ms/step - loss: 0.3989 - accuracy: 0.8232 - val_loss: 0.4386 - val_accuracy: 0.8070\n",
      "Epoch 46/120\n",
      "313/313 [==============================] - 4s 13ms/step - loss: 0.4035 - accuracy: 0.8162 - val_loss: 0.4604 - val_accuracy: 0.7920\n",
      "Epoch 47/120\n",
      "313/313 [==============================] - 4s 13ms/step - loss: 0.3907 - accuracy: 0.8213 - val_loss: 0.4698 - val_accuracy: 0.8030\n",
      "Epoch 48/120\n",
      "313/313 [==============================] - 4s 13ms/step - loss: 0.3887 - accuracy: 0.8275 - val_loss: 0.4628 - val_accuracy: 0.7950\n",
      "Epoch 49/120\n",
      "313/313 [==============================] - 4s 13ms/step - loss: 0.3856 - accuracy: 0.8247 - val_loss: 0.4430 - val_accuracy: 0.8030\n",
      "Epoch 50/120\n",
      "313/313 [==============================] - 4s 13ms/step - loss: 0.3869 - accuracy: 0.8237 - val_loss: 0.4553 - val_accuracy: 0.7990\n",
      "Epoch 51/120\n",
      "313/313 [==============================] - 4s 13ms/step - loss: 0.3844 - accuracy: 0.8257 - val_loss: 0.4634 - val_accuracy: 0.7930\n",
      "Epoch 52/120\n",
      "313/313 [==============================] - 4s 13ms/step - loss: 0.3871 - accuracy: 0.8244 - val_loss: 0.4479 - val_accuracy: 0.8010\n",
      "Epoch 53/120\n",
      "313/313 [==============================] - 4s 13ms/step - loss: 0.3832 - accuracy: 0.8273 - val_loss: 0.4577 - val_accuracy: 0.7850\n",
      "Epoch 54/120\n",
      "313/313 [==============================] - 4s 13ms/step - loss: 0.3816 - accuracy: 0.8236 - val_loss: 0.4676 - val_accuracy: 0.8000\n",
      "Epoch 55/120\n",
      "313/313 [==============================] - 4s 13ms/step - loss: 0.3807 - accuracy: 0.8262 - val_loss: 0.4547 - val_accuracy: 0.7840\n",
      "Epoch 56/120\n",
      "313/313 [==============================] - 4s 13ms/step - loss: 0.3841 - accuracy: 0.8259 - val_loss: 0.4546 - val_accuracy: 0.8020\n",
      "Epoch 57/120\n"
     ]
    },
    {
     "name": "stdout",
     "output_type": "stream",
     "text": [
      "313/313 [==============================] - 5s 17ms/step - loss: 0.3752 - accuracy: 0.8306 - val_loss: 0.4449 - val_accuracy: 0.7980\n",
      "Epoch 58/120\n",
      "313/313 [==============================] - 4s 14ms/step - loss: 0.3729 - accuracy: 0.8295 - val_loss: 0.4733 - val_accuracy: 0.7890\n",
      "Epoch 59/120\n",
      "313/313 [==============================] - 5s 16ms/step - loss: 0.3750 - accuracy: 0.8298 - val_loss: 0.4645 - val_accuracy: 0.7970\n",
      "Epoch 60/120\n",
      "313/313 [==============================] - 6s 18ms/step - loss: 0.3749 - accuracy: 0.8314 - val_loss: 0.4575 - val_accuracy: 0.7990\n",
      "Epoch 61/120\n",
      "313/313 [==============================] - 5s 16ms/step - loss: 0.3741 - accuracy: 0.8296 - val_loss: 0.4602 - val_accuracy: 0.7960\n",
      "Epoch 62/120\n",
      "313/313 [==============================] - 5s 15ms/step - loss: 0.3666 - accuracy: 0.8368 - val_loss: 0.4676 - val_accuracy: 0.7960\n",
      "Epoch 63/120\n",
      "313/313 [==============================] - 5s 16ms/step - loss: 0.3699 - accuracy: 0.8310 - val_loss: 0.4580 - val_accuracy: 0.7990\n",
      "Epoch 64/120\n",
      "313/313 [==============================] - 4s 14ms/step - loss: 0.3659 - accuracy: 0.8319 - val_loss: 0.4756 - val_accuracy: 0.7970\n",
      "Epoch 65/120\n",
      "313/313 [==============================] - 4s 14ms/step - loss: 0.3687 - accuracy: 0.8323 - val_loss: 0.4663 - val_accuracy: 0.7960\n",
      "Epoch 66/120\n",
      "313/313 [==============================] - 5s 15ms/step - loss: 0.3656 - accuracy: 0.8362 - val_loss: 0.4673 - val_accuracy: 0.7910\n",
      "Epoch 67/120\n",
      "313/313 [==============================] - 4s 13ms/step - loss: 0.3670 - accuracy: 0.8381 - val_loss: 0.4921 - val_accuracy: 0.7910\n",
      "Epoch 68/120\n",
      "313/313 [==============================] - 4s 13ms/step - loss: 0.3664 - accuracy: 0.8311 - val_loss: 0.4773 - val_accuracy: 0.7910\n",
      "Epoch 69/120\n",
      "313/313 [==============================] - 4s 13ms/step - loss: 0.3587 - accuracy: 0.8397 - val_loss: 0.4977 - val_accuracy: 0.7960\n",
      "Epoch 70/120\n",
      "313/313 [==============================] - 4s 13ms/step - loss: 0.3578 - accuracy: 0.8392 - val_loss: 0.4779 - val_accuracy: 0.7940\n",
      "Epoch 71/120\n",
      "313/313 [==============================] - 4s 13ms/step - loss: 0.3520 - accuracy: 0.8433 - val_loss: 0.4881 - val_accuracy: 0.7950\n",
      "Epoch 72/120\n",
      "313/313 [==============================] - 4s 13ms/step - loss: 0.3533 - accuracy: 0.8411 - val_loss: 0.4939 - val_accuracy: 0.7790\n",
      "Epoch 73/120\n",
      "313/313 [==============================] - 4s 13ms/step - loss: 0.3508 - accuracy: 0.8399 - val_loss: 0.5119 - val_accuracy: 0.7860\n",
      "Epoch 74/120\n",
      "313/313 [==============================] - 4s 14ms/step - loss: 0.3543 - accuracy: 0.8401 - val_loss: 0.4938 - val_accuracy: 0.7980\n",
      "Epoch 75/120\n",
      "313/313 [==============================] - 4s 13ms/step - loss: 0.3469 - accuracy: 0.8420 - val_loss: 0.4868 - val_accuracy: 0.8020\n",
      "Epoch 76/120\n",
      "313/313 [==============================] - 4s 14ms/step - loss: 0.3434 - accuracy: 0.8472 - val_loss: 0.4875 - val_accuracy: 0.7960\n",
      "Epoch 77/120\n",
      "313/313 [==============================] - 4s 14ms/step - loss: 0.3494 - accuracy: 0.8452 - val_loss: 0.5284 - val_accuracy: 0.7950\n",
      "Epoch 78/120\n",
      "313/313 [==============================] - 4s 14ms/step - loss: 0.3467 - accuracy: 0.8459 - val_loss: 0.5150 - val_accuracy: 0.7950\n",
      "Epoch 79/120\n",
      "313/313 [==============================] - 4s 13ms/step - loss: 0.3484 - accuracy: 0.8440 - val_loss: 0.5221 - val_accuracy: 0.7930\n",
      "Epoch 80/120\n",
      "313/313 [==============================] - 4s 13ms/step - loss: 0.3425 - accuracy: 0.8501 - val_loss: 0.5091 - val_accuracy: 0.7950\n",
      "Epoch 81/120\n",
      "313/313 [==============================] - 4s 13ms/step - loss: 0.3433 - accuracy: 0.8477 - val_loss: 0.5376 - val_accuracy: 0.7930\n",
      "Epoch 82/120\n",
      "313/313 [==============================] - 4s 13ms/step - loss: 0.3405 - accuracy: 0.8477 - val_loss: 0.4967 - val_accuracy: 0.7990\n",
      "Epoch 83/120\n",
      "313/313 [==============================] - 4s 14ms/step - loss: 0.3339 - accuracy: 0.8526 - val_loss: 0.5380 - val_accuracy: 0.7960\n",
      "Epoch 84/120\n",
      "313/313 [==============================] - 4s 13ms/step - loss: 0.3358 - accuracy: 0.8496 - val_loss: 0.5075 - val_accuracy: 0.8020\n",
      "Epoch 85/120\n",
      "313/313 [==============================] - 4s 13ms/step - loss: 0.3387 - accuracy: 0.8476 - val_loss: 0.4750 - val_accuracy: 0.7920\n",
      "Epoch 86/120\n",
      "313/313 [==============================] - 4s 13ms/step - loss: 0.3377 - accuracy: 0.8477 - val_loss: 0.5149 - val_accuracy: 0.8010\n",
      "Epoch 87/120\n",
      "313/313 [==============================] - 4s 13ms/step - loss: 0.3346 - accuracy: 0.8533 - val_loss: 0.5331 - val_accuracy: 0.7970\n",
      "Epoch 88/120\n",
      "313/313 [==============================] - 4s 14ms/step - loss: 0.3358 - accuracy: 0.8466 - val_loss: 0.5143 - val_accuracy: 0.7870\n",
      "Epoch 89/120\n",
      "313/313 [==============================] - 4s 14ms/step - loss: 0.3331 - accuracy: 0.8517 - val_loss: 0.5319 - val_accuracy: 0.8000\n",
      "Epoch 90/120\n",
      "313/313 [==============================] - 5s 16ms/step - loss: 0.3295 - accuracy: 0.8541 - val_loss: 0.5219 - val_accuracy: 0.7940\n",
      "Epoch 91/120\n",
      "313/313 [==============================] - 5s 16ms/step - loss: 0.3284 - accuracy: 0.8524 - val_loss: 0.5185 - val_accuracy: 0.8030\n",
      "Epoch 92/120\n",
      "313/313 [==============================] - 4s 13ms/step - loss: 0.3315 - accuracy: 0.8563 - val_loss: 0.5330 - val_accuracy: 0.7970\n",
      "Epoch 93/120\n",
      "313/313 [==============================] - 4s 13ms/step - loss: 0.3211 - accuracy: 0.8573 - val_loss: 0.5164 - val_accuracy: 0.7940loss: 0.3212 - accuracy - ETA: 1s - loss: 0.3260 - ac - ETA: 1s - - ETA: 0s - loss: 0.3195 - ac\n",
      "Epoch 94/120\n",
      "313/313 [==============================] - 5s 16ms/step - loss: 0.3261 - accuracy: 0.8562 - val_loss: 0.5356 - val_accuracy: 0.7930\n",
      "Epoch 95/120\n",
      "313/313 [==============================] - 5s 16ms/step - loss: 0.3242 - accuracy: 0.8575 - val_loss: 0.5328 - val_accuracy: 0.7950\n",
      "Epoch 96/120\n",
      "313/313 [==============================] - 5s 17ms/step - loss: 0.3173 - accuracy: 0.8592 - val_loss: 0.5373 - val_accuracy: 0.7950\n",
      "Epoch 97/120\n",
      "313/313 [==============================] - 5s 15ms/step - loss: 0.3227 - accuracy: 0.8570 - val_loss: 0.5326 - val_accuracy: 0.7920\n",
      "Epoch 98/120\n",
      "313/313 [==============================] - 4s 14ms/step - loss: 0.3142 - accuracy: 0.8596 - val_loss: 0.5432 - val_accuracy: 0.7950\n",
      "Epoch 99/120\n",
      "313/313 [==============================] - 4s 13ms/step - loss: 0.3214 - accuracy: 0.8611 - val_loss: 0.5183 - val_accuracy: 0.7970\n",
      "Epoch 100/120\n",
      "313/313 [==============================] - 4s 13ms/step - loss: 0.3193 - accuracy: 0.8632 - val_loss: 0.5391 - val_accuracy: 0.7900\n",
      "Epoch 101/120\n",
      "313/313 [==============================] - 5s 15ms/step - loss: 0.3120 - accuracy: 0.8623 - val_loss: 0.5553 - val_accuracy: 0.7890\n",
      "Epoch 102/120\n",
      "313/313 [==============================] - 5s 16ms/step - loss: 0.3137 - accuracy: 0.8613 - val_loss: 0.5406 - val_accuracy: 0.7930\n",
      "Epoch 103/120\n",
      "313/313 [==============================] - 4s 14ms/step - loss: 0.3101 - accuracy: 0.8627 - val_loss: 0.5267 - val_accuracy: 0.7920\n",
      "Epoch 104/120\n",
      "313/313 [==============================] - 5s 15ms/step - loss: 0.3064 - accuracy: 0.8659 - val_loss: 0.5459 - val_accuracy: 0.7900\n",
      "Epoch 105/120\n",
      "313/313 [==============================] - 4s 13ms/step - loss: 0.3113 - accuracy: 0.8642 - val_loss: 0.5482 - val_accuracy: 0.7910\n",
      "Epoch 106/120\n",
      "313/313 [==============================] - 4s 13ms/step - loss: 0.3098 - accuracy: 0.8626 - val_loss: 0.5248 - val_accuracy: 0.7950\n",
      "Epoch 107/120\n",
      "313/313 [==============================] - 5s 16ms/step - loss: 0.3066 - accuracy: 0.8670 - val_loss: 0.5451 - val_accuracy: 0.7920\n",
      "Epoch 108/120\n",
      "313/313 [==============================] - 5s 15ms/step - loss: 0.3066 - accuracy: 0.8644 - val_loss: 0.5406 - val_accuracy: 0.7930\n",
      "Epoch 109/120\n",
      "313/313 [==============================] - 4s 13ms/step - loss: 0.3044 - accuracy: 0.8687 - val_loss: 0.5414 - val_accuracy: 0.7930\n",
      "Epoch 110/120\n",
      "313/313 [==============================] - 4s 13ms/step - loss: 0.2971 - accuracy: 0.8717 - val_loss: 0.5883 - val_accuracy: 0.7940\n",
      "Epoch 111/120\n",
      "313/313 [==============================] - 4s 13ms/step - loss: 0.3022 - accuracy: 0.8661 - val_loss: 0.5562 - val_accuracy: 0.7970\n",
      "Epoch 112/120\n",
      "313/313 [==============================] - 5s 15ms/step - loss: 0.2973 - accuracy: 0.8694 - val_loss: 0.5588 - val_accuracy: 0.7980\n"
     ]
    },
    {
     "name": "stdout",
     "output_type": "stream",
     "text": [
      "Epoch 113/120\n",
      "313/313 [==============================] - 4s 14ms/step - loss: 0.2975 - accuracy: 0.8689 - val_loss: 0.5493 - val_accuracy: 0.7920\n",
      "Epoch 114/120\n",
      "313/313 [==============================] - 5s 15ms/step - loss: 0.2986 - accuracy: 0.8708 - val_loss: 0.5686 - val_accuracy: 0.7960\n",
      "Epoch 115/120\n",
      "313/313 [==============================] - 5s 17ms/step - loss: 0.2998 - accuracy: 0.8660 - val_loss: 0.5773 - val_accuracy: 0.7990\n",
      "Epoch 116/120\n",
      "313/313 [==============================] - 4s 13ms/step - loss: 0.2947 - accuracy: 0.8724 - val_loss: 0.5572 - val_accuracy: 0.7950\n",
      "Epoch 117/120\n",
      "313/313 [==============================] - 4s 14ms/step - loss: 0.2943 - accuracy: 0.8692 - val_loss: 0.5499 - val_accuracy: 0.7980\n",
      "Epoch 118/120\n",
      "313/313 [==============================] - 5s 16ms/step - loss: 0.2914 - accuracy: 0.8754 - val_loss: 0.5377 - val_accuracy: 0.7950\n",
      "Epoch 119/120\n",
      "313/313 [==============================] - 5s 16ms/step - loss: 0.2922 - accuracy: 0.8714 - val_loss: 0.5329 - val_accuracy: 0.8020\n",
      "Epoch 120/120\n",
      "313/313 [==============================] - 4s 13ms/step - loss: 0.2931 - accuracy: 0.8728 - val_loss: 0.5459 - val_accuracy: 0.7950\n"
     ]
    }
   ],
   "source": [
    "# train\n",
    "history = model.fit([inputs_train, queries_train], answers_train,batch_size=32,epochs=120,validation_data=([inputs_test, queries_test], answers_test))"
   ]
  },
  {
   "cell_type": "markdown",
   "metadata": {},
   "source": [
    "Saving the model"
   ]
  },
  {
   "cell_type": "code",
   "execution_count": 47,
   "metadata": {
    "scrolled": true
   },
   "outputs": [
    {
     "name": "stderr",
     "output_type": "stream",
     "text": [
      "C:\\Users\\kmegh\\anaconda3\\lib\\site-packages\\keras\\utils\\generic_utils.py:494: CustomMaskWarning: Custom mask layers require a config and must override get_config. When loading, the custom mask layer must be passed to the custom_objects argument.\n",
      "  warnings.warn('Custom mask layers require a config and must override '\n"
     ]
    }
   ],
   "source": [
    "filename = 'chatbot_epochs.h5'\n",
    "model.save(filename)"
   ]
  },
  {
   "cell_type": "markdown",
   "metadata": {},
   "source": [
    "\n",
    "Plotting Out Training History"
   ]
  },
  {
   "cell_type": "code",
   "execution_count": 48,
   "metadata": {},
   "outputs": [
    {
     "name": "stdout",
     "output_type": "stream",
     "text": [
      "dict_keys(['loss', 'accuracy', 'val_loss', 'val_accuracy'])\n"
     ]
    }
   ],
   "source": [
    "history_dict = history.history\n",
    "print(history_dict.keys())"
   ]
  },
  {
   "cell_type": "code",
   "execution_count": 49,
   "metadata": {},
   "outputs": [
    {
     "name": "stdout",
     "output_type": "stream",
     "text": [
      "dict_keys(['loss', 'accuracy', 'val_loss', 'val_accuracy'])\n"
     ]
    },
    {
     "data": {
      "image/png": "[encoded data removed]",
      "text/plain": [
       "<Figure size 432x288 with 1 Axes>"
      ]
     },
     "metadata": {
      "needs_background": "light"
     },
     "output_type": "display_data"
    }
   ],
   "source": [
    "import matplotlib.pyplot as plt\n",
    "%matplotlib inline\n",
    "print(history.history.keys())\n",
    "# summarize history for accuracy\n",
    "plt.plot(history.history['accuracy'])\n",
    "plt.plot(history.history['val_accuracy'])\n",
    "plt.title('model accuracy')\n",
    "plt.ylabel('accuracy')\n",
    "plt.xlabel('epoch')\n",
    "plt.legend(['train', 'test'], loc='upper left')\n",
    "plt.show()"
   ]
  },
  {
   "cell_type": "markdown",
   "metadata": {},
   "source": [
    "Evaluating on Given Test Set"
   ]
  },
  {
   "cell_type": "code",
   "execution_count": 50,
   "metadata": {},
   "outputs": [],
   "source": [
    "model.load_weights(filename)\n",
    "pred_results = model.predict(([inputs_test, queries_test]))"
   ]
  },
  {
   "cell_type": "code",
   "execution_count": 51,
   "metadata": {},
   "outputs": [
    {
     "name": "stdout",
     "output_type": "stream",
     "text": [
      "Mary got the milk there . John moved to the bedroom .\n",
      "Is John in the kitchen ?\n"
     ]
    }
   ],
   "source": [
    "story =' '.join(word for word in test_data[0][0])\n",
    "print(story)\n",
    "query = ' '.join(word for word in test_data[0][1])\n",
    "print(query)"
   ]
  },
  {
   "cell_type": "code",
   "execution_count": 52,
   "metadata": {},
   "outputs": [
    {
     "name": "stdout",
     "output_type": "stream",
     "text": [
      "True Test Answer from Data is: no\n"
     ]
    }
   ],
   "source": [
    "print(\"True Test Answer from Data is:\",test_data[0][2])"
   ]
  },
  {
   "cell_type": "code",
   "execution_count": 53,
   "metadata": {},
   "outputs": [
    {
     "name": "stdout",
     "output_type": "stream",
     "text": [
      "Predicted answer is:  no\n",
      "Probability of certainty was:  0.9923131\n"
     ]
    }
   ],
   "source": [
    "#Generate prediction from model\n",
    "val_max = np.argmax(pred_results[0])\n",
    "\n",
    "for key, val in tokenizer.word_index.items():\n",
    "    if val == val_max:\n",
    "        k = key\n",
    "\n",
    "print(\"Predicted answer is: \", k)\n",
    "print(\"Probability of certainty was: \", pred_results[0][val_max])"
   ]
  },
  {
   "cell_type": "code",
   "execution_count": null,
   "metadata": {
    "scrolled": true
   },
   "outputs": [],
   "source": []
  },
  {
   "cell_type": "code",
   "execution_count": null,
   "metadata": {},
   "outputs": [],
   "source": []
  },
  {
   "cell_type": "code",
   "execution_count": null,
   "metadata": {},
   "outputs": [],
   "source": []
  },
  {
   "cell_type": "code",
   "execution_count": 62,
   "metadata": {},
   "outputs": [],
   "source": []
  },
  {
   "cell_type": "code",
   "execution_count": 63,
   "metadata": {},
   "outputs": [],
   "source": []
  },
  {
   "cell_type": "code",
   "execution_count": null,
   "metadata": {},
   "outputs": [],
   "source": []
  },
  {
   "cell_type": "code",
   "execution_count": 50,
   "metadata": {},
   "outputs": [],
   "source": []
  },
  {
   "cell_type": "code",
   "execution_count": null,
   "metadata": {},
   "outputs": [],
   "source": []
  }
 ],
 "metadata": {
  "kernelspec": {
   "display_name": "Python 3",
   "language": "python",
   "name": "python3"
  },
  "language_info": {
   "codemirror_mode": {
    "name": "ipython",
    "version": 3
   },
   "file_extension": ".py",
   "mimetype": "text/x-python",
   "name": "python",
   "nbconvert_exporter": "python",
   "pygments_lexer": "ipython3",
   "version": "3.8.5"
  }
 },
 "nbformat": 4,
 "nbformat_minor": 5
}
