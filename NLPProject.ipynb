{
  "nbformat": 4,
  "nbformat_minor": 0,
  "metadata": {
    "colab": {
      "name": "NLPProject.ipynb",
      "provenance": [],
      "include_colab_link": true
    },
    "kernelspec": {
      "name": "python3",
      "display_name": "Python 3"
    },
    "language_info": {
      "name": "python"
    },
    "accelerator": "GPU",
    "widgets": {
      "application/vnd.jupyter.widget-state+json": {
        "029f3a97b2094eafa3eccb9a6de75e9e": {
          "model_module": "@jupyter-widgets/controls",
          "model_name": "HBoxModel",
          "model_module_version": "1.5.0",
          "state": {
            "_view_name": "HBoxView",
            "_dom_classes": [],
            "_model_name": "HBoxModel",
            "_view_module": "@jupyter-widgets/controls",
            "_model_module_version": "1.5.0",
            "_view_count": null,
            "_view_module_version": "1.5.0",
            "box_style": "",
            "layout": "IPY_MODEL_32272de61fe043028987378df9b4948a",
            "_model_module": "@jupyter-widgets/controls",
            "children": [
              "IPY_MODEL_3254d09aa438493eb3bde342c68f0b05",
              "IPY_MODEL_83c3cddd54de4becb9eef5ad405a6414",
              "IPY_MODEL_090e90c6d94445e08151ac182aa1e3f0"
            ]
          }
        },
        "32272de61fe043028987378df9b4948a": {
          "model_module": "@jupyter-widgets/base",
          "model_name": "LayoutModel",
          "model_module_version": "1.2.0",
          "state": {
            "_view_name": "LayoutView",
            "grid_template_rows": null,
            "right": null,
            "justify_content": null,
            "_view_module": "@jupyter-widgets/base",
            "overflow": null,
            "_model_module_version": "1.2.0",
            "_view_count": null,
            "flex_flow": null,
            "width": null,
            "min_width": null,
            "border": null,
            "align_items": null,
            "bottom": null,
            "_model_module": "@jupyter-widgets/base",
            "top": null,
            "grid_column": null,
            "overflow_y": null,
            "overflow_x": null,
            "grid_auto_flow": null,
            "grid_area": null,
            "grid_template_columns": null,
            "flex": null,
            "_model_name": "LayoutModel",
            "justify_items": null,
            "grid_row": null,
            "max_height": null,
            "align_content": null,
            "visibility": null,
            "align_self": null,
            "height": null,
            "min_height": null,
            "padding": null,
            "grid_auto_rows": null,
            "grid_gap": null,
            "max_width": null,
            "order": null,
            "_view_module_version": "1.2.0",
            "grid_template_areas": null,
            "object_position": null,
            "object_fit": null,
            "grid_auto_columns": null,
            "margin": null,
            "display": null,
            "left": null
          }
        },
        "3254d09aa438493eb3bde342c68f0b05": {
          "model_module": "@jupyter-widgets/controls",
          "model_name": "HTMLModel",
          "model_module_version": "1.5.0",
          "state": {
            "_view_name": "HTMLView",
            "style": "IPY_MODEL_b46756cd21484124b46fa3ef914a7c60",
            "_dom_classes": [],
            "description": "",
            "_model_name": "HTMLModel",
            "placeholder": "​",
            "_view_module": "@jupyter-widgets/controls",
            "_model_module_version": "1.5.0",
            "value": "Downloading: 100%",
            "_view_count": null,
            "_view_module_version": "1.5.0",
            "description_tooltip": null,
            "_model_module": "@jupyter-widgets/controls",
            "layout": "IPY_MODEL_5350394abd2948f692be3b590ef0cd1a"
          }
        },
        "83c3cddd54de4becb9eef5ad405a6414": {
          "model_module": "@jupyter-widgets/controls",
          "model_name": "FloatProgressModel",
          "model_module_version": "1.5.0",
          "state": {
            "_view_name": "ProgressView",
            "style": "IPY_MODEL_7368671fde7548c8a78982c92e5036ae",
            "_dom_classes": [],
            "description": "",
            "_model_name": "FloatProgressModel",
            "bar_style": "success",
            "max": 443,
            "_view_module": "@jupyter-widgets/controls",
            "_model_module_version": "1.5.0",
            "value": 443,
            "_view_count": null,
            "_view_module_version": "1.5.0",
            "orientation": "horizontal",
            "min": 0,
            "description_tooltip": null,
            "_model_module": "@jupyter-widgets/controls",
            "layout": "IPY_MODEL_d1d450bb779c40abb87b69cf625dd7e0"
          }
        },
        "090e90c6d94445e08151ac182aa1e3f0": {
          "model_module": "@jupyter-widgets/controls",
          "model_name": "HTMLModel",
          "model_module_version": "1.5.0",
          "state": {
            "_view_name": "HTMLView",
            "style": "IPY_MODEL_78d4e926fab04131a2d3340e7dc781a0",
            "_dom_classes": [],
            "description": "",
            "_model_name": "HTMLModel",
            "placeholder": "​",
            "_view_module": "@jupyter-widgets/controls",
            "_model_module_version": "1.5.0",
            "value": " 443/443 [00:00&lt;00:00, 10.6kB/s]",
            "_view_count": null,
            "_view_module_version": "1.5.0",
            "description_tooltip": null,
            "_model_module": "@jupyter-widgets/controls",
            "layout": "IPY_MODEL_78ae5a4230b7412ca5c26782e2d2ca1c"
          }
        },
        "b46756cd21484124b46fa3ef914a7c60": {
          "model_module": "@jupyter-widgets/controls",
          "model_name": "DescriptionStyleModel",
          "model_module_version": "1.5.0",
          "state": {
            "_view_name": "StyleView",
            "_model_name": "DescriptionStyleModel",
            "description_width": "",
            "_view_module": "@jupyter-widgets/base",
            "_model_module_version": "1.5.0",
            "_view_count": null,
            "_view_module_version": "1.2.0",
            "_model_module": "@jupyter-widgets/controls"
          }
        },
        "5350394abd2948f692be3b590ef0cd1a": {
          "model_module": "@jupyter-widgets/base",
          "model_name": "LayoutModel",
          "model_module_version": "1.2.0",
          "state": {
            "_view_name": "LayoutView",
            "grid_template_rows": null,
            "right": null,
            "justify_content": null,
            "_view_module": "@jupyter-widgets/base",
            "overflow": null,
            "_model_module_version": "1.2.0",
            "_view_count": null,
            "flex_flow": null,
            "width": null,
            "min_width": null,
            "border": null,
            "align_items": null,
            "bottom": null,
            "_model_module": "@jupyter-widgets/base",
            "top": null,
            "grid_column": null,
            "overflow_y": null,
            "overflow_x": null,
            "grid_auto_flow": null,
            "grid_area": null,
            "grid_template_columns": null,
            "flex": null,
            "_model_name": "LayoutModel",
            "justify_items": null,
            "grid_row": null,
            "max_height": null,
            "align_content": null,
            "visibility": null,
            "align_self": null,
            "height": null,
            "min_height": null,
            "padding": null,
            "grid_auto_rows": null,
            "grid_gap": null,
            "max_width": null,
            "order": null,
            "_view_module_version": "1.2.0",
            "grid_template_areas": null,
            "object_position": null,
            "object_fit": null,
            "grid_auto_columns": null,
            "margin": null,
            "display": null,
            "left": null
          }
        },
        "7368671fde7548c8a78982c92e5036ae": {
          "model_module": "@jupyter-widgets/controls",
          "model_name": "ProgressStyleModel",
          "model_module_version": "1.5.0",
          "state": {
            "_view_name": "StyleView",
            "_model_name": "ProgressStyleModel",
            "description_width": "",
            "_view_module": "@jupyter-widgets/base",
            "_model_module_version": "1.5.0",
            "_view_count": null,
            "_view_module_version": "1.2.0",
            "bar_color": null,
            "_model_module": "@jupyter-widgets/controls"
          }
        },
        "d1d450bb779c40abb87b69cf625dd7e0": {
          "model_module": "@jupyter-widgets/base",
          "model_name": "LayoutModel",
          "model_module_version": "1.2.0",
          "state": {
            "_view_name": "LayoutView",
            "grid_template_rows": null,
            "right": null,
            "justify_content": null,
            "_view_module": "@jupyter-widgets/base",
            "overflow": null,
            "_model_module_version": "1.2.0",
            "_view_count": null,
            "flex_flow": null,
            "width": null,
            "min_width": null,
            "border": null,
            "align_items": null,
            "bottom": null,
            "_model_module": "@jupyter-widgets/base",
            "top": null,
            "grid_column": null,
            "overflow_y": null,
            "overflow_x": null,
            "grid_auto_flow": null,
            "grid_area": null,
            "grid_template_columns": null,
            "flex": null,
            "_model_name": "LayoutModel",
            "justify_items": null,
            "grid_row": null,
            "max_height": null,
            "align_content": null,
            "visibility": null,
            "align_self": null,
            "height": null,
            "min_height": null,
            "padding": null,
            "grid_auto_rows": null,
            "grid_gap": null,
            "max_width": null,
            "order": null,
            "_view_module_version": "1.2.0",
            "grid_template_areas": null,
            "object_position": null,
            "object_fit": null,
            "grid_auto_columns": null,
            "margin": null,
            "display": null,
            "left": null
          }
        },
        "78d4e926fab04131a2d3340e7dc781a0": {
          "model_module": "@jupyter-widgets/controls",
          "model_name": "DescriptionStyleModel",
          "model_module_version": "1.5.0",
          "state": {
            "_view_name": "StyleView",
            "_model_name": "DescriptionStyleModel",
            "description_width": "",
            "_view_module": "@jupyter-widgets/base",
            "_model_module_version": "1.5.0",
            "_view_count": null,
            "_view_module_version": "1.2.0",
            "_model_module": "@jupyter-widgets/controls"
          }
        },
        "78ae5a4230b7412ca5c26782e2d2ca1c": {
          "model_module": "@jupyter-widgets/base",
          "model_name": "LayoutModel",
          "model_module_version": "1.2.0",
          "state": {
            "_view_name": "LayoutView",
            "grid_template_rows": null,
            "right": null,
            "justify_content": null,
            "_view_module": "@jupyter-widgets/base",
            "overflow": null,
            "_model_module_version": "1.2.0",
            "_view_count": null,
            "flex_flow": null,
            "width": null,
            "min_width": null,
            "border": null,
            "align_items": null,
            "bottom": null,
            "_model_module": "@jupyter-widgets/base",
            "top": null,
            "grid_column": null,
            "overflow_y": null,
            "overflow_x": null,
            "grid_auto_flow": null,
            "grid_area": null,
            "grid_template_columns": null,
            "flex": null,
            "_model_name": "LayoutModel",
            "justify_items": null,
            "grid_row": null,
            "max_height": null,
            "align_content": null,
            "visibility": null,
            "align_self": null,
            "height": null,
            "min_height": null,
            "padding": null,
            "grid_auto_rows": null,
            "grid_gap": null,
            "max_width": null,
            "order": null,
            "_view_module_version": "1.2.0",
            "grid_template_areas": null,
            "object_position": null,
            "object_fit": null,
            "grid_auto_columns": null,
            "margin": null,
            "display": null,
            "left": null
          }
        },
        "b36da87d092443cfb83d2eb32ae10815": {
          "model_module": "@jupyter-widgets/controls",
          "model_name": "HBoxModel",
          "model_module_version": "1.5.0",
          "state": {
            "_view_name": "HBoxView",
            "_dom_classes": [],
            "_model_name": "HBoxModel",
            "_view_module": "@jupyter-widgets/controls",
            "_model_module_version": "1.5.0",
            "_view_count": null,
            "_view_module_version": "1.5.0",
            "box_style": "",
            "layout": "IPY_MODEL_6e40fdcababc4939bcc4816d497fa5f0",
            "_model_module": "@jupyter-widgets/controls",
            "children": [
              "IPY_MODEL_2bcb591f81df4a29846d35d974f8f279",
              "IPY_MODEL_8851dc0e7f9b4795b82cd23af9f9b101",
              "IPY_MODEL_bcfd4a08baa04ac2a5ff585e7f73cac1"
            ]
          }
        },
        "6e40fdcababc4939bcc4816d497fa5f0": {
          "model_module": "@jupyter-widgets/base",
          "model_name": "LayoutModel",
          "model_module_version": "1.2.0",
          "state": {
            "_view_name": "LayoutView",
            "grid_template_rows": null,
            "right": null,
            "justify_content": null,
            "_view_module": "@jupyter-widgets/base",
            "overflow": null,
            "_model_module_version": "1.2.0",
            "_view_count": null,
            "flex_flow": null,
            "width": null,
            "min_width": null,
            "border": null,
            "align_items": null,
            "bottom": null,
            "_model_module": "@jupyter-widgets/base",
            "top": null,
            "grid_column": null,
            "overflow_y": null,
            "overflow_x": null,
            "grid_auto_flow": null,
            "grid_area": null,
            "grid_template_columns": null,
            "flex": null,
            "_model_name": "LayoutModel",
            "justify_items": null,
            "grid_row": null,
            "max_height": null,
            "align_content": null,
            "visibility": null,
            "align_self": null,
            "height": null,
            "min_height": null,
            "padding": null,
            "grid_auto_rows": null,
            "grid_gap": null,
            "max_width": null,
            "order": null,
            "_view_module_version": "1.2.0",
            "grid_template_areas": null,
            "object_position": null,
            "object_fit": null,
            "grid_auto_columns": null,
            "margin": null,
            "display": null,
            "left": null
          }
        },
        "2bcb591f81df4a29846d35d974f8f279": {
          "model_module": "@jupyter-widgets/controls",
          "model_name": "HTMLModel",
          "model_module_version": "1.5.0",
          "state": {
            "_view_name": "HTMLView",
            "style": "IPY_MODEL_283e3c3481f6490b9bba7490cb359da1",
            "_dom_classes": [],
            "description": "",
            "_model_name": "HTMLModel",
            "placeholder": "​",
            "_view_module": "@jupyter-widgets/controls",
            "_model_module_version": "1.5.0",
            "value": "Downloading: 100%",
            "_view_count": null,
            "_view_module_version": "1.5.0",
            "description_tooltip": null,
            "_model_module": "@jupyter-widgets/controls",
            "layout": "IPY_MODEL_002773e11b3541b2995ce68a20d1dfa3"
          }
        },
        "8851dc0e7f9b4795b82cd23af9f9b101": {
          "model_module": "@jupyter-widgets/controls",
          "model_name": "FloatProgressModel",
          "model_module_version": "1.5.0",
          "state": {
            "_view_name": "ProgressView",
            "style": "IPY_MODEL_d6737f2f0e284684849da728f324e28e",
            "_dom_classes": [],
            "description": "",
            "_model_name": "FloatProgressModel",
            "bar_style": "success",
            "max": 1340675298,
            "_view_module": "@jupyter-widgets/controls",
            "_model_module_version": "1.5.0",
            "value": 1340675298,
            "_view_count": null,
            "_view_module_version": "1.5.0",
            "orientation": "horizontal",
            "min": 0,
            "description_tooltip": null,
            "_model_module": "@jupyter-widgets/controls",
            "layout": "IPY_MODEL_a5f7a92f453b43cab046ed4cca70f373"
          }
        },
        "bcfd4a08baa04ac2a5ff585e7f73cac1": {
          "model_module": "@jupyter-widgets/controls",
          "model_name": "HTMLModel",
          "model_module_version": "1.5.0",
          "state": {
            "_view_name": "HTMLView",
            "style": "IPY_MODEL_77b33bc5abf94a95adbfdac1c4398736",
            "_dom_classes": [],
            "description": "",
            "_model_name": "HTMLModel",
            "placeholder": "​",
            "_view_module": "@jupyter-widgets/controls",
            "_model_module_version": "1.5.0",
            "value": " 1.25G/1.25G [00:42&lt;00:00, 33.5MB/s]",
            "_view_count": null,
            "_view_module_version": "1.5.0",
            "description_tooltip": null,
            "_model_module": "@jupyter-widgets/controls",
            "layout": "IPY_MODEL_57e6e70542e2439bb212b02cf5679a94"
          }
        },
        "283e3c3481f6490b9bba7490cb359da1": {
          "model_module": "@jupyter-widgets/controls",
          "model_name": "DescriptionStyleModel",
          "model_module_version": "1.5.0",
          "state": {
            "_view_name": "StyleView",
            "_model_name": "DescriptionStyleModel",
            "description_width": "",
            "_view_module": "@jupyter-widgets/base",
            "_model_module_version": "1.5.0",
            "_view_count": null,
            "_view_module_version": "1.2.0",
            "_model_module": "@jupyter-widgets/controls"
          }
        },
        "002773e11b3541b2995ce68a20d1dfa3": {
          "model_module": "@jupyter-widgets/base",
          "model_name": "LayoutModel",
          "model_module_version": "1.2.0",
          "state": {
            "_view_name": "LayoutView",
            "grid_template_rows": null,
            "right": null,
            "justify_content": null,
            "_view_module": "@jupyter-widgets/base",
            "overflow": null,
            "_model_module_version": "1.2.0",
            "_view_count": null,
            "flex_flow": null,
            "width": null,
            "min_width": null,
            "border": null,
            "align_items": null,
            "bottom": null,
            "_model_module": "@jupyter-widgets/base",
            "top": null,
            "grid_column": null,
            "overflow_y": null,
            "overflow_x": null,
            "grid_auto_flow": null,
            "grid_area": null,
            "grid_template_columns": null,
            "flex": null,
            "_model_name": "LayoutModel",
            "justify_items": null,
            "grid_row": null,
            "max_height": null,
            "align_content": null,
            "visibility": null,
            "align_self": null,
            "height": null,
            "min_height": null,
            "padding": null,
            "grid_auto_rows": null,
            "grid_gap": null,
            "max_width": null,
            "order": null,
            "_view_module_version": "1.2.0",
            "grid_template_areas": null,
            "object_position": null,
            "object_fit": null,
            "grid_auto_columns": null,
            "margin": null,
            "display": null,
            "left": null
          }
        },
        "d6737f2f0e284684849da728f324e28e": {
          "model_module": "@jupyter-widgets/controls",
          "model_name": "ProgressStyleModel",
          "model_module_version": "1.5.0",
          "state": {
            "_view_name": "StyleView",
            "_model_name": "ProgressStyleModel",
            "description_width": "",
            "_view_module": "@jupyter-widgets/base",
            "_model_module_version": "1.5.0",
            "_view_count": null,
            "_view_module_version": "1.2.0",
            "bar_color": null,
            "_model_module": "@jupyter-widgets/controls"
          }
        },
        "a5f7a92f453b43cab046ed4cca70f373": {
          "model_module": "@jupyter-widgets/base",
          "model_name": "LayoutModel",
          "model_module_version": "1.2.0",
          "state": {
            "_view_name": "LayoutView",
            "grid_template_rows": null,
            "right": null,
            "justify_content": null,
            "_view_module": "@jupyter-widgets/base",
            "overflow": null,
            "_model_module_version": "1.2.0",
            "_view_count": null,
            "flex_flow": null,
            "width": null,
            "min_width": null,
            "border": null,
            "align_items": null,
            "bottom": null,
            "_model_module": "@jupyter-widgets/base",
            "top": null,
            "grid_column": null,
            "overflow_y": null,
            "overflow_x": null,
            "grid_auto_flow": null,
            "grid_area": null,
            "grid_template_columns": null,
            "flex": null,
            "_model_name": "LayoutModel",
            "justify_items": null,
            "grid_row": null,
            "max_height": null,
            "align_content": null,
            "visibility": null,
            "align_self": null,
            "height": null,
            "min_height": null,
            "padding": null,
            "grid_auto_rows": null,
            "grid_gap": null,
            "max_width": null,
            "order": null,
            "_view_module_version": "1.2.0",
            "grid_template_areas": null,
            "object_position": null,
            "object_fit": null,
            "grid_auto_columns": null,
            "margin": null,
            "display": null,
            "left": null
          }
        },
        "77b33bc5abf94a95adbfdac1c4398736": {
          "model_module": "@jupyter-widgets/controls",
          "model_name": "DescriptionStyleModel",
          "model_module_version": "1.5.0",
          "state": {
            "_view_name": "StyleView",
            "_model_name": "DescriptionStyleModel",
            "description_width": "",
            "_view_module": "@jupyter-widgets/base",
            "_model_module_version": "1.5.0",
            "_view_count": null,
            "_view_module_version": "1.2.0",
            "_model_module": "@jupyter-widgets/controls"
          }
        },
        "57e6e70542e2439bb212b02cf5679a94": {
          "model_module": "@jupyter-widgets/base",
          "model_name": "LayoutModel",
          "model_module_version": "1.2.0",
          "state": {
            "_view_name": "LayoutView",
            "grid_template_rows": null,
            "right": null,
            "justify_content": null,
            "_view_module": "@jupyter-widgets/base",
            "overflow": null,
            "_model_module_version": "1.2.0",
            "_view_count": null,
            "flex_flow": null,
            "width": null,
            "min_width": null,
            "border": null,
            "align_items": null,
            "bottom": null,
            "_model_module": "@jupyter-widgets/base",
            "top": null,
            "grid_column": null,
            "overflow_y": null,
            "overflow_x": null,
            "grid_auto_flow": null,
            "grid_area": null,
            "grid_template_columns": null,
            "flex": null,
            "_model_name": "LayoutModel",
            "justify_items": null,
            "grid_row": null,
            "max_height": null,
            "align_content": null,
            "visibility": null,
            "align_self": null,
            "height": null,
            "min_height": null,
            "padding": null,
            "grid_auto_rows": null,
            "grid_gap": null,
            "max_width": null,
            "order": null,
            "_view_module_version": "1.2.0",
            "grid_template_areas": null,
            "object_position": null,
            "object_fit": null,
            "grid_auto_columns": null,
            "margin": null,
            "display": null,
            "left": null
          }
        },
        "fad4bb19a2464a61a157084d64ba639c": {
          "model_module": "@jupyter-widgets/controls",
          "model_name": "HBoxModel",
          "model_module_version": "1.5.0",
          "state": {
            "_view_name": "HBoxView",
            "_dom_classes": [],
            "_model_name": "HBoxModel",
            "_view_module": "@jupyter-widgets/controls",
            "_model_module_version": "1.5.0",
            "_view_count": null,
            "_view_module_version": "1.5.0",
            "box_style": "",
            "layout": "IPY_MODEL_f00de19d35ac4c8a8bd644aa9c690358",
            "_model_module": "@jupyter-widgets/controls",
            "children": [
              "IPY_MODEL_3fbdd9e41bbf473d9852c2e09dd97f0f",
              "IPY_MODEL_c4be4e61188649cdb1cb27f69f399d5c",
              "IPY_MODEL_d715d72efb76471a81dfb31b78945ea9"
            ]
          }
        },
        "f00de19d35ac4c8a8bd644aa9c690358": {
          "model_module": "@jupyter-widgets/base",
          "model_name": "LayoutModel",
          "model_module_version": "1.2.0",
          "state": {
            "_view_name": "LayoutView",
            "grid_template_rows": null,
            "right": null,
            "justify_content": null,
            "_view_module": "@jupyter-widgets/base",
            "overflow": null,
            "_model_module_version": "1.2.0",
            "_view_count": null,
            "flex_flow": null,
            "width": null,
            "min_width": null,
            "border": null,
            "align_items": null,
            "bottom": null,
            "_model_module": "@jupyter-widgets/base",
            "top": null,
            "grid_column": null,
            "overflow_y": null,
            "overflow_x": null,
            "grid_auto_flow": null,
            "grid_area": null,
            "grid_template_columns": null,
            "flex": null,
            "_model_name": "LayoutModel",
            "justify_items": null,
            "grid_row": null,
            "max_height": null,
            "align_content": null,
            "visibility": null,
            "align_self": null,
            "height": null,
            "min_height": null,
            "padding": null,
            "grid_auto_rows": null,
            "grid_gap": null,
            "max_width": null,
            "order": null,
            "_view_module_version": "1.2.0",
            "grid_template_areas": null,
            "object_position": null,
            "object_fit": null,
            "grid_auto_columns": null,
            "margin": null,
            "display": null,
            "left": null
          }
        },
        "3fbdd9e41bbf473d9852c2e09dd97f0f": {
          "model_module": "@jupyter-widgets/controls",
          "model_name": "HTMLModel",
          "model_module_version": "1.5.0",
          "state": {
            "_view_name": "HTMLView",
            "style": "IPY_MODEL_241d43522c534875b5b62c88371186d6",
            "_dom_classes": [],
            "description": "",
            "_model_name": "HTMLModel",
            "placeholder": "​",
            "_view_module": "@jupyter-widgets/controls",
            "_model_module_version": "1.5.0",
            "value": "Downloading: 100%",
            "_view_count": null,
            "_view_module_version": "1.5.0",
            "description_tooltip": null,
            "_model_module": "@jupyter-widgets/controls",
            "layout": "IPY_MODEL_f22e09d77ace44e496ace4407849a0a4"
          }
        },
        "c4be4e61188649cdb1cb27f69f399d5c": {
          "model_module": "@jupyter-widgets/controls",
          "model_name": "FloatProgressModel",
          "model_module_version": "1.5.0",
          "state": {
            "_view_name": "ProgressView",
            "style": "IPY_MODEL_a9d53b97e1a94c3da5ef1035db26d1e8",
            "_dom_classes": [],
            "description": "",
            "_model_name": "FloatProgressModel",
            "bar_style": "success",
            "max": 231508,
            "_view_module": "@jupyter-widgets/controls",
            "_model_module_version": "1.5.0",
            "value": 231508,
            "_view_count": null,
            "_view_module_version": "1.5.0",
            "orientation": "horizontal",
            "min": 0,
            "description_tooltip": null,
            "_model_module": "@jupyter-widgets/controls",
            "layout": "IPY_MODEL_85b5393ef2ca4aef882a59c2300eacd5"
          }
        },
        "d715d72efb76471a81dfb31b78945ea9": {
          "model_module": "@jupyter-widgets/controls",
          "model_name": "HTMLModel",
          "model_module_version": "1.5.0",
          "state": {
            "_view_name": "HTMLView",
            "style": "IPY_MODEL_4229ec2b53e7421dbf53f283883b0734",
            "_dom_classes": [],
            "description": "",
            "_model_name": "HTMLModel",
            "placeholder": "​",
            "_view_module": "@jupyter-widgets/controls",
            "_model_module_version": "1.5.0",
            "value": " 226k/226k [00:00&lt;00:00, 270kB/s]",
            "_view_count": null,
            "_view_module_version": "1.5.0",
            "description_tooltip": null,
            "_model_module": "@jupyter-widgets/controls",
            "layout": "IPY_MODEL_a7266123a54743f2a12bec43ce099ced"
          }
        },
        "241d43522c534875b5b62c88371186d6": {
          "model_module": "@jupyter-widgets/controls",
          "model_name": "DescriptionStyleModel",
          "model_module_version": "1.5.0",
          "state": {
            "_view_name": "StyleView",
            "_model_name": "DescriptionStyleModel",
            "description_width": "",
            "_view_module": "@jupyter-widgets/base",
            "_model_module_version": "1.5.0",
            "_view_count": null,
            "_view_module_version": "1.2.0",
            "_model_module": "@jupyter-widgets/controls"
          }
        },
        "f22e09d77ace44e496ace4407849a0a4": {
          "model_module": "@jupyter-widgets/base",
          "model_name": "LayoutModel",
          "model_module_version": "1.2.0",
          "state": {
            "_view_name": "LayoutView",
            "grid_template_rows": null,
            "right": null,
            "justify_content": null,
            "_view_module": "@jupyter-widgets/base",
            "overflow": null,
            "_model_module_version": "1.2.0",
            "_view_count": null,
            "flex_flow": null,
            "width": null,
            "min_width": null,
            "border": null,
            "align_items": null,
            "bottom": null,
            "_model_module": "@jupyter-widgets/base",
            "top": null,
            "grid_column": null,
            "overflow_y": null,
            "overflow_x": null,
            "grid_auto_flow": null,
            "grid_area": null,
            "grid_template_columns": null,
            "flex": null,
            "_model_name": "LayoutModel",
            "justify_items": null,
            "grid_row": null,
            "max_height": null,
            "align_content": null,
            "visibility": null,
            "align_self": null,
            "height": null,
            "min_height": null,
            "padding": null,
            "grid_auto_rows": null,
            "grid_gap": null,
            "max_width": null,
            "order": null,
            "_view_module_version": "1.2.0",
            "grid_template_areas": null,
            "object_position": null,
            "object_fit": null,
            "grid_auto_columns": null,
            "margin": null,
            "display": null,
            "left": null
          }
        },
        "a9d53b97e1a94c3da5ef1035db26d1e8": {
          "model_module": "@jupyter-widgets/controls",
          "model_name": "ProgressStyleModel",
          "model_module_version": "1.5.0",
          "state": {
            "_view_name": "StyleView",
            "_model_name": "ProgressStyleModel",
            "description_width": "",
            "_view_module": "@jupyter-widgets/base",
            "_model_module_version": "1.5.0",
            "_view_count": null,
            "_view_module_version": "1.2.0",
            "bar_color": null,
            "_model_module": "@jupyter-widgets/controls"
          }
        },
        "85b5393ef2ca4aef882a59c2300eacd5": {
          "model_module": "@jupyter-widgets/base",
          "model_name": "LayoutModel",
          "model_module_version": "1.2.0",
          "state": {
            "_view_name": "LayoutView",
            "grid_template_rows": null,
            "right": null,
            "justify_content": null,
            "_view_module": "@jupyter-widgets/base",
            "overflow": null,
            "_model_module_version": "1.2.0",
            "_view_count": null,
            "flex_flow": null,
            "width": null,
            "min_width": null,
            "border": null,
            "align_items": null,
            "bottom": null,
            "_model_module": "@jupyter-widgets/base",
            "top": null,
            "grid_column": null,
            "overflow_y": null,
            "overflow_x": null,
            "grid_auto_flow": null,
            "grid_area": null,
            "grid_template_columns": null,
            "flex": null,
            "_model_name": "LayoutModel",
            "justify_items": null,
            "grid_row": null,
            "max_height": null,
            "align_content": null,
            "visibility": null,
            "align_self": null,
            "height": null,
            "min_height": null,
            "padding": null,
            "grid_auto_rows": null,
            "grid_gap": null,
            "max_width": null,
            "order": null,
            "_view_module_version": "1.2.0",
            "grid_template_areas": null,
            "object_position": null,
            "object_fit": null,
            "grid_auto_columns": null,
            "margin": null,
            "display": null,
            "left": null
          }
        },
        "4229ec2b53e7421dbf53f283883b0734": {
          "model_module": "@jupyter-widgets/controls",
          "model_name": "DescriptionStyleModel",
          "model_module_version": "1.5.0",
          "state": {
            "_view_name": "StyleView",
            "_model_name": "DescriptionStyleModel",
            "description_width": "",
            "_view_module": "@jupyter-widgets/base",
            "_model_module_version": "1.5.0",
            "_view_count": null,
            "_view_module_version": "1.2.0",
            "_model_module": "@jupyter-widgets/controls"
          }
        },
        "a7266123a54743f2a12bec43ce099ced": {
          "model_module": "@jupyter-widgets/base",
          "model_name": "LayoutModel",
          "model_module_version": "1.2.0",
          "state": {
            "_view_name": "LayoutView",
            "grid_template_rows": null,
            "right": null,
            "justify_content": null,
            "_view_module": "@jupyter-widgets/base",
            "overflow": null,
            "_model_module_version": "1.2.0",
            "_view_count": null,
            "flex_flow": null,
            "width": null,
            "min_width": null,
            "border": null,
            "align_items": null,
            "bottom": null,
            "_model_module": "@jupyter-widgets/base",
            "top": null,
            "grid_column": null,
            "overflow_y": null,
            "overflow_x": null,
            "grid_auto_flow": null,
            "grid_area": null,
            "grid_template_columns": null,
            "flex": null,
            "_model_name": "LayoutModel",
            "justify_items": null,
            "grid_row": null,
            "max_height": null,
            "align_content": null,
            "visibility": null,
            "align_self": null,
            "height": null,
            "min_height": null,
            "padding": null,
            "grid_auto_rows": null,
            "grid_gap": null,
            "max_width": null,
            "order": null,
            "_view_module_version": "1.2.0",
            "grid_template_areas": null,
            "object_position": null,
            "object_fit": null,
            "grid_auto_columns": null,
            "margin": null,
            "display": null,
            "left": null
          }
        },
        "038b1052242843d7bf223a4e3f1151af": {
          "model_module": "@jupyter-widgets/controls",
          "model_name": "HBoxModel",
          "model_module_version": "1.5.0",
          "state": {
            "_view_name": "HBoxView",
            "_dom_classes": [],
            "_model_name": "HBoxModel",
            "_view_module": "@jupyter-widgets/controls",
            "_model_module_version": "1.5.0",
            "_view_count": null,
            "_view_module_version": "1.5.0",
            "box_style": "",
            "layout": "IPY_MODEL_0acd0c3cf6d743478120070478a386eb",
            "_model_module": "@jupyter-widgets/controls",
            "children": [
              "IPY_MODEL_a035d3828a4a4df7934a70b8fd0e6f1c",
              "IPY_MODEL_f9c43b9dd2d448858b881a887a713df4",
              "IPY_MODEL_eb1b4c4a16e04e52b177205ee7390186"
            ]
          }
        },
        "0acd0c3cf6d743478120070478a386eb": {
          "model_module": "@jupyter-widgets/base",
          "model_name": "LayoutModel",
          "model_module_version": "1.2.0",
          "state": {
            "_view_name": "LayoutView",
            "grid_template_rows": null,
            "right": null,
            "justify_content": null,
            "_view_module": "@jupyter-widgets/base",
            "overflow": null,
            "_model_module_version": "1.2.0",
            "_view_count": null,
            "flex_flow": null,
            "width": null,
            "min_width": null,
            "border": null,
            "align_items": null,
            "bottom": null,
            "_model_module": "@jupyter-widgets/base",
            "top": null,
            "grid_column": null,
            "overflow_y": null,
            "overflow_x": null,
            "grid_auto_flow": null,
            "grid_area": null,
            "grid_template_columns": null,
            "flex": null,
            "_model_name": "LayoutModel",
            "justify_items": null,
            "grid_row": null,
            "max_height": null,
            "align_content": null,
            "visibility": null,
            "align_self": null,
            "height": null,
            "min_height": null,
            "padding": null,
            "grid_auto_rows": null,
            "grid_gap": null,
            "max_width": null,
            "order": null,
            "_view_module_version": "1.2.0",
            "grid_template_areas": null,
            "object_position": null,
            "object_fit": null,
            "grid_auto_columns": null,
            "margin": null,
            "display": null,
            "left": null
          }
        },
        "a035d3828a4a4df7934a70b8fd0e6f1c": {
          "model_module": "@jupyter-widgets/controls",
          "model_name": "HTMLModel",
          "model_module_version": "1.5.0",
          "state": {
            "_view_name": "HTMLView",
            "style": "IPY_MODEL_e17e2a476db644ecb277efe046435318",
            "_dom_classes": [],
            "description": "",
            "_model_name": "HTMLModel",
            "placeholder": "​",
            "_view_module": "@jupyter-widgets/controls",
            "_model_module_version": "1.5.0",
            "value": "Downloading: 100%",
            "_view_count": null,
            "_view_module_version": "1.5.0",
            "description_tooltip": null,
            "_model_module": "@jupyter-widgets/controls",
            "layout": "IPY_MODEL_40a2b5188176491688c0a8cbabe0be51"
          }
        },
        "f9c43b9dd2d448858b881a887a713df4": {
          "model_module": "@jupyter-widgets/controls",
          "model_name": "FloatProgressModel",
          "model_module_version": "1.5.0",
          "state": {
            "_view_name": "ProgressView",
            "style": "IPY_MODEL_cc110d40e3104042ab5d54f13b620f57",
            "_dom_classes": [],
            "description": "",
            "_model_name": "FloatProgressModel",
            "bar_style": "success",
            "max": 28,
            "_view_module": "@jupyter-widgets/controls",
            "_model_module_version": "1.5.0",
            "value": 28,
            "_view_count": null,
            "_view_module_version": "1.5.0",
            "orientation": "horizontal",
            "min": 0,
            "description_tooltip": null,
            "_model_module": "@jupyter-widgets/controls",
            "layout": "IPY_MODEL_103e867988c34976b7f0626827eedd68"
          }
        },
        "eb1b4c4a16e04e52b177205ee7390186": {
          "model_module": "@jupyter-widgets/controls",
          "model_name": "HTMLModel",
          "model_module_version": "1.5.0",
          "state": {
            "_view_name": "HTMLView",
            "style": "IPY_MODEL_85a7470a570c466c9e0a92a87648aec9",
            "_dom_classes": [],
            "description": "",
            "_model_name": "HTMLModel",
            "placeholder": "​",
            "_view_module": "@jupyter-widgets/controls",
            "_model_module_version": "1.5.0",
            "value": " 28.0/28.0 [00:00&lt;00:00, 669B/s]",
            "_view_count": null,
            "_view_module_version": "1.5.0",
            "description_tooltip": null,
            "_model_module": "@jupyter-widgets/controls",
            "layout": "IPY_MODEL_7fd64e82ca184ddfb3d99849f5d9507f"
          }
        },
        "e17e2a476db644ecb277efe046435318": {
          "model_module": "@jupyter-widgets/controls",
          "model_name": "DescriptionStyleModel",
          "model_module_version": "1.5.0",
          "state": {
            "_view_name": "StyleView",
            "_model_name": "DescriptionStyleModel",
            "description_width": "",
            "_view_module": "@jupyter-widgets/base",
            "_model_module_version": "1.5.0",
            "_view_count": null,
            "_view_module_version": "1.2.0",
            "_model_module": "@jupyter-widgets/controls"
          }
        },
        "40a2b5188176491688c0a8cbabe0be51": {
          "model_module": "@jupyter-widgets/base",
          "model_name": "LayoutModel",
          "model_module_version": "1.2.0",
          "state": {
            "_view_name": "LayoutView",
            "grid_template_rows": null,
            "right": null,
            "justify_content": null,
            "_view_module": "@jupyter-widgets/base",
            "overflow": null,
            "_model_module_version": "1.2.0",
            "_view_count": null,
            "flex_flow": null,
            "width": null,
            "min_width": null,
            "border": null,
            "align_items": null,
            "bottom": null,
            "_model_module": "@jupyter-widgets/base",
            "top": null,
            "grid_column": null,
            "overflow_y": null,
            "overflow_x": null,
            "grid_auto_flow": null,
            "grid_area": null,
            "grid_template_columns": null,
            "flex": null,
            "_model_name": "LayoutModel",
            "justify_items": null,
            "grid_row": null,
            "max_height": null,
            "align_content": null,
            "visibility": null,
            "align_self": null,
            "height": null,
            "min_height": null,
            "padding": null,
            "grid_auto_rows": null,
            "grid_gap": null,
            "max_width": null,
            "order": null,
            "_view_module_version": "1.2.0",
            "grid_template_areas": null,
            "object_position": null,
            "object_fit": null,
            "grid_auto_columns": null,
            "margin": null,
            "display": null,
            "left": null
          }
        },
        "cc110d40e3104042ab5d54f13b620f57": {
          "model_module": "@jupyter-widgets/controls",
          "model_name": "ProgressStyleModel",
          "model_module_version": "1.5.0",
          "state": {
            "_view_name": "StyleView",
            "_model_name": "ProgressStyleModel",
            "description_width": "",
            "_view_module": "@jupyter-widgets/base",
            "_model_module_version": "1.5.0",
            "_view_count": null,
            "_view_module_version": "1.2.0",
            "bar_color": null,
            "_model_module": "@jupyter-widgets/controls"
          }
        },
        "103e867988c34976b7f0626827eedd68": {
          "model_module": "@jupyter-widgets/base",
          "model_name": "LayoutModel",
          "model_module_version": "1.2.0",
          "state": {
            "_view_name": "LayoutView",
            "grid_template_rows": null,
            "right": null,
            "justify_content": null,
            "_view_module": "@jupyter-widgets/base",
            "overflow": null,
            "_model_module_version": "1.2.0",
            "_view_count": null,
            "flex_flow": null,
            "width": null,
            "min_width": null,
            "border": null,
            "align_items": null,
            "bottom": null,
            "_model_module": "@jupyter-widgets/base",
            "top": null,
            "grid_column": null,
            "overflow_y": null,
            "overflow_x": null,
            "grid_auto_flow": null,
            "grid_area": null,
            "grid_template_columns": null,
            "flex": null,
            "_model_name": "LayoutModel",
            "justify_items": null,
            "grid_row": null,
            "max_height": null,
            "align_content": null,
            "visibility": null,
            "align_self": null,
            "height": null,
            "min_height": null,
            "padding": null,
            "grid_auto_rows": null,
            "grid_gap": null,
            "max_width": null,
            "order": null,
            "_view_module_version": "1.2.0",
            "grid_template_areas": null,
            "object_position": null,
            "object_fit": null,
            "grid_auto_columns": null,
            "margin": null,
            "display": null,
            "left": null
          }
        },
        "85a7470a570c466c9e0a92a87648aec9": {
          "model_module": "@jupyter-widgets/controls",
          "model_name": "DescriptionStyleModel",
          "model_module_version": "1.5.0",
          "state": {
            "_view_name": "StyleView",
            "_model_name": "DescriptionStyleModel",
            "description_width": "",
            "_view_module": "@jupyter-widgets/base",
            "_model_module_version": "1.5.0",
            "_view_count": null,
            "_view_module_version": "1.2.0",
            "_model_module": "@jupyter-widgets/controls"
          }
        },
        "7fd64e82ca184ddfb3d99849f5d9507f": {
          "model_module": "@jupyter-widgets/base",
          "model_name": "LayoutModel",
          "model_module_version": "1.2.0",
          "state": {
            "_view_name": "LayoutView",
            "grid_template_rows": null,
            "right": null,
            "justify_content": null,
            "_view_module": "@jupyter-widgets/base",
            "overflow": null,
            "_model_module_version": "1.2.0",
            "_view_count": null,
            "flex_flow": null,
            "width": null,
            "min_width": null,
            "border": null,
            "align_items": null,
            "bottom": null,
            "_model_module": "@jupyter-widgets/base",
            "top": null,
            "grid_column": null,
            "overflow_y": null,
            "overflow_x": null,
            "grid_auto_flow": null,
            "grid_area": null,
            "grid_template_columns": null,
            "flex": null,
            "_model_name": "LayoutModel",
            "justify_items": null,
            "grid_row": null,
            "max_height": null,
            "align_content": null,
            "visibility": null,
            "align_self": null,
            "height": null,
            "min_height": null,
            "padding": null,
            "grid_auto_rows": null,
            "grid_gap": null,
            "max_width": null,
            "order": null,
            "_view_module_version": "1.2.0",
            "grid_template_areas": null,
            "object_position": null,
            "object_fit": null,
            "grid_auto_columns": null,
            "margin": null,
            "display": null,
            "left": null
          }
        },
        "d8073938a9f945aa8420026a72a2352d": {
          "model_module": "@jupyter-widgets/controls",
          "model_name": "HBoxModel",
          "model_module_version": "1.5.0",
          "state": {
            "_view_name": "HBoxView",
            "_dom_classes": [],
            "_model_name": "HBoxModel",
            "_view_module": "@jupyter-widgets/controls",
            "_model_module_version": "1.5.0",
            "_view_count": null,
            "_view_module_version": "1.5.0",
            "box_style": "",
            "layout": "IPY_MODEL_b6eed0747d9649299ed48cfbad0971f6",
            "_model_module": "@jupyter-widgets/controls",
            "children": [
              "IPY_MODEL_8d9bfae59d804557a7a3494fbd3dc98f",
              "IPY_MODEL_8e2193e33a0d4b03b1f965dda9b20a70",
              "IPY_MODEL_6225b0edeeb2489e9b58d78416a55c83"
            ]
          }
        },
        "b6eed0747d9649299ed48cfbad0971f6": {
          "model_module": "@jupyter-widgets/base",
          "model_name": "LayoutModel",
          "model_module_version": "1.2.0",
          "state": {
            "_view_name": "LayoutView",
            "grid_template_rows": null,
            "right": null,
            "justify_content": null,
            "_view_module": "@jupyter-widgets/base",
            "overflow": null,
            "_model_module_version": "1.2.0",
            "_view_count": null,
            "flex_flow": null,
            "width": null,
            "min_width": null,
            "border": null,
            "align_items": null,
            "bottom": null,
            "_model_module": "@jupyter-widgets/base",
            "top": null,
            "grid_column": null,
            "overflow_y": null,
            "overflow_x": null,
            "grid_auto_flow": null,
            "grid_area": null,
            "grid_template_columns": null,
            "flex": null,
            "_model_name": "LayoutModel",
            "justify_items": null,
            "grid_row": null,
            "max_height": null,
            "align_content": null,
            "visibility": null,
            "align_self": null,
            "height": null,
            "min_height": null,
            "padding": null,
            "grid_auto_rows": null,
            "grid_gap": null,
            "max_width": null,
            "order": null,
            "_view_module_version": "1.2.0",
            "grid_template_areas": null,
            "object_position": null,
            "object_fit": null,
            "grid_auto_columns": null,
            "margin": null,
            "display": null,
            "left": null
          }
        },
        "8d9bfae59d804557a7a3494fbd3dc98f": {
          "model_module": "@jupyter-widgets/controls",
          "model_name": "HTMLModel",
          "model_module_version": "1.5.0",
          "state": {
            "_view_name": "HTMLView",
            "style": "IPY_MODEL_5ddf1ae3b29447c29485645ad5c8f74a",
            "_dom_classes": [],
            "description": "",
            "_model_name": "HTMLModel",
            "placeholder": "​",
            "_view_module": "@jupyter-widgets/controls",
            "_model_module_version": "1.5.0",
            "value": "Downloading: 100%",
            "_view_count": null,
            "_view_module_version": "1.5.0",
            "description_tooltip": null,
            "_model_module": "@jupyter-widgets/controls",
            "layout": "IPY_MODEL_3f2d5fab006a445d9a9f0e81abe682cd"
          }
        },
        "8e2193e33a0d4b03b1f965dda9b20a70": {
          "model_module": "@jupyter-widgets/controls",
          "model_name": "FloatProgressModel",
          "model_module_version": "1.5.0",
          "state": {
            "_view_name": "ProgressView",
            "style": "IPY_MODEL_da6d5025ef65408e87c68a106bf19f6b",
            "_dom_classes": [],
            "description": "",
            "_model_name": "FloatProgressModel",
            "bar_style": "success",
            "max": 466062,
            "_view_module": "@jupyter-widgets/controls",
            "_model_module_version": "1.5.0",
            "value": 466062,
            "_view_count": null,
            "_view_module_version": "1.5.0",
            "orientation": "horizontal",
            "min": 0,
            "description_tooltip": null,
            "_model_module": "@jupyter-widgets/controls",
            "layout": "IPY_MODEL_ff1da91e69f54cb9b573e676cf0bc72c"
          }
        },
        "6225b0edeeb2489e9b58d78416a55c83": {
          "model_module": "@jupyter-widgets/controls",
          "model_name": "HTMLModel",
          "model_module_version": "1.5.0",
          "state": {
            "_view_name": "HTMLView",
            "style": "IPY_MODEL_66a4d9c13a27440883ea03816580d713",
            "_dom_classes": [],
            "description": "",
            "_model_name": "HTMLModel",
            "placeholder": "​",
            "_view_module": "@jupyter-widgets/controls",
            "_model_module_version": "1.5.0",
            "value": " 455k/455k [00:00&lt;00:00, 492kB/s]",
            "_view_count": null,
            "_view_module_version": "1.5.0",
            "description_tooltip": null,
            "_model_module": "@jupyter-widgets/controls",
            "layout": "IPY_MODEL_b1b3fa24a7db4380af0d1891e8da9f79"
          }
        },
        "5ddf1ae3b29447c29485645ad5c8f74a": {
          "model_module": "@jupyter-widgets/controls",
          "model_name": "DescriptionStyleModel",
          "model_module_version": "1.5.0",
          "state": {
            "_view_name": "StyleView",
            "_model_name": "DescriptionStyleModel",
            "description_width": "",
            "_view_module": "@jupyter-widgets/base",
            "_model_module_version": "1.5.0",
            "_view_count": null,
            "_view_module_version": "1.2.0",
            "_model_module": "@jupyter-widgets/controls"
          }
        },
        "3f2d5fab006a445d9a9f0e81abe682cd": {
          "model_module": "@jupyter-widgets/base",
          "model_name": "LayoutModel",
          "model_module_version": "1.2.0",
          "state": {
            "_view_name": "LayoutView",
            "grid_template_rows": null,
            "right": null,
            "justify_content": null,
            "_view_module": "@jupyter-widgets/base",
            "overflow": null,
            "_model_module_version": "1.2.0",
            "_view_count": null,
            "flex_flow": null,
            "width": null,
            "min_width": null,
            "border": null,
            "align_items": null,
            "bottom": null,
            "_model_module": "@jupyter-widgets/base",
            "top": null,
            "grid_column": null,
            "overflow_y": null,
            "overflow_x": null,
            "grid_auto_flow": null,
            "grid_area": null,
            "grid_template_columns": null,
            "flex": null,
            "_model_name": "LayoutModel",
            "justify_items": null,
            "grid_row": null,
            "max_height": null,
            "align_content": null,
            "visibility": null,
            "align_self": null,
            "height": null,
            "min_height": null,
            "padding": null,
            "grid_auto_rows": null,
            "grid_gap": null,
            "max_width": null,
            "order": null,
            "_view_module_version": "1.2.0",
            "grid_template_areas": null,
            "object_position": null,
            "object_fit": null,
            "grid_auto_columns": null,
            "margin": null,
            "display": null,
            "left": null
          }
        },
        "da6d5025ef65408e87c68a106bf19f6b": {
          "model_module": "@jupyter-widgets/controls",
          "model_name": "ProgressStyleModel",
          "model_module_version": "1.5.0",
          "state": {
            "_view_name": "StyleView",
            "_model_name": "ProgressStyleModel",
            "description_width": "",
            "_view_module": "@jupyter-widgets/base",
            "_model_module_version": "1.5.0",
            "_view_count": null,
            "_view_module_version": "1.2.0",
            "bar_color": null,
            "_model_module": "@jupyter-widgets/controls"
          }
        },
        "ff1da91e69f54cb9b573e676cf0bc72c": {
          "model_module": "@jupyter-widgets/base",
          "model_name": "LayoutModel",
          "model_module_version": "1.2.0",
          "state": {
            "_view_name": "LayoutView",
            "grid_template_rows": null,
            "right": null,
            "justify_content": null,
            "_view_module": "@jupyter-widgets/base",
            "overflow": null,
            "_model_module_version": "1.2.0",
            "_view_count": null,
            "flex_flow": null,
            "width": null,
            "min_width": null,
            "border": null,
            "align_items": null,
            "bottom": null,
            "_model_module": "@jupyter-widgets/base",
            "top": null,
            "grid_column": null,
            "overflow_y": null,
            "overflow_x": null,
            "grid_auto_flow": null,
            "grid_area": null,
            "grid_template_columns": null,
            "flex": null,
            "_model_name": "LayoutModel",
            "justify_items": null,
            "grid_row": null,
            "max_height": null,
            "align_content": null,
            "visibility": null,
            "align_self": null,
            "height": null,
            "min_height": null,
            "padding": null,
            "grid_auto_rows": null,
            "grid_gap": null,
            "max_width": null,
            "order": null,
            "_view_module_version": "1.2.0",
            "grid_template_areas": null,
            "object_position": null,
            "object_fit": null,
            "grid_auto_columns": null,
            "margin": null,
            "display": null,
            "left": null
          }
        },
        "66a4d9c13a27440883ea03816580d713": {
          "model_module": "@jupyter-widgets/controls",
          "model_name": "DescriptionStyleModel",
          "model_module_version": "1.5.0",
          "state": {
            "_view_name": "StyleView",
            "_model_name": "DescriptionStyleModel",
            "description_width": "",
            "_view_module": "@jupyter-widgets/base",
            "_model_module_version": "1.5.0",
            "_view_count": null,
            "_view_module_version": "1.2.0",
            "_model_module": "@jupyter-widgets/controls"
          }
        },
        "b1b3fa24a7db4380af0d1891e8da9f79": {
          "model_module": "@jupyter-widgets/base",
          "model_name": "LayoutModel",
          "model_module_version": "1.2.0",
          "state": {
            "_view_name": "LayoutView",
            "grid_template_rows": null,
            "right": null,
            "justify_content": null,
            "_view_module": "@jupyter-widgets/base",
            "overflow": null,
            "_model_module_version": "1.2.0",
            "_view_count": null,
            "flex_flow": null,
            "width": null,
            "min_width": null,
            "border": null,
            "align_items": null,
            "bottom": null,
            "_model_module": "@jupyter-widgets/base",
            "top": null,
            "grid_column": null,
            "overflow_y": null,
            "overflow_x": null,
            "grid_auto_flow": null,
            "grid_area": null,
            "grid_template_columns": null,
            "flex": null,
            "_model_name": "LayoutModel",
            "justify_items": null,
            "grid_row": null,
            "max_height": null,
            "align_content": null,
            "visibility": null,
            "align_self": null,
            "height": null,
            "min_height": null,
            "padding": null,
            "grid_auto_rows": null,
            "grid_gap": null,
            "max_width": null,
            "order": null,
            "_view_module_version": "1.2.0",
            "grid_template_areas": null,
            "object_position": null,
            "object_fit": null,
            "grid_auto_columns": null,
            "margin": null,
            "display": null,
            "left": null
          }
        },
        "889977fe4edb4cccab74bbe9d73d97f9": {
          "model_module": "@jupyter-widgets/controls",
          "model_name": "HBoxModel",
          "model_module_version": "1.5.0",
          "state": {
            "_view_name": "HBoxView",
            "_dom_classes": [],
            "_model_name": "HBoxModel",
            "_view_module": "@jupyter-widgets/controls",
            "_model_module_version": "1.5.0",
            "_view_count": null,
            "_view_module_version": "1.5.0",
            "box_style": "",
            "layout": "IPY_MODEL_551a1e0020704a0d9e01dc0dc4256d48",
            "_model_module": "@jupyter-widgets/controls",
            "children": [
              "IPY_MODEL_8aeee5de2c05474882072372ed7d9f20",
              "IPY_MODEL_192d8f4303274672abab3f684e82ec4d",
              "IPY_MODEL_7231537e3c1b4c4cbe82c9d2d5823e22"
            ]
          }
        },
        "551a1e0020704a0d9e01dc0dc4256d48": {
          "model_module": "@jupyter-widgets/base",
          "model_name": "LayoutModel",
          "model_module_version": "1.2.0",
          "state": {
            "_view_name": "LayoutView",
            "grid_template_rows": null,
            "right": null,
            "justify_content": null,
            "_view_module": "@jupyter-widgets/base",
            "overflow": null,
            "_model_module_version": "1.2.0",
            "_view_count": null,
            "flex_flow": null,
            "width": null,
            "min_width": null,
            "border": null,
            "align_items": null,
            "bottom": null,
            "_model_module": "@jupyter-widgets/base",
            "top": null,
            "grid_column": null,
            "overflow_y": null,
            "overflow_x": null,
            "grid_auto_flow": null,
            "grid_area": null,
            "grid_template_columns": null,
            "flex": null,
            "_model_name": "LayoutModel",
            "justify_items": null,
            "grid_row": null,
            "max_height": null,
            "align_content": null,
            "visibility": null,
            "align_self": null,
            "height": null,
            "min_height": null,
            "padding": null,
            "grid_auto_rows": null,
            "grid_gap": null,
            "max_width": null,
            "order": null,
            "_view_module_version": "1.2.0",
            "grid_template_areas": null,
            "object_position": null,
            "object_fit": null,
            "grid_auto_columns": null,
            "margin": null,
            "display": null,
            "left": null
          }
        },
        "8aeee5de2c05474882072372ed7d9f20": {
          "model_module": "@jupyter-widgets/controls",
          "model_name": "HTMLModel",
          "model_module_version": "1.5.0",
          "state": {
            "_view_name": "HTMLView",
            "style": "IPY_MODEL_020212eeb8f04e01ac3b1b41ecd223fa",
            "_dom_classes": [],
            "description": "",
            "_model_name": "HTMLModel",
            "placeholder": "​",
            "_view_module": "@jupyter-widgets/controls",
            "_model_module_version": "1.5.0",
            "value": "Downloading: 100%",
            "_view_count": null,
            "_view_module_version": "1.5.0",
            "description_tooltip": null,
            "_model_module": "@jupyter-widgets/controls",
            "layout": "IPY_MODEL_b3870f3f1e3e4d33b3db1d31b0120bdd"
          }
        },
        "192d8f4303274672abab3f684e82ec4d": {
          "model_module": "@jupyter-widgets/controls",
          "model_name": "FloatProgressModel",
          "model_module_version": "1.5.0",
          "state": {
            "_view_name": "ProgressView",
            "style": "IPY_MODEL_7c6cb0b08d0642eca5d2966cf308916d",
            "_dom_classes": [],
            "description": "",
            "_model_name": "FloatProgressModel",
            "bar_style": "success",
            "max": 570,
            "_view_module": "@jupyter-widgets/controls",
            "_model_module_version": "1.5.0",
            "value": 570,
            "_view_count": null,
            "_view_module_version": "1.5.0",
            "orientation": "horizontal",
            "min": 0,
            "description_tooltip": null,
            "_model_module": "@jupyter-widgets/controls",
            "layout": "IPY_MODEL_968f2ef8724e4e47a6d1938360ad1c7a"
          }
        },
        "7231537e3c1b4c4cbe82c9d2d5823e22": {
          "model_module": "@jupyter-widgets/controls",
          "model_name": "HTMLModel",
          "model_module_version": "1.5.0",
          "state": {
            "_view_name": "HTMLView",
            "style": "IPY_MODEL_5b033fdc1fa34ca381122b700f478360",
            "_dom_classes": [],
            "description": "",
            "_model_name": "HTMLModel",
            "placeholder": "​",
            "_view_module": "@jupyter-widgets/controls",
            "_model_module_version": "1.5.0",
            "value": " 570/570 [00:00&lt;00:00, 14.5kB/s]",
            "_view_count": null,
            "_view_module_version": "1.5.0",
            "description_tooltip": null,
            "_model_module": "@jupyter-widgets/controls",
            "layout": "IPY_MODEL_cb0b73232cf4444fb73c08ab9cb48383"
          }
        },
        "020212eeb8f04e01ac3b1b41ecd223fa": {
          "model_module": "@jupyter-widgets/controls",
          "model_name": "DescriptionStyleModel",
          "model_module_version": "1.5.0",
          "state": {
            "_view_name": "StyleView",
            "_model_name": "DescriptionStyleModel",
            "description_width": "",
            "_view_module": "@jupyter-widgets/base",
            "_model_module_version": "1.5.0",
            "_view_count": null,
            "_view_module_version": "1.2.0",
            "_model_module": "@jupyter-widgets/controls"
          }
        },
        "b3870f3f1e3e4d33b3db1d31b0120bdd": {
          "model_module": "@jupyter-widgets/base",
          "model_name": "LayoutModel",
          "model_module_version": "1.2.0",
          "state": {
            "_view_name": "LayoutView",
            "grid_template_rows": null,
            "right": null,
            "justify_content": null,
            "_view_module": "@jupyter-widgets/base",
            "overflow": null,
            "_model_module_version": "1.2.0",
            "_view_count": null,
            "flex_flow": null,
            "width": null,
            "min_width": null,
            "border": null,
            "align_items": null,
            "bottom": null,
            "_model_module": "@jupyter-widgets/base",
            "top": null,
            "grid_column": null,
            "overflow_y": null,
            "overflow_x": null,
            "grid_auto_flow": null,
            "grid_area": null,
            "grid_template_columns": null,
            "flex": null,
            "_model_name": "LayoutModel",
            "justify_items": null,
            "grid_row": null,
            "max_height": null,
            "align_content": null,
            "visibility": null,
            "align_self": null,
            "height": null,
            "min_height": null,
            "padding": null,
            "grid_auto_rows": null,
            "grid_gap": null,
            "max_width": null,
            "order": null,
            "_view_module_version": "1.2.0",
            "grid_template_areas": null,
            "object_position": null,
            "object_fit": null,
            "grid_auto_columns": null,
            "margin": null,
            "display": null,
            "left": null
          }
        },
        "7c6cb0b08d0642eca5d2966cf308916d": {
          "model_module": "@jupyter-widgets/controls",
          "model_name": "ProgressStyleModel",
          "model_module_version": "1.5.0",
          "state": {
            "_view_name": "StyleView",
            "_model_name": "ProgressStyleModel",
            "description_width": "",
            "_view_module": "@jupyter-widgets/base",
            "_model_module_version": "1.5.0",
            "_view_count": null,
            "_view_module_version": "1.2.0",
            "bar_color": null,
            "_model_module": "@jupyter-widgets/controls"
          }
        },
        "968f2ef8724e4e47a6d1938360ad1c7a": {
          "model_module": "@jupyter-widgets/base",
          "model_name": "LayoutModel",
          "model_module_version": "1.2.0",
          "state": {
            "_view_name": "LayoutView",
            "grid_template_rows": null,
            "right": null,
            "justify_content": null,
            "_view_module": "@jupyter-widgets/base",
            "overflow": null,
            "_model_module_version": "1.2.0",
            "_view_count": null,
            "flex_flow": null,
            "width": null,
            "min_width": null,
            "border": null,
            "align_items": null,
            "bottom": null,
            "_model_module": "@jupyter-widgets/base",
            "top": null,
            "grid_column": null,
            "overflow_y": null,
            "overflow_x": null,
            "grid_auto_flow": null,
            "grid_area": null,
            "grid_template_columns": null,
            "flex": null,
            "_model_name": "LayoutModel",
            "justify_items": null,
            "grid_row": null,
            "max_height": null,
            "align_content": null,
            "visibility": null,
            "align_self": null,
            "height": null,
            "min_height": null,
            "padding": null,
            "grid_auto_rows": null,
            "grid_gap": null,
            "max_width": null,
            "order": null,
            "_view_module_version": "1.2.0",
            "grid_template_areas": null,
            "object_position": null,
            "object_fit": null,
            "grid_auto_columns": null,
            "margin": null,
            "display": null,
            "left": null
          }
        },
        "5b033fdc1fa34ca381122b700f478360": {
          "model_module": "@jupyter-widgets/controls",
          "model_name": "DescriptionStyleModel",
          "model_module_version": "1.5.0",
          "state": {
            "_view_name": "StyleView",
            "_model_name": "DescriptionStyleModel",
            "description_width": "",
            "_view_module": "@jupyter-widgets/base",
            "_model_module_version": "1.5.0",
            "_view_count": null,
            "_view_module_version": "1.2.0",
            "_model_module": "@jupyter-widgets/controls"
          }
        },
        "cb0b73232cf4444fb73c08ab9cb48383": {
          "model_module": "@jupyter-widgets/base",
          "model_name": "LayoutModel",
          "model_module_version": "1.2.0",
          "state": {
            "_view_name": "LayoutView",
            "grid_template_rows": null,
            "right": null,
            "justify_content": null,
            "_view_module": "@jupyter-widgets/base",
            "overflow": null,
            "_model_module_version": "1.2.0",
            "_view_count": null,
            "flex_flow": null,
            "width": null,
            "min_width": null,
            "border": null,
            "align_items": null,
            "bottom": null,
            "_model_module": "@jupyter-widgets/base",
            "top": null,
            "grid_column": null,
            "overflow_y": null,
            "overflow_x": null,
            "grid_auto_flow": null,
            "grid_area": null,
            "grid_template_columns": null,
            "flex": null,
            "_model_name": "LayoutModel",
            "justify_items": null,
            "grid_row": null,
            "max_height": null,
            "align_content": null,
            "visibility": null,
            "align_self": null,
            "height": null,
            "min_height": null,
            "padding": null,
            "grid_auto_rows": null,
            "grid_gap": null,
            "max_width": null,
            "order": null,
            "_view_module_version": "1.2.0",
            "grid_template_areas": null,
            "object_position": null,
            "object_fit": null,
            "grid_auto_columns": null,
            "margin": null,
            "display": null,
            "left": null
          }
        }
      }
    }
  },
  "cells": [
    {
      "cell_type": "markdown",
      "metadata": {
        "id": "view-in-github",
        "colab_type": "text"
      },
      "source": [
        "<a href=\"https://colab.research.google.com/github/vishalveerareddy/NLP-Project/blob/main/NLPProject.ipynb\" target=\"_parent\"><img src=\"https://colab.research.google.com/assets/colab-badge.svg\" alt=\"Open In Colab\"/></a>"
      ]
    },
    {
      "cell_type": "code",
      "metadata": {
        "colab": {
          "base_uri": "https://localhost:8080/"
        },
        "id": "P9lU66OjC4Qo",
        "outputId": "bac14861-bfc5-4ed3-f5c3-584a7d12da9e"
      },
      "source": [
        "!pip install transformers\n",
        "!pip install sentence_transformers"
      ],
      "execution_count": 1,
      "outputs": [
        {
          "output_type": "stream",
          "name": "stdout",
          "text": [
            "Collecting transformers\n",
            "  Downloading transformers-4.12.3-py3-none-any.whl (3.1 MB)\n",
            "\u001b[K     |████████████████████████████████| 3.1 MB 5.4 MB/s \n",
            "\u001b[?25hRequirement already satisfied: packaging>=20.0 in /usr/local/lib/python3.7/dist-packages (from transformers) (21.2)\n",
            "Collecting huggingface-hub<1.0,>=0.1.0\n",
            "  Downloading huggingface_hub-0.1.2-py3-none-any.whl (59 kB)\n",
            "\u001b[K     |████████████████████████████████| 59 kB 6.0 MB/s \n",
            "\u001b[?25hRequirement already satisfied: filelock in /usr/local/lib/python3.7/dist-packages (from transformers) (3.3.2)\n",
            "Requirement already satisfied: numpy>=1.17 in /usr/local/lib/python3.7/dist-packages (from transformers) (1.19.5)\n",
            "Requirement already satisfied: tqdm>=4.27 in /usr/local/lib/python3.7/dist-packages (from transformers) (4.62.3)\n",
            "Requirement already satisfied: requests in /usr/local/lib/python3.7/dist-packages (from transformers) (2.23.0)\n",
            "Collecting tokenizers<0.11,>=0.10.1\n",
            "  Downloading tokenizers-0.10.3-cp37-cp37m-manylinux_2_5_x86_64.manylinux1_x86_64.manylinux_2_12_x86_64.manylinux2010_x86_64.whl (3.3 MB)\n",
            "\u001b[K     |████████████████████████████████| 3.3 MB 17.0 MB/s \n",
            "\u001b[?25hCollecting sacremoses\n",
            "  Downloading sacremoses-0.0.46-py3-none-any.whl (895 kB)\n",
            "\u001b[K     |████████████████████████████████| 895 kB 40.5 MB/s \n",
            "\u001b[?25hRequirement already satisfied: importlib-metadata in /usr/local/lib/python3.7/dist-packages (from transformers) (4.8.2)\n",
            "Requirement already satisfied: regex!=2019.12.17 in /usr/local/lib/python3.7/dist-packages (from transformers) (2019.12.20)\n",
            "Collecting pyyaml>=5.1\n",
            "  Downloading PyYAML-6.0-cp37-cp37m-manylinux_2_5_x86_64.manylinux1_x86_64.manylinux_2_12_x86_64.manylinux2010_x86_64.whl (596 kB)\n",
            "\u001b[K     |████████████████████████████████| 596 kB 49.3 MB/s \n",
            "\u001b[?25hRequirement already satisfied: typing-extensions>=3.7.4.3 in /usr/local/lib/python3.7/dist-packages (from huggingface-hub<1.0,>=0.1.0->transformers) (3.10.0.2)\n",
            "Requirement already satisfied: pyparsing<3,>=2.0.2 in /usr/local/lib/python3.7/dist-packages (from packaging>=20.0->transformers) (2.4.7)\n",
            "Requirement already satisfied: zipp>=0.5 in /usr/local/lib/python3.7/dist-packages (from importlib-metadata->transformers) (3.6.0)\n",
            "Requirement already satisfied: chardet<4,>=3.0.2 in /usr/local/lib/python3.7/dist-packages (from requests->transformers) (3.0.4)\n",
            "Requirement already satisfied: certifi>=2017.4.17 in /usr/local/lib/python3.7/dist-packages (from requests->transformers) (2021.10.8)\n",
            "Requirement already satisfied: idna<3,>=2.5 in /usr/local/lib/python3.7/dist-packages (from requests->transformers) (2.10)\n",
            "Requirement already satisfied: urllib3!=1.25.0,!=1.25.1,<1.26,>=1.21.1 in /usr/local/lib/python3.7/dist-packages (from requests->transformers) (1.24.3)\n",
            "Requirement already satisfied: six in /usr/local/lib/python3.7/dist-packages (from sacremoses->transformers) (1.15.0)\n",
            "Requirement already satisfied: joblib in /usr/local/lib/python3.7/dist-packages (from sacremoses->transformers) (1.1.0)\n",
            "Requirement already satisfied: click in /usr/local/lib/python3.7/dist-packages (from sacremoses->transformers) (7.1.2)\n",
            "Installing collected packages: pyyaml, tokenizers, sacremoses, huggingface-hub, transformers\n",
            "  Attempting uninstall: pyyaml\n",
            "    Found existing installation: PyYAML 3.13\n",
            "    Uninstalling PyYAML-3.13:\n",
            "      Successfully uninstalled PyYAML-3.13\n",
            "Successfully installed huggingface-hub-0.1.2 pyyaml-6.0 sacremoses-0.0.46 tokenizers-0.10.3 transformers-4.12.3\n",
            "Collecting sentence_transformers\n",
            "  Downloading sentence-transformers-2.1.0.tar.gz (78 kB)\n",
            "\u001b[K     |████████████████████████████████| 78 kB 3.7 MB/s \n",
            "\u001b[?25hRequirement already satisfied: transformers<5.0.0,>=4.6.0 in /usr/local/lib/python3.7/dist-packages (from sentence_transformers) (4.12.3)\n",
            "Requirement already satisfied: tokenizers>=0.10.3 in /usr/local/lib/python3.7/dist-packages (from sentence_transformers) (0.10.3)\n",
            "Requirement already satisfied: tqdm in /usr/local/lib/python3.7/dist-packages (from sentence_transformers) (4.62.3)\n",
            "Requirement already satisfied: torch>=1.6.0 in /usr/local/lib/python3.7/dist-packages (from sentence_transformers) (1.10.0+cu111)\n",
            "Requirement already satisfied: torchvision in /usr/local/lib/python3.7/dist-packages (from sentence_transformers) (0.11.1+cu111)\n",
            "Requirement already satisfied: numpy in /usr/local/lib/python3.7/dist-packages (from sentence_transformers) (1.19.5)\n",
            "Requirement already satisfied: scikit-learn in /usr/local/lib/python3.7/dist-packages (from sentence_transformers) (1.0.1)\n",
            "Requirement already satisfied: scipy in /usr/local/lib/python3.7/dist-packages (from sentence_transformers) (1.4.1)\n",
            "Requirement already satisfied: nltk in /usr/local/lib/python3.7/dist-packages (from sentence_transformers) (3.2.5)\n",
            "Collecting sentencepiece\n",
            "  Downloading sentencepiece-0.1.96-cp37-cp37m-manylinux_2_17_x86_64.manylinux2014_x86_64.whl (1.2 MB)\n",
            "\u001b[K     |████████████████████████████████| 1.2 MB 11.2 MB/s \n",
            "\u001b[?25hRequirement already satisfied: huggingface-hub in /usr/local/lib/python3.7/dist-packages (from sentence_transformers) (0.1.2)\n",
            "Requirement already satisfied: typing-extensions in /usr/local/lib/python3.7/dist-packages (from torch>=1.6.0->sentence_transformers) (3.10.0.2)\n",
            "Requirement already satisfied: importlib-metadata in /usr/local/lib/python3.7/dist-packages (from transformers<5.0.0,>=4.6.0->sentence_transformers) (4.8.2)\n",
            "Requirement already satisfied: filelock in /usr/local/lib/python3.7/dist-packages (from transformers<5.0.0,>=4.6.0->sentence_transformers) (3.3.2)\n",
            "Requirement already satisfied: packaging>=20.0 in /usr/local/lib/python3.7/dist-packages (from transformers<5.0.0,>=4.6.0->sentence_transformers) (21.2)\n",
            "Requirement already satisfied: pyyaml>=5.1 in /usr/local/lib/python3.7/dist-packages (from transformers<5.0.0,>=4.6.0->sentence_transformers) (6.0)\n",
            "Requirement already satisfied: requests in /usr/local/lib/python3.7/dist-packages (from transformers<5.0.0,>=4.6.0->sentence_transformers) (2.23.0)\n",
            "Requirement already satisfied: sacremoses in /usr/local/lib/python3.7/dist-packages (from transformers<5.0.0,>=4.6.0->sentence_transformers) (0.0.46)\n",
            "Requirement already satisfied: regex!=2019.12.17 in /usr/local/lib/python3.7/dist-packages (from transformers<5.0.0,>=4.6.0->sentence_transformers) (2019.12.20)\n",
            "Requirement already satisfied: pyparsing<3,>=2.0.2 in /usr/local/lib/python3.7/dist-packages (from packaging>=20.0->transformers<5.0.0,>=4.6.0->sentence_transformers) (2.4.7)\n",
            "Requirement already satisfied: zipp>=0.5 in /usr/local/lib/python3.7/dist-packages (from importlib-metadata->transformers<5.0.0,>=4.6.0->sentence_transformers) (3.6.0)\n",
            "Requirement already satisfied: six in /usr/local/lib/python3.7/dist-packages (from nltk->sentence_transformers) (1.15.0)\n",
            "Requirement already satisfied: certifi>=2017.4.17 in /usr/local/lib/python3.7/dist-packages (from requests->transformers<5.0.0,>=4.6.0->sentence_transformers) (2021.10.8)\n",
            "Requirement already satisfied: idna<3,>=2.5 in /usr/local/lib/python3.7/dist-packages (from requests->transformers<5.0.0,>=4.6.0->sentence_transformers) (2.10)\n",
            "Requirement already satisfied: chardet<4,>=3.0.2 in /usr/local/lib/python3.7/dist-packages (from requests->transformers<5.0.0,>=4.6.0->sentence_transformers) (3.0.4)\n",
            "Requirement already satisfied: urllib3!=1.25.0,!=1.25.1,<1.26,>=1.21.1 in /usr/local/lib/python3.7/dist-packages (from requests->transformers<5.0.0,>=4.6.0->sentence_transformers) (1.24.3)\n",
            "Requirement already satisfied: click in /usr/local/lib/python3.7/dist-packages (from sacremoses->transformers<5.0.0,>=4.6.0->sentence_transformers) (7.1.2)\n",
            "Requirement already satisfied: joblib in /usr/local/lib/python3.7/dist-packages (from sacremoses->transformers<5.0.0,>=4.6.0->sentence_transformers) (1.1.0)\n",
            "Requirement already satisfied: threadpoolctl>=2.0.0 in /usr/local/lib/python3.7/dist-packages (from scikit-learn->sentence_transformers) (3.0.0)\n",
            "Requirement already satisfied: pillow!=8.3.0,>=5.3.0 in /usr/local/lib/python3.7/dist-packages (from torchvision->sentence_transformers) (7.1.2)\n",
            "Building wheels for collected packages: sentence-transformers\n",
            "  Building wheel for sentence-transformers (setup.py) ... \u001b[?25l\u001b[?25hdone\n",
            "  Created wheel for sentence-transformers: filename=sentence_transformers-2.1.0-py3-none-any.whl size=121000 sha256=2ff56ddef910d695c6f9d12e1c0c1a36374314bc01318a01f6b4251870fc430e\n",
            "  Stored in directory: /root/.cache/pip/wheels/90/f0/bb/ed1add84da70092ea526466eadc2bfb197c4bcb8d4fa5f7bad\n",
            "Successfully built sentence-transformers\n",
            "Installing collected packages: sentencepiece, sentence-transformers\n",
            "Successfully installed sentence-transformers-2.1.0 sentencepiece-0.1.96\n"
          ]
        }
      ]
    },
    {
      "cell_type": "markdown",
      "metadata": {
        "id": "0eAArWANI5X2"
      },
      "source": [
        "#BERT Model"
      ]
    },
    {
      "cell_type": "code",
      "metadata": {
        "id": "PA1lKgqYyD3i",
        "colab": {
          "base_uri": "https://localhost:8080/",
          "height": 81,
          "referenced_widgets": [
            "029f3a97b2094eafa3eccb9a6de75e9e",
            "32272de61fe043028987378df9b4948a",
            "3254d09aa438493eb3bde342c68f0b05",
            "83c3cddd54de4becb9eef5ad405a6414",
            "090e90c6d94445e08151ac182aa1e3f0",
            "b46756cd21484124b46fa3ef914a7c60",
            "5350394abd2948f692be3b590ef0cd1a",
            "7368671fde7548c8a78982c92e5036ae",
            "d1d450bb779c40abb87b69cf625dd7e0",
            "78d4e926fab04131a2d3340e7dc781a0",
            "78ae5a4230b7412ca5c26782e2d2ca1c",
            "b36da87d092443cfb83d2eb32ae10815",
            "6e40fdcababc4939bcc4816d497fa5f0",
            "2bcb591f81df4a29846d35d974f8f279",
            "8851dc0e7f9b4795b82cd23af9f9b101",
            "bcfd4a08baa04ac2a5ff585e7f73cac1",
            "283e3c3481f6490b9bba7490cb359da1",
            "002773e11b3541b2995ce68a20d1dfa3",
            "d6737f2f0e284684849da728f324e28e",
            "a5f7a92f453b43cab046ed4cca70f373",
            "77b33bc5abf94a95adbfdac1c4398736",
            "57e6e70542e2439bb212b02cf5679a94"
          ]
        },
        "outputId": "89ac7229-3233-4aed-8a74-98670280470b"
      },
      "source": [
        "from transformers import BertForQuestionAnswering\n",
        "\n",
        "model = BertForQuestionAnswering.from_pretrained('bert-large-uncased-whole-word-masking-finetuned-squad')\n"
      ],
      "execution_count": null,
      "outputs": [
        {
          "output_type": "display_data",
          "data": {
            "application/vnd.jupyter.widget-view+json": {
              "model_id": "029f3a97b2094eafa3eccb9a6de75e9e",
              "version_minor": 0,
              "version_major": 2
            },
            "text/plain": [
              "Downloading:   0%|          | 0.00/443 [00:00<?, ?B/s]"
            ]
          },
          "metadata": {}
        },
        {
          "output_type": "display_data",
          "data": {
            "application/vnd.jupyter.widget-view+json": {
              "model_id": "b36da87d092443cfb83d2eb32ae10815",
              "version_minor": 0,
              "version_major": 2
            },
            "text/plain": [
              "Downloading:   0%|          | 0.00/1.25G [00:00<?, ?B/s]"
            ]
          },
          "metadata": {}
        }
      ]
    },
    {
      "cell_type": "code",
      "metadata": {
        "id": "OwVWTRIxC-po",
        "colab": {
          "base_uri": "https://localhost:8080/",
          "height": 145,
          "referenced_widgets": [
            "fad4bb19a2464a61a157084d64ba639c",
            "f00de19d35ac4c8a8bd644aa9c690358",
            "3fbdd9e41bbf473d9852c2e09dd97f0f",
            "c4be4e61188649cdb1cb27f69f399d5c",
            "d715d72efb76471a81dfb31b78945ea9",
            "241d43522c534875b5b62c88371186d6",
            "f22e09d77ace44e496ace4407849a0a4",
            "a9d53b97e1a94c3da5ef1035db26d1e8",
            "85b5393ef2ca4aef882a59c2300eacd5",
            "4229ec2b53e7421dbf53f283883b0734",
            "a7266123a54743f2a12bec43ce099ced",
            "038b1052242843d7bf223a4e3f1151af",
            "0acd0c3cf6d743478120070478a386eb",
            "a035d3828a4a4df7934a70b8fd0e6f1c",
            "f9c43b9dd2d448858b881a887a713df4",
            "eb1b4c4a16e04e52b177205ee7390186",
            "e17e2a476db644ecb277efe046435318",
            "40a2b5188176491688c0a8cbabe0be51",
            "cc110d40e3104042ab5d54f13b620f57",
            "103e867988c34976b7f0626827eedd68",
            "85a7470a570c466c9e0a92a87648aec9",
            "7fd64e82ca184ddfb3d99849f5d9507f",
            "d8073938a9f945aa8420026a72a2352d",
            "b6eed0747d9649299ed48cfbad0971f6",
            "8d9bfae59d804557a7a3494fbd3dc98f",
            "8e2193e33a0d4b03b1f965dda9b20a70",
            "6225b0edeeb2489e9b58d78416a55c83",
            "5ddf1ae3b29447c29485645ad5c8f74a",
            "3f2d5fab006a445d9a9f0e81abe682cd",
            "da6d5025ef65408e87c68a106bf19f6b",
            "ff1da91e69f54cb9b573e676cf0bc72c",
            "66a4d9c13a27440883ea03816580d713",
            "b1b3fa24a7db4380af0d1891e8da9f79",
            "889977fe4edb4cccab74bbe9d73d97f9",
            "551a1e0020704a0d9e01dc0dc4256d48",
            "8aeee5de2c05474882072372ed7d9f20",
            "192d8f4303274672abab3f684e82ec4d",
            "7231537e3c1b4c4cbe82c9d2d5823e22",
            "020212eeb8f04e01ac3b1b41ecd223fa",
            "b3870f3f1e3e4d33b3db1d31b0120bdd",
            "7c6cb0b08d0642eca5d2966cf308916d",
            "968f2ef8724e4e47a6d1938360ad1c7a",
            "5b033fdc1fa34ca381122b700f478360",
            "cb0b73232cf4444fb73c08ab9cb48383"
          ]
        },
        "outputId": "2a552fca-38f9-414c-f97f-e632c57e1615"
      },
      "source": [
        "from transformers import BertTokenizer\n",
        "\n",
        "tokenizer = BertTokenizer.from_pretrained('bert-base-uncased')"
      ],
      "execution_count": null,
      "outputs": [
        {
          "output_type": "display_data",
          "data": {
            "application/vnd.jupyter.widget-view+json": {
              "model_id": "fad4bb19a2464a61a157084d64ba639c",
              "version_minor": 0,
              "version_major": 2
            },
            "text/plain": [
              "Downloading:   0%|          | 0.00/226k [00:00<?, ?B/s]"
            ]
          },
          "metadata": {}
        },
        {
          "output_type": "display_data",
          "data": {
            "application/vnd.jupyter.widget-view+json": {
              "model_id": "038b1052242843d7bf223a4e3f1151af",
              "version_minor": 0,
              "version_major": 2
            },
            "text/plain": [
              "Downloading:   0%|          | 0.00/28.0 [00:00<?, ?B/s]"
            ]
          },
          "metadata": {}
        },
        {
          "output_type": "display_data",
          "data": {
            "application/vnd.jupyter.widget-view+json": {
              "model_id": "d8073938a9f945aa8420026a72a2352d",
              "version_minor": 0,
              "version_major": 2
            },
            "text/plain": [
              "Downloading:   0%|          | 0.00/455k [00:00<?, ?B/s]"
            ]
          },
          "metadata": {}
        },
        {
          "output_type": "display_data",
          "data": {
            "application/vnd.jupyter.widget-view+json": {
              "model_id": "889977fe4edb4cccab74bbe9d73d97f9",
              "version_minor": 0,
              "version_major": 2
            },
            "text/plain": [
              "Downloading:   0%|          | 0.00/570 [00:00<?, ?B/s]"
            ]
          },
          "metadata": {}
        }
      ]
    },
    {
      "cell_type": "code",
      "metadata": {
        "id": "LG7y0ZQEC-75"
      },
      "source": [
        "def answer_question(question, answer_text):\n",
        "    input_ids = tokenizer.encode(question, answer_text)\n",
        "    sep_index = input_ids.index(tokenizer.sep_token_id)\n",
        "    num_seg_a = sep_index + 1\n",
        "    num_seg_b = len(input_ids) - num_seg_a\n",
        "    segment_ids = [0]*num_seg_a + [1]*num_seg_b\n",
        "    assert len(segment_ids) == len(input_ids)\n",
        "    outputs = model(torch.tensor([input_ids]), \n",
        "                    token_type_ids=torch.tensor([segment_ids]),\n",
        "                    return_dict=True) \n",
        "\n",
        "    start_scores = outputs.start_logits\n",
        "    end_scores = outputs.end_logits\n",
        "    answer_start = torch.argmax(start_scores)\n",
        "    answer_end = torch.argmax(end_scores)\n",
        "    tokens = tokenizer.convert_ids_to_tokens(input_ids)\n",
        "    answer = tokens[answer_start]\n",
        "    for i in range(answer_start + 1, answer_end + 1):\n",
        "      if tokens[i][0:2] == '##':\n",
        "        answer += tokens[i][2:]\n",
        "      else:\n",
        "        answer += ' ' + tokens[i]\n",
        "\n",
        "    print('Answer: \"' + answer + '\"')"
      ],
      "execution_count": null,
      "outputs": []
    },
    {
      "cell_type": "code",
      "metadata": {
        "colab": {
          "base_uri": "https://localhost:8080/",
          "height": 171
        },
        "id": "5ch9sAHjDBef",
        "outputId": "c66ddcfa-e084-4e83-c419-c4f3b6d7e6bf"
      },
      "source": [
        "import textwrap\n",
        "\n",
        "wrapper = textwrap.TextWrapper(width=80) \n",
        "\n",
        "bert_abstract = \"We introduce a new language representation model called BERT, which stands for Bidirectional Encoder Representations from Transformers. Unlike recent language representation models (Peters et al., 2018a; Radford et al., 2018), BERT is designed to pretrain deep bidirectional representations from unlabeled text by jointly conditioning on both left and right context in all layers. As a result, the pre-trained BERT model can be finetuned with just one additional output layer to create state-of-the-art models for a wide range of tasks, such as question answering and language inference, without substantial taskspecific architecture modifications. BERT is conceptually simple and empirically powerful. It obtains new state-of-the-art results on eleven natural language processing tasks, including pushing the GLUE score to 80.5% (7.7% point absolute improvement), MultiNLI accuracy to 86.7% (4.6% absolute improvement), SQuAD v1.1 question answering Test F1 to 93.2 (1.5 point absolute improvement) and SQuAD v2.0 Test F1 to 83.1 (5.1 point absolute improvement).\"\n",
        "\n",
        "bert_abstract"
      ],
      "execution_count": null,
      "outputs": [
        {
          "output_type": "execute_result",
          "data": {
            "application/vnd.google.colaboratory.intrinsic+json": {
              "type": "string"
            },
            "text/plain": [
              "'We introduce a new language representation model called BERT, which stands for Bidirectional Encoder Representations from Transformers. Unlike recent language representation models (Peters et al., 2018a; Radford et al., 2018), BERT is designed to pretrain deep bidirectional representations from unlabeled text by jointly conditioning on both left and right context in all layers. As a result, the pre-trained BERT model can be finetuned with just one additional output layer to create state-of-the-art models for a wide range of tasks, such as question answering and language inference, without substantial taskspecific architecture modifications. BERT is conceptually simple and empirically powerful. It obtains new state-of-the-art results on eleven natural language processing tasks, including pushing the GLUE score to 80.5% (7.7% point absolute improvement), MultiNLI accuracy to 86.7% (4.6% absolute improvement), SQuAD v1.1 question answering Test F1 to 93.2 (1.5 point absolute improvement) and SQuAD v2.0 Test F1 to 83.1 (5.1 point absolute improvement).'"
            ]
          },
          "metadata": {},
          "execution_count": 7
        }
      ]
    },
    {
      "cell_type": "code",
      "metadata": {
        "colab": {
          "base_uri": "https://localhost:8080/"
        },
        "id": "cPRz4PM-DCoP",
        "outputId": "2ec9abad-211e-4dd4-86fe-257dd1a9f7ca"
      },
      "source": [
        "question = \"What does the 'B' in BERT stand for?\"\n",
        "\n",
        "answer_question(question, bert_abstract)"
      ],
      "execution_count": null,
      "outputs": [
        {
          "output_type": "stream",
          "name": "stdout",
          "text": [
            "Answer: \"bidirectional encoder representations from transformers\"\n"
          ]
        }
      ]
    },
    {
      "cell_type": "code",
      "metadata": {
        "colab": {
          "base_uri": "https://localhost:8080/"
        },
        "id": "-NbRSDEoDELU",
        "outputId": "99e80437-b081-4ca9-dbc2-a29b3f3d1ac2"
      },
      "source": [
        "question = \"Is BERT simple?\"\n",
        "\n",
        "answer_question(question, bert_abstract)"
      ],
      "execution_count": null,
      "outputs": [
        {
          "output_type": "stream",
          "name": "stdout",
          "text": [
            "Answer: \"conceptually simple and empirically powerful\"\n"
          ]
        }
      ]
    },
    {
      "cell_type": "code",
      "metadata": {
        "id": "0hFySgtxRuso"
      },
      "source": [
        "# Baseline\n",
        "#utility function for BERT word embeddings\n",
        "def bert_vectorize(sentences):\n",
        "    #load pretrained BERT model\n",
        "    model = SentenceTransformer('bert-base-nli-stsb-mean-tokens')\n",
        "    #encode sentences\n",
        "    vectors = model.encode(sentences)\n",
        "    return list(vectors)"
      ],
      "execution_count": 2,
      "outputs": []
    },
    {
      "cell_type": "code",
      "metadata": {
        "id": "fhM2yEj_J77P",
        "outputId": "aca5c931-929a-4d89-860e-ceba9565378d",
        "colab": {
          "base_uri": "https://localhost:8080/",
          "height": 162
        }
      },
      "source": [
        "vectorized_sq_pairs = bert_vectorize(sq_pairs)"
      ],
      "execution_count": 3,
      "outputs": [
        {
          "output_type": "error",
          "ename": "NameError",
          "evalue": "ignored",
          "traceback": [
            "\u001b[0;31m---------------------------------------------------------------------------\u001b[0m",
            "\u001b[0;31mNameError\u001b[0m                                 Traceback (most recent call last)",
            "\u001b[0;32m<ipython-input-3-5ec3b8ff5788>\u001b[0m in \u001b[0;36m<module>\u001b[0;34m()\u001b[0m\n\u001b[0;32m----> 1\u001b[0;31m \u001b[0mvectorized_sq_pairs\u001b[0m \u001b[0;34m=\u001b[0m \u001b[0mbert_vectorize\u001b[0m\u001b[0;34m(\u001b[0m\u001b[0msq_pairs\u001b[0m\u001b[0;34m)\u001b[0m\u001b[0;34m\u001b[0m\u001b[0;34m\u001b[0m\u001b[0m\n\u001b[0m",
            "\u001b[0;31mNameError\u001b[0m: name 'sq_pairs' is not defined"
          ]
        }
      ]
    },
    {
      "cell_type": "markdown",
      "metadata": {
        "id": "AMz5Raa_JB7K"
      },
      "source": [
        "#Preprocessing Data"
      ]
    },
    {
      "cell_type": "code",
      "metadata": {
        "id": "gIsMjEN8DFMy"
      },
      "source": [
        "import pickle\n",
        "import numpy as np\n",
        "\n"
      ],
      "execution_count": 4,
      "outputs": []
    },
    {
      "cell_type": "code",
      "metadata": {
        "id": "w4SN2nWEk0wS"
      },
      "source": [
        "with open('train_qa.txt','rb') as f:\n",
        "    train_data=pickle.load(f)\n",
        "with open(\"test_qa.txt\",'rb') as f:\n",
        "  test_data = pickle.load(f)"
      ],
      "execution_count": 5,
      "outputs": []
    },
    {
      "cell_type": "code",
      "metadata": {
        "id": "3s-9EPRoRtaS"
      },
      "source": [
        "data = train_data + test_data\n",
        "\n",
        "\n"
      ],
      "execution_count": 6,
      "outputs": []
    },
    {
      "cell_type": "code",
      "metadata": {
        "id": "OeTKMoXnFUYj",
        "outputId": "a2e8d040-669d-4e04-97e8-0fe2491fd295",
        "colab": {
          "base_uri": "https://localhost:8080/",
          "height": 303
        }
      },
      "source": [
        "from sentence_transformers import SentenceTransformer"
      ],
      "execution_count": 8,
      "outputs": [
        {
          "output_type": "error",
          "ename": "ValueError",
          "evalue": "ignored",
          "traceback": [
            "\u001b[0;31m---------------------------------------------------------------------------\u001b[0m",
            "\u001b[0;31mValueError\u001b[0m                                Traceback (most recent call last)",
            "\u001b[0;32m<ipython-input-8-dbcd88385343>\u001b[0m in \u001b[0;36m<module>\u001b[0;34m()\u001b[0m\n\u001b[0;32m----> 1\u001b[0;31m \u001b[0;32mfrom\u001b[0m \u001b[0msentence_transformers\u001b[0m \u001b[0;32mimport\u001b[0m \u001b[0mSentenceTransformer\u001b[0m\u001b[0;34m\u001b[0m\u001b[0;34m\u001b[0m\u001b[0m\n\u001b[0m",
            "\u001b[0;32m/usr/local/lib/python3.7/dist-packages/sentence_transformers/__init__.py\u001b[0m in \u001b[0;36m<module>\u001b[0;34m()\u001b[0m\n\u001b[1;32m      1\u001b[0m \u001b[0m__version__\u001b[0m \u001b[0;34m=\u001b[0m \u001b[0;34m\"2.1.0\"\u001b[0m\u001b[0;34m\u001b[0m\u001b[0;34m\u001b[0m\u001b[0m\n\u001b[1;32m      2\u001b[0m \u001b[0m__MODEL_HUB_ORGANIZATION__\u001b[0m \u001b[0;34m=\u001b[0m \u001b[0;34m'sentence-transformers'\u001b[0m\u001b[0;34m\u001b[0m\u001b[0;34m\u001b[0m\u001b[0m\n\u001b[0;32m----> 3\u001b[0;31m \u001b[0;32mfrom\u001b[0m \u001b[0;34m.\u001b[0m\u001b[0mdatasets\u001b[0m \u001b[0;32mimport\u001b[0m \u001b[0mSentencesDataset\u001b[0m\u001b[0;34m,\u001b[0m \u001b[0mParallelSentencesDataset\u001b[0m\u001b[0;34m\u001b[0m\u001b[0;34m\u001b[0m\u001b[0m\n\u001b[0m\u001b[1;32m      4\u001b[0m \u001b[0;32mfrom\u001b[0m \u001b[0;34m.\u001b[0m\u001b[0mLoggingHandler\u001b[0m \u001b[0;32mimport\u001b[0m \u001b[0mLoggingHandler\u001b[0m\u001b[0;34m\u001b[0m\u001b[0;34m\u001b[0m\u001b[0m\n\u001b[1;32m      5\u001b[0m \u001b[0;32mfrom\u001b[0m \u001b[0;34m.\u001b[0m\u001b[0mSentenceTransformer\u001b[0m \u001b[0;32mimport\u001b[0m \u001b[0mSentenceTransformer\u001b[0m\u001b[0;34m\u001b[0m\u001b[0;34m\u001b[0m\u001b[0m\n",
            "\u001b[0;32m/usr/local/lib/python3.7/dist-packages/sentence_transformers/datasets/__init__.py\u001b[0m in \u001b[0;36m<module>\u001b[0;34m()\u001b[0m\n\u001b[0;32m----> 1\u001b[0;31m \u001b[0;32mfrom\u001b[0m \u001b[0;34m.\u001b[0m\u001b[0mDenoisingAutoEncoderDataset\u001b[0m \u001b[0;32mimport\u001b[0m \u001b[0mDenoisingAutoEncoderDataset\u001b[0m\u001b[0;34m\u001b[0m\u001b[0;34m\u001b[0m\u001b[0m\n\u001b[0m\u001b[1;32m      2\u001b[0m \u001b[0;32mfrom\u001b[0m \u001b[0;34m.\u001b[0m\u001b[0mNoDuplicatesDataLoader\u001b[0m \u001b[0;32mimport\u001b[0m \u001b[0mNoDuplicatesDataLoader\u001b[0m\u001b[0;34m\u001b[0m\u001b[0;34m\u001b[0m\u001b[0m\n\u001b[1;32m      3\u001b[0m \u001b[0;32mfrom\u001b[0m \u001b[0;34m.\u001b[0m\u001b[0mParallelSentencesDataset\u001b[0m \u001b[0;32mimport\u001b[0m \u001b[0mParallelSentencesDataset\u001b[0m\u001b[0;34m\u001b[0m\u001b[0;34m\u001b[0m\u001b[0m\n\u001b[1;32m      4\u001b[0m \u001b[0;32mfrom\u001b[0m \u001b[0;34m.\u001b[0m\u001b[0mSentencesDataset\u001b[0m \u001b[0;32mimport\u001b[0m \u001b[0mSentencesDataset\u001b[0m\u001b[0;34m\u001b[0m\u001b[0;34m\u001b[0m\u001b[0m\n\u001b[1;32m      5\u001b[0m \u001b[0;32mfrom\u001b[0m \u001b[0;34m.\u001b[0m\u001b[0mSentenceLabelDataset\u001b[0m \u001b[0;32mimport\u001b[0m \u001b[0mSentenceLabelDataset\u001b[0m\u001b[0;34m\u001b[0m\u001b[0;34m\u001b[0m\u001b[0m\n",
            "\u001b[0;32m/usr/local/lib/python3.7/dist-packages/sentence_transformers/datasets/DenoisingAutoEncoderDataset.py\u001b[0m in \u001b[0;36m<module>\u001b[0;34m()\u001b[0m\n\u001b[0;32m----> 1\u001b[0;31m \u001b[0;32mfrom\u001b[0m \u001b[0mtorch\u001b[0m\u001b[0;34m.\u001b[0m\u001b[0mutils\u001b[0m\u001b[0;34m.\u001b[0m\u001b[0mdata\u001b[0m \u001b[0;32mimport\u001b[0m \u001b[0mDataset\u001b[0m\u001b[0;34m\u001b[0m\u001b[0;34m\u001b[0m\u001b[0m\n\u001b[0m\u001b[1;32m      2\u001b[0m \u001b[0;32mfrom\u001b[0m \u001b[0mtyping\u001b[0m \u001b[0;32mimport\u001b[0m \u001b[0mList\u001b[0m\u001b[0;34m\u001b[0m\u001b[0;34m\u001b[0m\u001b[0m\n\u001b[1;32m      3\u001b[0m \u001b[0;32mfrom\u001b[0m \u001b[0;34m.\u001b[0m\u001b[0;34m.\u001b[0m\u001b[0mreaders\u001b[0m\u001b[0;34m.\u001b[0m\u001b[0mInputExample\u001b[0m \u001b[0;32mimport\u001b[0m \u001b[0mInputExample\u001b[0m\u001b[0;34m\u001b[0m\u001b[0;34m\u001b[0m\u001b[0m\n\u001b[1;32m      4\u001b[0m \u001b[0;32mimport\u001b[0m \u001b[0mnumpy\u001b[0m \u001b[0;32mas\u001b[0m \u001b[0mnp\u001b[0m\u001b[0;34m\u001b[0m\u001b[0;34m\u001b[0m\u001b[0m\n\u001b[1;32m      5\u001b[0m \u001b[0;32mimport\u001b[0m \u001b[0mnltk\u001b[0m\u001b[0;34m\u001b[0m\u001b[0;34m\u001b[0m\u001b[0m\n",
            "\u001b[0;32m/usr/local/lib/python3.7/dist-packages/torch/__init__.py\u001b[0m in \u001b[0;36m<module>\u001b[0;34m()\u001b[0m\n\u001b[1;32m    195\u001b[0m     \u001b[0;32mif\u001b[0m \u001b[0mUSE_GLOBAL_DEPS\u001b[0m\u001b[0;34m:\u001b[0m\u001b[0;34m\u001b[0m\u001b[0;34m\u001b[0m\u001b[0m\n\u001b[1;32m    196\u001b[0m         \u001b[0m_load_global_deps\u001b[0m\u001b[0;34m(\u001b[0m\u001b[0;34m)\u001b[0m\u001b[0;34m\u001b[0m\u001b[0;34m\u001b[0m\u001b[0m\n\u001b[0;32m--> 197\u001b[0;31m     \u001b[0;32mfrom\u001b[0m \u001b[0mtorch\u001b[0m\u001b[0;34m.\u001b[0m\u001b[0m_C\u001b[0m \u001b[0;32mimport\u001b[0m \u001b[0;34m*\u001b[0m  \u001b[0;31m# noqa: F403\u001b[0m\u001b[0;34m\u001b[0m\u001b[0;34m\u001b[0m\u001b[0m\n\u001b[0m\u001b[1;32m    198\u001b[0m \u001b[0;34m\u001b[0m\u001b[0m\n\u001b[1;32m    199\u001b[0m \u001b[0;31m# Appease the type checker; ordinarily this binding is inserted by the\u001b[0m\u001b[0;34m\u001b[0m\u001b[0;34m\u001b[0m\u001b[0;34m\u001b[0m\u001b[0m\n",
            "\u001b[0;31mValueError\u001b[0m: module functions cannot set METH_CLASS or METH_STATIC"
          ]
        }
      ]
    },
    {
      "cell_type": "code",
      "metadata": {
        "id": "Gt6CcQ8FpXEb",
        "colab": {
          "base_uri": "https://localhost:8080/"
        },
        "outputId": "cef10648-dbff-44c9-dd7c-074bc5c3a184"
      },
      "source": [
        "import gensim\n",
        "from gensim.models import Word2Vec\n",
        "import nltk\n",
        "nltk.download('punkt')\n",
        "from sklearn.preprocessing import MinMaxScaler\n",
        "class EmbeddingVectorizer(object):\n",
        "    def __init__(self, word2vec):\n",
        "          self.word2vec = word2vec\n",
        "          self.dim = len(next(iter(word2vec.values())))\n",
        "    def fit(self, X, y):\n",
        "            return self\n",
        "    def transform(self, X):\n",
        "            return np.array([\n",
        "                np.mean([self.word2vec[w] for w in words if w in self.word2vec]\n",
        "                        or [np.zeros(self.dim)], axis=0)\n",
        "                for words in X\n",
        "            ])\n",
        "def w2v(X_train, X_test):\n",
        "  model = gensim.models.Word2Vec([doc for i, doc in enumerate(X_train+X_test)], min_count = 1, \n",
        "                              size = 100, window = 5)\n",
        "\n",
        "  scaler = MinMaxScaler()\n",
        "\n",
        "\n",
        "  d2v = dict(zip(model.wv.index2word, model.wv.syn0)) \n",
        "  modelw = EmbeddingVectorizer(d2v)\n",
        "  # converting text to numerical data using Word2Vec \n",
        "  X_train_vectors_w2v = modelw.transform(X_train)\n",
        "  X_train_vec = scaler.fit_transform(X_train_vectors_w2v)#Used for normalising the vector\n",
        "\n",
        "  X_test_vectors_w2v = modelw.transform(X_test)\n",
        "  X_test_vec = scaler.fit_transform(X_test_vectors_w2v)#Used for normalising the vector\n",
        "  return [X_train_vec,X_test_vec]\n",
        "\n",
        "  "
      ],
      "execution_count": 26,
      "outputs": [
        {
          "output_type": "stream",
          "name": "stdout",
          "text": [
            "[nltk_data] Downloading package punkt to /root/nltk_data...\n",
            "[nltk_data]   Package punkt is already up-to-date!\n"
          ]
        }
      ]
    },
    {
      "cell_type": "code",
      "metadata": {
        "id": "J2NLcwZoEFm1"
      },
      "source": [
        "train_story_text=[]\n",
        "train_question_text=[]\n",
        "train_answers=[]"
      ],
      "execution_count": 9,
      "outputs": []
    },
    {
      "cell_type": "code",
      "metadata": {
        "id": "1Xjp_3rjR9Mr"
      },
      "source": [
        "for story,question,answer in data:\n",
        "    train_story_text.append(story)\n",
        "    train_question_text.append(question)\n",
        "    train_answers.append(answer)\n"
      ],
      "execution_count": 10,
      "outputs": []
    },
    {
      "cell_type": "code",
      "metadata": {
        "id": "rDo8kQtTSAi0"
      },
      "source": [
        "sq_pairs = [str(train_story_text[i])+\" \"+str(train_question_text[i]) for i in range(len(train_story_text))]"
      ],
      "execution_count": 12,
      "outputs": []
    },
    {
      "cell_type": "code",
      "metadata": {
        "id": "uf2K2EW-wWfU"
      },
      "source": [
        "import nltk"
      ],
      "execution_count": 15,
      "outputs": []
    },
    {
      "cell_type": "code",
      "metadata": {
        "id": "jiZ2f7tawPS5",
        "outputId": "54b98470-dc64-4ee1-8355-d67af7c5cd2d",
        "colab": {
          "base_uri": "https://localhost:8080/"
        }
      },
      "source": [
        "nltk.download('stopwords')"
      ],
      "execution_count": 16,
      "outputs": [
        {
          "output_type": "stream",
          "name": "stdout",
          "text": [
            "[nltk_data] Downloading package stopwords to /root/nltk_data...\n",
            "[nltk_data]   Unzipping corpora/stopwords.zip.\n"
          ]
        },
        {
          "output_type": "execute_result",
          "data": {
            "text/plain": [
              "True"
            ]
          },
          "metadata": {},
          "execution_count": 16
        }
      ]
    },
    {
      "cell_type": "code",
      "metadata": {
        "id": "1hkGvj5Rwa6K",
        "outputId": "ff878000-1db0-4769-864e-2f1920ee525a",
        "colab": {
          "base_uri": "https://localhost:8080/"
        }
      },
      "source": [
        "nltk.download('wordnet')\n",
        "nltk.download('punkt')"
      ],
      "execution_count": 17,
      "outputs": [
        {
          "output_type": "stream",
          "name": "stdout",
          "text": [
            "[nltk_data] Downloading package wordnet to /root/nltk_data...\n",
            "[nltk_data]   Unzipping corpora/wordnet.zip.\n",
            "[nltk_data] Downloading package punkt to /root/nltk_data...\n",
            "[nltk_data]   Unzipping tokenizers/punkt.zip.\n"
          ]
        },
        {
          "output_type": "execute_result",
          "data": {
            "text/plain": [
              "True"
            ]
          },
          "metadata": {},
          "execution_count": 17
        }
      ]
    },
    {
      "cell_type": "code",
      "metadata": {
        "id": "MezOHDDo1Kaf",
        "colab": {
          "base_uri": "https://localhost:8080/"
        },
        "outputId": "de347725-511e-4931-b8d1-b86a08c95254"
      },
      "source": [
        "from nltk.tokenize import word_tokenize\n",
        "from nltk.stem import WordNetLemmatizer\n",
        "from nltk.corpus import stopwords\n",
        "import string\n",
        "nltk.download('stopwords')\n",
        "nltk.download('wordnet')\n",
        "nltk.download('punkt')\n",
        "word = []\n",
        "for statement in sq_pairs:\n",
        "  stop = set(stopwords.words('english') + list(string.punctuation))\n",
        "  st = word_tokenize(statement)\n",
        "  lemmatizer = WordNetLemmatizer()\n",
        "  finalStats =[]\n",
        "  for x in st:\n",
        "    if x not in stop:\n",
        "      finalStats.append(lemmatizer.lemmatize(x))\n",
        "  word.append(finalStats)"
      ],
      "execution_count": 18,
      "outputs": [
        {
          "output_type": "stream",
          "name": "stdout",
          "text": [
            "[nltk_data] Downloading package stopwords to /root/nltk_data...\n",
            "[nltk_data]   Package stopwords is already up-to-date!\n",
            "[nltk_data] Downloading package wordnet to /root/nltk_data...\n",
            "[nltk_data]   Package wordnet is already up-to-date!\n",
            "[nltk_data] Downloading package punkt to /root/nltk_data...\n",
            "[nltk_data]   Package punkt is already up-to-date!\n"
          ]
        }
      ]
    },
    {
      "cell_type": "markdown",
      "metadata": {
        "id": "xw49FszQIppU"
      },
      "source": [
        "#Baseline Features"
      ]
    },
    {
      "cell_type": "code",
      "metadata": {
        "id": "Fwzls6YS1XoJ",
        "colab": {
          "base_uri": "https://localhost:8080/"
        },
        "outputId": "f0cf4914-1dd3-431c-9714-8ca843ee4f5c"
      },
      "source": [
        "word[0:5]"
      ],
      "execution_count": 19,
      "outputs": [
        {
          "output_type": "execute_result",
          "data": {
            "text/plain": [
              "[[\"'Mary\",\n",
              "  \"'moved\",\n",
              "  \"'to\",\n",
              "  \"'the\",\n",
              "  \"'bathroom\",\n",
              "  \"'Sandra\",\n",
              "  \"'journeyed\",\n",
              "  \"'to\",\n",
              "  \"'the\",\n",
              "  \"'bedroom\",\n",
              "  \"'Is\",\n",
              "  \"'Sandra\",\n",
              "  \"'in\",\n",
              "  \"'the\",\n",
              "  \"'hallway\"],\n",
              " [\"'Mary\",\n",
              "  \"'moved\",\n",
              "  \"'to\",\n",
              "  \"'the\",\n",
              "  \"'bathroom\",\n",
              "  \"'Sandra\",\n",
              "  \"'journeyed\",\n",
              "  \"'to\",\n",
              "  \"'the\",\n",
              "  \"'bedroom\",\n",
              "  \"'Mary\",\n",
              "  \"'went\",\n",
              "  \"'back\",\n",
              "  \"'to\",\n",
              "  \"'the\",\n",
              "  \"'bedroom\",\n",
              "  \"'Daniel\",\n",
              "  \"'went\",\n",
              "  \"'back\",\n",
              "  \"'to\",\n",
              "  \"'the\",\n",
              "  \"'hallway\",\n",
              "  \"'Is\",\n",
              "  \"'Daniel\",\n",
              "  \"'in\",\n",
              "  \"'the\",\n",
              "  \"'bathroom\"],\n",
              " [\"'Mary\",\n",
              "  \"'moved\",\n",
              "  \"'to\",\n",
              "  \"'the\",\n",
              "  \"'bathroom\",\n",
              "  \"'Sandra\",\n",
              "  \"'journeyed\",\n",
              "  \"'to\",\n",
              "  \"'the\",\n",
              "  \"'bedroom\",\n",
              "  \"'Mary\",\n",
              "  \"'went\",\n",
              "  \"'back\",\n",
              "  \"'to\",\n",
              "  \"'the\",\n",
              "  \"'bedroom\",\n",
              "  \"'Daniel\",\n",
              "  \"'went\",\n",
              "  \"'back\",\n",
              "  \"'to\",\n",
              "  \"'the\",\n",
              "  \"'hallway\",\n",
              "  \"'Sandra\",\n",
              "  \"'went\",\n",
              "  \"'to\",\n",
              "  \"'the\",\n",
              "  \"'kitchen\",\n",
              "  \"'Daniel\",\n",
              "  \"'went\",\n",
              "  \"'back\",\n",
              "  \"'to\",\n",
              "  \"'the\",\n",
              "  \"'bathroom\",\n",
              "  \"'Is\",\n",
              "  \"'Daniel\",\n",
              "  \"'in\",\n",
              "  \"'the\",\n",
              "  \"'office\"],\n",
              " [\"'Mary\",\n",
              "  \"'moved\",\n",
              "  \"'to\",\n",
              "  \"'the\",\n",
              "  \"'bathroom\",\n",
              "  \"'Sandra\",\n",
              "  \"'journeyed\",\n",
              "  \"'to\",\n",
              "  \"'the\",\n",
              "  \"'bedroom\",\n",
              "  \"'Mary\",\n",
              "  \"'went\",\n",
              "  \"'back\",\n",
              "  \"'to\",\n",
              "  \"'the\",\n",
              "  \"'bedroom\",\n",
              "  \"'Daniel\",\n",
              "  \"'went\",\n",
              "  \"'back\",\n",
              "  \"'to\",\n",
              "  \"'the\",\n",
              "  \"'hallway\",\n",
              "  \"'Sandra\",\n",
              "  \"'went\",\n",
              "  \"'to\",\n",
              "  \"'the\",\n",
              "  \"'kitchen\",\n",
              "  \"'Daniel\",\n",
              "  \"'went\",\n",
              "  \"'back\",\n",
              "  \"'to\",\n",
              "  \"'the\",\n",
              "  \"'bathroom\",\n",
              "  \"'Daniel\",\n",
              "  \"'picked\",\n",
              "  \"'up\",\n",
              "  \"'the\",\n",
              "  \"'football\",\n",
              "  \"'there\",\n",
              "  \"'Daniel\",\n",
              "  \"'went\",\n",
              "  \"'to\",\n",
              "  \"'the\",\n",
              "  \"'bedroom\",\n",
              "  \"'Is\",\n",
              "  \"'Daniel\",\n",
              "  \"'in\",\n",
              "  \"'the\",\n",
              "  \"'bedroom\"],\n",
              " [\"'Mary\",\n",
              "  \"'moved\",\n",
              "  \"'to\",\n",
              "  \"'the\",\n",
              "  \"'bathroom\",\n",
              "  \"'Sandra\",\n",
              "  \"'journeyed\",\n",
              "  \"'to\",\n",
              "  \"'the\",\n",
              "  \"'bedroom\",\n",
              "  \"'Mary\",\n",
              "  \"'went\",\n",
              "  \"'back\",\n",
              "  \"'to\",\n",
              "  \"'the\",\n",
              "  \"'bedroom\",\n",
              "  \"'Daniel\",\n",
              "  \"'went\",\n",
              "  \"'back\",\n",
              "  \"'to\",\n",
              "  \"'the\",\n",
              "  \"'hallway\",\n",
              "  \"'Sandra\",\n",
              "  \"'went\",\n",
              "  \"'to\",\n",
              "  \"'the\",\n",
              "  \"'kitchen\",\n",
              "  \"'Daniel\",\n",
              "  \"'went\",\n",
              "  \"'back\",\n",
              "  \"'to\",\n",
              "  \"'the\",\n",
              "  \"'bathroom\",\n",
              "  \"'Daniel\",\n",
              "  \"'picked\",\n",
              "  \"'up\",\n",
              "  \"'the\",\n",
              "  \"'football\",\n",
              "  \"'there\",\n",
              "  \"'Daniel\",\n",
              "  \"'went\",\n",
              "  \"'to\",\n",
              "  \"'the\",\n",
              "  \"'bedroom\",\n",
              "  \"'John\",\n",
              "  \"'travelled\",\n",
              "  \"'to\",\n",
              "  \"'the\",\n",
              "  \"'office\",\n",
              "  \"'Sandra\",\n",
              "  \"'went\",\n",
              "  \"'to\",\n",
              "  \"'the\",\n",
              "  \"'garden\",\n",
              "  \"'Is\",\n",
              "  \"'Daniel\",\n",
              "  \"'in\",\n",
              "  \"'the\",\n",
              "  \"'bedroom\"]]"
            ]
          },
          "metadata": {},
          "execution_count": 19
        }
      ]
    },
    {
      "cell_type": "code",
      "metadata": {
        "id": "mN_Xma5QSz3X"
      },
      "source": [
        "from sklearn.model_selection import train_test_split\n",
        "X= word\n",
        "y=train_answers\n",
        "\n"
      ],
      "execution_count": 20,
      "outputs": []
    },
    {
      "cell_type": "code",
      "metadata": {
        "id": "WfuCLJqpNxdy"
      },
      "source": [
        "from sklearn import preprocessing"
      ],
      "execution_count": 21,
      "outputs": []
    },
    {
      "cell_type": "code",
      "metadata": {
        "id": "W2eNK0O0TD0r",
        "colab": {
          "base_uri": "https://localhost:8080/"
        },
        "outputId": "2d2000e4-2518-485b-9fab-884daec4c96a"
      },
      "source": [
        "le = preprocessing.LabelEncoder()\n",
        "le.fit(y)"
      ],
      "execution_count": 22,
      "outputs": [
        {
          "output_type": "execute_result",
          "data": {
            "text/plain": [
              "LabelEncoder()"
            ]
          },
          "metadata": {},
          "execution_count": 22
        }
      ]
    },
    {
      "cell_type": "code",
      "metadata": {
        "id": "0lH6SeXruY7v"
      },
      "source": [
        "X_train, X_test, y_train, y_test = train_test_split(X, y, test_size=0.33, random_state=42, stratify=y)"
      ],
      "execution_count": 23,
      "outputs": []
    },
    {
      "cell_type": "code",
      "metadata": {
        "id": "bsxWAO4DvzQH",
        "colab": {
          "base_uri": "https://localhost:8080/"
        },
        "outputId": "baf96fbb-d6f5-4830-fba9-41b01f022f82"
      },
      "source": [
        "X_train,X_test = w2v(X_train=X_train,X_test= X_test)"
      ],
      "execution_count": 27,
      "outputs": [
        {
          "output_type": "stream",
          "name": "stderr",
          "text": [
            "/usr/local/lib/python3.7/dist-packages/ipykernel_launcher.py:25: DeprecationWarning: Call to deprecated `syn0` (Attribute will be removed in 4.0.0, use self.wv.vectors instead).\n"
          ]
        }
      ]
    },
    {
      "cell_type": "code",
      "metadata": {
        "id": "ghgpDiueS80g",
        "colab": {
          "base_uri": "https://localhost:8080/"
        },
        "outputId": "a62add0e-30dd-4c83-8653-ad12a670cf88"
      },
      "source": [
        "#classify response type\n",
        "from sklearn.svm import SVC\n",
        "from sklearn import svm\n",
        "from sklearn.pipeline import make_pipeline\n",
        "from sklearn.preprocessing import StandardScaler\n",
        "from sklearn.metrics import accuracy_score, f1_score, classification_report\n",
        "from sklearn.model_selection import RandomizedSearchCV, GridSearchCV\n",
        "import xgboost as xgb\n",
        "svmmodel = SVC(kernel='sigmoid', gamma=\"auto\", C=10, decision_function_shape='ovo')\n",
        "clf = make_pipeline(StandardScaler(), svmmodel)\n",
        "clf.fit(X_train, le.transform(y_train))\n",
        "predictions = svmmodel.predict(X_test)\n",
        "accuracy = svmmodel.score(X_test, le.transform(y_test))\n",
        "f1score = f1_score(le.transform(y_test), predictions, average='micro')\n",
        "print(classification_report(le.transform(y_test), predictions))\n"
      ],
      "execution_count": 28,
      "outputs": [
        {
          "output_type": "stream",
          "name": "stdout",
          "text": [
            "              precision    recall  f1-score   support\n",
            "\n",
            "           0       0.51      0.82      0.63      1812\n",
            "           1       0.53      0.20      0.29      1818\n",
            "\n",
            "    accuracy                           0.51      3630\n",
            "   macro avg       0.52      0.51      0.46      3630\n",
            "weighted avg       0.52      0.51      0.46      3630\n",
            "\n"
          ]
        }
      ]
    },
    {
      "cell_type": "code",
      "metadata": {
        "id": "XCVJkQT2xnvf"
      },
      "source": [
        "import seaborn as sns\n",
        "import pandas as pd\n"
      ],
      "execution_count": 34,
      "outputs": []
    },
    {
      "cell_type": "code",
      "metadata": {
        "id": "oImRfpujyYg1"
      },
      "source": [
        "\n",
        "from yellowbrick.classifier import ClassificationReport\n",
        "# Specify the target classes\n",
        "classes = [\"no\", \"yes\"]\n",
        "clf_report=classification_report(le.transform(y_test), predictions)\n",
        "visualizer = ClassificationReport(svmmodel,classes=classes, support=True)"
      ],
      "execution_count": 42,
      "outputs": []
    },
    {
      "cell_type": "code",
      "metadata": {
        "id": "kXiGhdmRyvxG",
        "outputId": "a7bbebc5-88aa-4aaf-b630-75281d85fac2",
        "colab": {
          "base_uri": "https://localhost:8080/",
          "height": 418
        }
      },
      "source": [
        "visualizer.fit(X_train, le.transform(y_train))        # Fit the visualizer and the model\n",
        "visualizer.score(X_test, le.transform(y_test))        # Evaluate the model on the test data\n",
        "visualizer.show() "
      ],
      "execution_count": 43,
      "outputs": [
        {
          "output_type": "display_data",
          "data": {
            "image/png": "[encoded data removed]",
            "text/plain": [
              "<Figure size 576x396 with 2 Axes>"
            ]
          },
          "metadata": {}
        },
        {
          "output_type": "execute_result",
          "data": {
            "text/plain": [
              "<matplotlib.axes._subplots.AxesSubplot at 0x7f186ab73350>"
            ]
          },
          "metadata": {},
          "execution_count": 43
        }
      ]
    },
    {
      "cell_type": "markdown",
      "metadata": {
        "id": "w13qn_JfIwJX"
      },
      "source": [
        "#Test Code\n"
      ]
    },
    {
      "cell_type": "code",
      "metadata": {
        "id": "S8pLI2DSUfUu"
      },
      "source": [
        "from sklearn.ensemble import RandomForestClassifier"
      ],
      "execution_count": null,
      "outputs": []
    },
    {
      "cell_type": "code",
      "metadata": {
        "id": "vIX7TQtgOTZ4",
        "colab": {
          "base_uri": "https://localhost:8080/"
        },
        "outputId": "0fb475f6-8a22-4d07-8fe3-84add58891ba"
      },
      "source": [
        "clf = RandomForestClassifier(min_samples_leaf=8, n_estimators=60)\n",
        "clf = make_pipeline(StandardScaler(), clf)\n",
        "clf.fit(X_train, le.transform(y_train))\n",
        "predictions = clf.predict(X_test)\n",
        "accuracy = clf.score(X_test, le.transform(y_test))\n",
        "accuracy"
      ],
      "execution_count": null,
      "outputs": [
        {
          "output_type": "execute_result",
          "data": {
            "text/plain": [
              "0.5057851239669422"
            ]
          },
          "metadata": {},
          "execution_count": 66
        }
      ]
    },
    {
      "cell_type": "code",
      "metadata": {
        "id": "PC4l_AaKU8GK",
        "colab": {
          "base_uri": "https://localhost:8080/"
        },
        "outputId": "fd60ffae-3008-4e0f-812b-7328bcfd7a08"
      },
      "source": [
        "model = xgb.XGBClassifier()\n",
        "param_dist = {\"max_depth\": [3,5,10],\n",
        "              \"min_child_weight\" : [1,5,10],\n",
        "              \"learning_rate\": [0.07, 0.1,0.2],\n",
        "               }\n",
        "\n",
        "# run randomized search\n",
        "grid_search = GridSearchCV(model, param_grid=param_dist, cv = 3, \n",
        "                                   verbose=5, n_jobs=-1)\n",
        "grid_search.fit(X_train, le.transform(y_train))"
      ],
      "execution_count": null,
      "outputs": [
        {
          "output_type": "stream",
          "name": "stdout",
          "text": [
            "Fitting 3 folds for each of 27 candidates, totalling 81 fits\n"
          ]
        },
        {
          "output_type": "stream",
          "name": "stderr",
          "text": [
            "[Parallel(n_jobs=-1)]: Using backend LokyBackend with 2 concurrent workers.\n",
            "[Parallel(n_jobs=-1)]: Done  14 tasks      | elapsed:   51.8s\n",
            "[Parallel(n_jobs=-1)]: Done  68 tasks      | elapsed:  5.6min\n",
            "[Parallel(n_jobs=-1)]: Done  81 out of  81 | elapsed:  7.2min finished\n"
          ]
        },
        {
          "output_type": "execute_result",
          "data": {
            "text/plain": [
              "GridSearchCV(cv=3, error_score=nan,\n",
              "             estimator=XGBClassifier(base_score=0.5, booster='gbtree',\n",
              "                                     colsample_bylevel=1, colsample_bynode=1,\n",
              "                                     colsample_bytree=1, gamma=0,\n",
              "                                     learning_rate=0.1, max_delta_step=0,\n",
              "                                     max_depth=3, min_child_weight=1,\n",
              "                                     missing=None, n_estimators=100, n_jobs=1,\n",
              "                                     nthread=None, objective='binary:logistic',\n",
              "                                     random_state=0, reg_alpha=0, reg_lambda=1,\n",
              "                                     scale_pos_weight=1, seed=None, silent=None,\n",
              "                                     subsample=1, verbosity=1),\n",
              "             iid='deprecated', n_jobs=-1,\n",
              "             param_grid={'learning_rate': [0.07, 0.1, 0.2],\n",
              "                         'max_depth': [3, 5, 10],\n",
              "                         'min_child_weight': [1, 5, 10]},\n",
              "             pre_dispatch='2*n_jobs', refit=True, return_train_score=False,\n",
              "             scoring=None, verbose=5)"
            ]
          },
          "metadata": {},
          "execution_count": 65
        }
      ]
    },
    {
      "cell_type": "code",
      "metadata": {
        "id": "sCfFps97Xjhr",
        "colab": {
          "base_uri": "https://localhost:8080/"
        },
        "outputId": "2b5699b0-c68d-427e-e707-750ed68ec950"
      },
      "source": [
        "\n",
        "\n",
        "predictions = grid_search.predict(X_test)\n",
        "accuracy = grid_search.score(X_test, le.transform(y_test))\n",
        "accuracy"
      ],
      "execution_count": null,
      "outputs": [
        {
          "output_type": "execute_result",
          "data": {
            "text/plain": [
              "0.509641873278237"
            ]
          },
          "metadata": {},
          "execution_count": 67
        }
      ]
    },
    {
      "cell_type": "code",
      "metadata": {
        "id": "VVIyIl7CZr2N"
      },
      "source": [
        ""
      ],
      "execution_count": null,
      "outputs": []
    },
    {
      "cell_type": "markdown",
      "metadata": {
        "id": "2xUQ5m7yKLcj"
      },
      "source": [
        "#End to End Memory Model"
      ]
    },
    {
      "cell_type": "code",
      "metadata": {
        "id": "UvMZEr0wKRN4"
      },
      "source": [
        "vocab =set()\n",
        "for story,question,answer in data:\n",
        "    vocab=vocab.union(set(story))\n",
        "    vocab=vocab.union(set(question))"
      ],
      "execution_count": null,
      "outputs": []
    },
    {
      "cell_type": "code",
      "metadata": {
        "id": "qCEv_aJnKTDx"
      },
      "source": [
        "vocab.add('no')\n",
        "vocab.add('yes')"
      ],
      "execution_count": null,
      "outputs": []
    },
    {
      "cell_type": "code",
      "metadata": {
        "id": "sx5lcdy7KWyy"
      },
      "source": [
        "vocab_len=len(vocab)+1\n"
      ],
      "execution_count": null,
      "outputs": []
    },
    {
      "cell_type": "code",
      "metadata": {
        "id": "ncqU1VxgKYoq"
      },
      "source": [
        "\n",
        "#Longest story\n",
        "\n",
        "all_story_lens=[len(x[0]) for x in data]\n",
        "max_story_len=max(all_story_lens)"
      ],
      "execution_count": null,
      "outputs": []
    },
    {
      "cell_type": "code",
      "metadata": {
        "id": "gXaVkz9YKakO"
      },
      "source": [
        "#Longest question\n",
        "all_question_lens=[len(x[1]) for x in data]\n",
        "max_question_len=max(all_question_lens)"
      ],
      "execution_count": null,
      "outputs": []
    },
    {
      "cell_type": "code",
      "metadata": {
        "id": "_h8q9DHvKhzY"
      },
      "source": [
        "from keras.preprocessing.sequence import pad_sequences\n",
        "from keras.preprocessing.text import Tokenizer"
      ],
      "execution_count": null,
      "outputs": []
    },
    {
      "cell_type": "code",
      "metadata": {
        "id": "YX_eWJCIKk3s"
      },
      "source": [
        "tokenizer=Tokenizer(filters=[])\n",
        "tokenizer.fit_on_texts(vocab)"
      ],
      "execution_count": null,
      "outputs": []
    },
    {
      "cell_type": "code",
      "metadata": {
        "id": "RUvp4W-0KlPm"
      },
      "source": [
        "train_story_seq =tokenizer.texts_to_sequences(train_story_text)\n"
      ],
      "execution_count": null,
      "outputs": []
    },
    {
      "cell_type": "code",
      "metadata": {
        "id": "fAigLMfdKpXR"
      },
      "source": [
        "def vectorize_stories(data,word_index=tokenizer.word_index,max_story_len=max_story_len,max_question_len=max_question_len):\n",
        "    X=[]\n",
        "    #Questions=Xq\n",
        "    Xq=[]\n",
        "    #Y Correct answer(yes/no)\n",
        "    Y=[]\n",
        "    \n",
        "    for story,query,answer in data:\n",
        "        x=[word_index[word.lower()] for word  in story]\n",
        "        xq=[word_index[word.lower()] for word in query]\n",
        "        y=np.zeros(len(word_index)+1)\n",
        "        y[word_index[answer]]=1\n",
        "        \n",
        "        X.append(x)\n",
        "        Xq.append(xq)\n",
        "        Y.append(y)\n",
        "        \n",
        "    return (pad_sequences(X,maxlen=max_story_len),pad_sequences(Xq,maxlen=max_question_len),np.array(Y))"
      ],
      "execution_count": null,
      "outputs": []
    },
    {
      "cell_type": "code",
      "metadata": {
        "id": "eo6F-YErKuWr"
      },
      "source": [
        "inputs_train , queries_train , answers_train =vectorize_stories(train_data)\n"
      ],
      "execution_count": null,
      "outputs": []
    },
    {
      "cell_type": "code",
      "metadata": {
        "id": "FisLWZlEKwV_"
      },
      "source": [
        "inputs_test , queries_test , answers_test =vectorize_stories(test_data)\n"
      ],
      "execution_count": null,
      "outputs": []
    },
    {
      "cell_type": "code",
      "metadata": {
        "id": "Wq6Nf0CAKxfe"
      },
      "source": [
        "from tensorflow.keras.models import Sequential, Model\n",
        "from tensorflow.keras.layers import Embedding\n",
        "from tensorflow.keras.layers import Input, Activation, Dense, Permute, Dropout\n",
        "from tensorflow.keras.layers import add, dot, concatenate\n",
        "from tensorflow.keras.layers import LSTM\n",
        "from tensorflow.keras.optimizers import RMSprop"
      ],
      "execution_count": null,
      "outputs": []
    },
    {
      "cell_type": "code",
      "metadata": {
        "id": "RljUoTW2LlTV"
      },
      "source": [
        "\n",
        "input_sequence = Input((max_story_len,))\n",
        "question = Input((max_question_len,))"
      ],
      "execution_count": null,
      "outputs": []
    },
    {
      "cell_type": "code",
      "metadata": {
        "id": "AA451rwVLqJG"
      },
      "source": [
        "embedding_dim = 128\n",
        "input_encoder_m = Sequential()\n",
        "input_encoder_m.add(Embedding(input_dim=vocab_len,output_dim= embedding_dim))\n",
        "input_encoder_m.add(Dropout(0.3))\n",
        "input_encoder_c = Sequential()\n",
        "input_encoder_c.add(Embedding(input_dim=vocab_len,output_dim=max_question_len))\n",
        "input_encoder_c.add(Dropout(0.3))\n",
        "question_encoder = Sequential()\n",
        "question_encoder.add(Embedding(input_dim=vocab_len,\n",
        "                               output_dim=embedding_dim,\n",
        "                               input_length=max_question_len))\n",
        "question_encoder.add(Dropout(0.3))\n"
      ],
      "execution_count": null,
      "outputs": []
    },
    {
      "cell_type": "code",
      "metadata": {
        "id": "Y4vRVJj-LyJE"
      },
      "source": [
        "input_encoded_m = input_encoder_m(input_sequence)\n",
        "input_encoded_c = input_encoder_c(input_sequence)\n",
        "question_encoded = question_encoder(question)"
      ],
      "execution_count": null,
      "outputs": []
    },
    {
      "cell_type": "code",
      "metadata": {
        "id": "_tYIwESXLyoY"
      },
      "source": [
        "match = dot([input_encoded_m, question_encoded], axes=(2, 2))\n",
        "match = Activation('softmax')(match)"
      ],
      "execution_count": null,
      "outputs": []
    },
    {
      "cell_type": "code",
      "metadata": {
        "id": "YMkYmOjkL1N8"
      },
      "source": [
        "response = add([match, input_encoded_c])  # (samples, story_maxlen, query_maxlen)\n",
        "response = Permute((2, 1))(response)"
      ],
      "execution_count": null,
      "outputs": []
    },
    {
      "cell_type": "code",
      "metadata": {
        "id": "hH-vVsNwL8sv"
      },
      "source": [
        "answer = concatenate([response, question_encoded])"
      ],
      "execution_count": null,
      "outputs": []
    },
    {
      "cell_type": "code",
      "metadata": {
        "id": "TQfdCCxGL-Qi"
      },
      "source": [
        "answer = LSTM(32)(answer)"
      ],
      "execution_count": null,
      "outputs": []
    },
    {
      "cell_type": "code",
      "metadata": {
        "id": "8UFkgC9nMCor"
      },
      "source": [
        "\n",
        "answer = Dropout(0.5)(answer)\n",
        "answer = Dense(vocab_len)(answer)"
      ],
      "execution_count": null,
      "outputs": []
    },
    {
      "cell_type": "code",
      "metadata": {
        "id": "Z6TXKWwDMDa7"
      },
      "source": [
        "answer = Activation('softmax')(answer)\n",
        "\n",
        "model = Model([input_sequence, question], answer)\n",
        "optimizer = RMSprop(learning_rate=0.01)\n",
        "model.compile(optimizer=optimizer, loss='categorical_crossentropy', metrics=['accuracy'])"
      ],
      "execution_count": null,
      "outputs": []
    },
    {
      "cell_type": "code",
      "metadata": {
        "id": "yGu9RGZZMIaE"
      },
      "source": [
        "import math\n",
        "from tensorflow.keras.callbacks import ReduceLROnPlateau, EarlyStopping, ModelCheckpoint, LearningRateScheduler\n",
        "\n",
        "initial_learning_rate = 0.01\n",
        "epochs = 120\n",
        "decay = initial_learning_rate / epochs\n",
        "\n",
        "def lr_step_decay(epoch, lr):\n",
        "    drop_rate = 0.5\n",
        "    epochs_drop = 20\n",
        "    return initial_learning_rate * math.pow(drop_rate, math.floor(epoch/epochs_drop))\n",
        "\n",
        "learning_rate = LearningRateScheduler(lr_step_decay, verbose=1)\n",
        "\n",
        "reduce_lr = ReduceLROnPlateau(monitor='val_loss', factor=0.66, patience=5, min_lr=0.0001, verbose=1)"
      ],
      "execution_count": null,
      "outputs": []
    },
    {
      "cell_type": "code",
      "metadata": {
        "id": "ZxuTtwMBMLsT",
        "colab": {
          "base_uri": "https://localhost:8080/"
        },
        "outputId": "451c4ad1-16e6-40fd-c09a-b407ec6bea60"
      },
      "source": [
        "history = model.fit([inputs_train, queries_train], answers_train,batch_size=256,epochs=120,validation_data=([inputs_test, queries_test], answers_test))"
      ],
      "execution_count": null,
      "outputs": [
        {
          "output_type": "stream",
          "name": "stdout",
          "text": [
            "Epoch 1/120\n",
            "40/40 [==============================] - 9s 35ms/step - loss: 0.9603 - accuracy: 0.4804 - val_loss: 0.6938 - val_accuracy: 0.4970\n",
            "Epoch 2/120\n",
            "40/40 [==============================] - 1s 16ms/step - loss: 0.7322 - accuracy: 0.4982 - val_loss: 0.7225 - val_accuracy: 0.4970\n",
            "Epoch 3/120\n",
            "40/40 [==============================] - 1s 16ms/step - loss: 0.7145 - accuracy: 0.4908 - val_loss: 0.7161 - val_accuracy: 0.4970\n",
            "Epoch 4/120\n",
            "40/40 [==============================] - 1s 15ms/step - loss: 0.7109 - accuracy: 0.4938 - val_loss: 0.6931 - val_accuracy: 0.5030\n",
            "Epoch 5/120\n",
            "40/40 [==============================] - 1s 15ms/step - loss: 0.7051 - accuracy: 0.5018 - val_loss: 0.7245 - val_accuracy: 0.5030\n",
            "Epoch 6/120\n",
            "40/40 [==============================] - 1s 16ms/step - loss: 0.7050 - accuracy: 0.4952 - val_loss: 0.7323 - val_accuracy: 0.4970\n",
            "Epoch 7/120\n",
            "40/40 [==============================] - 1s 15ms/step - loss: 0.7017 - accuracy: 0.4986 - val_loss: 0.7132 - val_accuracy: 0.5030\n",
            "Epoch 8/120\n",
            "40/40 [==============================] - 1s 16ms/step - loss: 0.6911 - accuracy: 0.5338 - val_loss: 0.6512 - val_accuracy: 0.5870\n",
            "Epoch 9/120\n",
            "40/40 [==============================] - 1s 16ms/step - loss: 0.5520 - accuracy: 0.7284 - val_loss: 0.4116 - val_accuracy: 0.8290\n",
            "Epoch 10/120\n",
            "40/40 [==============================] - 1s 16ms/step - loss: 0.4559 - accuracy: 0.8119 - val_loss: 0.4113 - val_accuracy: 0.8220\n",
            "Epoch 11/120\n",
            "40/40 [==============================] - 1s 16ms/step - loss: 0.4000 - accuracy: 0.8382 - val_loss: 0.3909 - val_accuracy: 0.8270\n",
            "Epoch 12/120\n",
            "40/40 [==============================] - 1s 15ms/step - loss: 0.3762 - accuracy: 0.8473 - val_loss: 0.3579 - val_accuracy: 0.8410\n",
            "Epoch 13/120\n",
            "40/40 [==============================] - 1s 16ms/step - loss: 0.3654 - accuracy: 0.8465 - val_loss: 0.3429 - val_accuracy: 0.8430\n",
            "Epoch 14/120\n",
            "40/40 [==============================] - 1s 16ms/step - loss: 0.3463 - accuracy: 0.8524 - val_loss: 0.3784 - val_accuracy: 0.8300\n",
            "Epoch 15/120\n",
            "40/40 [==============================] - 1s 16ms/step - loss: 0.3348 - accuracy: 0.8553 - val_loss: 0.3473 - val_accuracy: 0.8330\n",
            "Epoch 16/120\n",
            "40/40 [==============================] - 1s 16ms/step - loss: 0.3275 - accuracy: 0.8597 - val_loss: 0.5549 - val_accuracy: 0.7750\n",
            "Epoch 17/120\n",
            "40/40 [==============================] - 1s 16ms/step - loss: 0.3286 - accuracy: 0.8557 - val_loss: 0.3509 - val_accuracy: 0.8300\n",
            "Epoch 18/120\n",
            "40/40 [==============================] - 1s 16ms/step - loss: 0.3243 - accuracy: 0.8546 - val_loss: 0.4516 - val_accuracy: 0.8010\n",
            "Epoch 19/120\n",
            "40/40 [==============================] - 1s 16ms/step - loss: 0.3215 - accuracy: 0.8585 - val_loss: 0.3333 - val_accuracy: 0.8420\n",
            "Epoch 20/120\n",
            "40/40 [==============================] - 1s 16ms/step - loss: 0.3107 - accuracy: 0.8619 - val_loss: 0.4476 - val_accuracy: 0.7840\n",
            "Epoch 21/120\n",
            "40/40 [==============================] - 1s 15ms/step - loss: 0.3180 - accuracy: 0.8562 - val_loss: 0.3430 - val_accuracy: 0.8370\n",
            "Epoch 22/120\n",
            "40/40 [==============================] - 1s 16ms/step - loss: 0.3084 - accuracy: 0.8612 - val_loss: 0.4401 - val_accuracy: 0.7970\n",
            "Epoch 23/120\n",
            "40/40 [==============================] - 1s 16ms/step - loss: 0.3119 - accuracy: 0.8592 - val_loss: 0.3353 - val_accuracy: 0.8300\n",
            "Epoch 24/120\n",
            "40/40 [==============================] - 1s 15ms/step - loss: 0.3046 - accuracy: 0.8639 - val_loss: 0.5290 - val_accuracy: 0.8180\n",
            "Epoch 25/120\n",
            "40/40 [==============================] - 1s 16ms/step - loss: 0.3107 - accuracy: 0.8624 - val_loss: 0.7526 - val_accuracy: 0.7680\n",
            "Epoch 26/120\n",
            "40/40 [==============================] - 1s 15ms/step - loss: 0.3065 - accuracy: 0.8677 - val_loss: 0.3728 - val_accuracy: 0.8290\n",
            "Epoch 27/120\n",
            "40/40 [==============================] - 1s 16ms/step - loss: 0.3006 - accuracy: 0.8652 - val_loss: 0.3507 - val_accuracy: 0.8290\n",
            "Epoch 28/120\n",
            "40/40 [==============================] - 1s 16ms/step - loss: 0.3019 - accuracy: 0.8636 - val_loss: 0.3651 - val_accuracy: 0.8340\n",
            "Epoch 29/120\n",
            "40/40 [==============================] - 1s 16ms/step - loss: 0.3003 - accuracy: 0.8668 - val_loss: 0.3485 - val_accuracy: 0.8370\n",
            "Epoch 30/120\n",
            "40/40 [==============================] - 1s 16ms/step - loss: 0.2954 - accuracy: 0.8674 - val_loss: 0.3537 - val_accuracy: 0.8290\n",
            "Epoch 31/120\n",
            "40/40 [==============================] - 1s 16ms/step - loss: 0.2922 - accuracy: 0.8691 - val_loss: 0.3562 - val_accuracy: 0.8390\n",
            "Epoch 32/120\n",
            "40/40 [==============================] - 1s 15ms/step - loss: 0.2933 - accuracy: 0.8690 - val_loss: 0.3439 - val_accuracy: 0.8270\n",
            "Epoch 33/120\n",
            "40/40 [==============================] - 1s 16ms/step - loss: 0.2859 - accuracy: 0.8744 - val_loss: 0.3477 - val_accuracy: 0.8460\n",
            "Epoch 34/120\n",
            "40/40 [==============================] - 1s 16ms/step - loss: 0.2871 - accuracy: 0.8725 - val_loss: 0.5003 - val_accuracy: 0.8280\n",
            "Epoch 35/120\n",
            "40/40 [==============================] - 1s 16ms/step - loss: 0.2910 - accuracy: 0.8723 - val_loss: 0.3363 - val_accuracy: 0.8460\n",
            "Epoch 36/120\n",
            "40/40 [==============================] - 1s 16ms/step - loss: 0.2850 - accuracy: 0.8734 - val_loss: 0.3779 - val_accuracy: 0.8260\n",
            "Epoch 37/120\n",
            "40/40 [==============================] - 1s 16ms/step - loss: 0.2751 - accuracy: 0.8788 - val_loss: 0.3441 - val_accuracy: 0.8530\n",
            "Epoch 38/120\n",
            "40/40 [==============================] - 1s 16ms/step - loss: 0.2830 - accuracy: 0.8746 - val_loss: 0.3152 - val_accuracy: 0.8510\n",
            "Epoch 39/120\n",
            "40/40 [==============================] - 1s 16ms/step - loss: 0.2811 - accuracy: 0.8758 - val_loss: 0.3599 - val_accuracy: 0.8400\n",
            "Epoch 40/120\n",
            "40/40 [==============================] - 1s 16ms/step - loss: 0.2728 - accuracy: 0.8808 - val_loss: 0.3393 - val_accuracy: 0.8490\n",
            "Epoch 41/120\n",
            "40/40 [==============================] - 1s 16ms/step - loss: 0.2678 - accuracy: 0.8835 - val_loss: 0.3374 - val_accuracy: 0.8440\n",
            "Epoch 42/120\n",
            "40/40 [==============================] - 1s 16ms/step - loss: 0.2665 - accuracy: 0.8826 - val_loss: 0.3431 - val_accuracy: 0.8470\n",
            "Epoch 43/120\n",
            "40/40 [==============================] - 1s 16ms/step - loss: 0.2569 - accuracy: 0.8876 - val_loss: 0.3420 - val_accuracy: 0.8280\n",
            "Epoch 44/120\n",
            "40/40 [==============================] - 1s 15ms/step - loss: 0.2593 - accuracy: 0.8854 - val_loss: 0.3592 - val_accuracy: 0.8360\n",
            "Epoch 45/120\n",
            "40/40 [==============================] - 1s 16ms/step - loss: 0.2465 - accuracy: 0.8921 - val_loss: 0.3019 - val_accuracy: 0.8670\n",
            "Epoch 46/120\n",
            "40/40 [==============================] - 1s 16ms/step - loss: 0.2304 - accuracy: 0.8995 - val_loss: 0.3294 - val_accuracy: 0.8550\n",
            "Epoch 47/120\n",
            "40/40 [==============================] - 1s 16ms/step - loss: 0.2346 - accuracy: 0.8979 - val_loss: 0.3260 - val_accuracy: 0.8490\n",
            "Epoch 48/120\n",
            "40/40 [==============================] - 1s 16ms/step - loss: 0.2252 - accuracy: 0.9013 - val_loss: 0.2578 - val_accuracy: 0.8810\n",
            "Epoch 49/120\n",
            "40/40 [==============================] - 1s 16ms/step - loss: 0.2097 - accuracy: 0.9087 - val_loss: 0.4089 - val_accuracy: 0.8620\n",
            "Epoch 50/120\n",
            "40/40 [==============================] - 1s 16ms/step - loss: 0.1990 - accuracy: 0.9157 - val_loss: 0.2497 - val_accuracy: 0.8960\n",
            "Epoch 51/120\n",
            "40/40 [==============================] - 1s 16ms/step - loss: 0.2015 - accuracy: 0.9141 - val_loss: 0.2373 - val_accuracy: 0.8960\n",
            "Epoch 52/120\n",
            "40/40 [==============================] - 1s 16ms/step - loss: 0.1898 - accuracy: 0.9210 - val_loss: 0.2583 - val_accuracy: 0.8970\n",
            "Epoch 53/120\n",
            "40/40 [==============================] - 1s 16ms/step - loss: 0.1879 - accuracy: 0.9222 - val_loss: 0.2209 - val_accuracy: 0.8980\n",
            "Epoch 54/120\n",
            "40/40 [==============================] - 1s 16ms/step - loss: 0.1818 - accuracy: 0.9269 - val_loss: 0.2520 - val_accuracy: 0.8940\n",
            "Epoch 55/120\n",
            "40/40 [==============================] - 1s 16ms/step - loss: 0.1796 - accuracy: 0.9264 - val_loss: 0.2399 - val_accuracy: 0.8970\n",
            "Epoch 56/120\n",
            "40/40 [==============================] - 1s 15ms/step - loss: 0.1807 - accuracy: 0.9262 - val_loss: 0.2299 - val_accuracy: 0.9040\n",
            "Epoch 57/120\n",
            "40/40 [==============================] - 1s 16ms/step - loss: 0.1754 - accuracy: 0.9289 - val_loss: 0.2218 - val_accuracy: 0.9030\n",
            "Epoch 58/120\n",
            "40/40 [==============================] - 1s 16ms/step - loss: 0.1764 - accuracy: 0.9298 - val_loss: 0.2712 - val_accuracy: 0.8840\n",
            "Epoch 59/120\n",
            "40/40 [==============================] - 1s 16ms/step - loss: 0.1668 - accuracy: 0.9302 - val_loss: 0.2903 - val_accuracy: 0.8820\n",
            "Epoch 60/120\n",
            "40/40 [==============================] - 1s 15ms/step - loss: 0.1633 - accuracy: 0.9336 - val_loss: 0.2908 - val_accuracy: 0.8860\n",
            "Epoch 61/120\n",
            "40/40 [==============================] - 1s 16ms/step - loss: 0.1675 - accuracy: 0.9328 - val_loss: 0.2425 - val_accuracy: 0.8970\n",
            "Epoch 62/120\n",
            "40/40 [==============================] - 1s 15ms/step - loss: 0.1639 - accuracy: 0.9356 - val_loss: 0.2266 - val_accuracy: 0.9050\n",
            "Epoch 63/120\n",
            "40/40 [==============================] - 1s 16ms/step - loss: 0.1615 - accuracy: 0.9338 - val_loss: 0.2576 - val_accuracy: 0.8950\n",
            "Epoch 64/120\n",
            "40/40 [==============================] - 1s 15ms/step - loss: 0.1632 - accuracy: 0.9364 - val_loss: 0.2416 - val_accuracy: 0.9010\n",
            "Epoch 65/120\n",
            "40/40 [==============================] - 1s 16ms/step - loss: 0.1527 - accuracy: 0.9379 - val_loss: 0.2618 - val_accuracy: 0.9050\n",
            "Epoch 66/120\n",
            "40/40 [==============================] - 1s 17ms/step - loss: 0.1632 - accuracy: 0.9311 - val_loss: 0.2426 - val_accuracy: 0.9020\n",
            "Epoch 67/120\n",
            "40/40 [==============================] - 1s 16ms/step - loss: 0.1571 - accuracy: 0.9371 - val_loss: 0.2371 - val_accuracy: 0.9050\n",
            "Epoch 68/120\n",
            "40/40 [==============================] - 1s 15ms/step - loss: 0.1537 - accuracy: 0.9379 - val_loss: 0.2406 - val_accuracy: 0.8940\n",
            "Epoch 69/120\n",
            "40/40 [==============================] - 1s 15ms/step - loss: 0.1455 - accuracy: 0.9413 - val_loss: 0.2808 - val_accuracy: 0.8950\n",
            "Epoch 70/120\n",
            "40/40 [==============================] - 1s 15ms/step - loss: 0.1591 - accuracy: 0.9392 - val_loss: 0.2594 - val_accuracy: 0.9010\n",
            "Epoch 71/120\n",
            "40/40 [==============================] - 1s 16ms/step - loss: 0.1420 - accuracy: 0.9428 - val_loss: 0.2705 - val_accuracy: 0.9050\n",
            "Epoch 72/120\n",
            "40/40 [==============================] - 1s 16ms/step - loss: 0.1517 - accuracy: 0.9380 - val_loss: 0.2963 - val_accuracy: 0.9090\n",
            "Epoch 73/120\n",
            "40/40 [==============================] - 1s 16ms/step - loss: 0.1501 - accuracy: 0.9398 - val_loss: 0.2304 - val_accuracy: 0.9080\n",
            "Epoch 74/120\n",
            "40/40 [==============================] - 1s 16ms/step - loss: 0.1439 - accuracy: 0.9409 - val_loss: 0.2735 - val_accuracy: 0.9030\n",
            "Epoch 75/120\n",
            "40/40 [==============================] - 1s 16ms/step - loss: 0.1502 - accuracy: 0.9422 - val_loss: 0.2752 - val_accuracy: 0.9020\n",
            "Epoch 76/120\n",
            "40/40 [==============================] - 1s 16ms/step - loss: 0.1445 - accuracy: 0.9420 - val_loss: 0.2778 - val_accuracy: 0.9060\n",
            "Epoch 77/120\n",
            "40/40 [==============================] - 1s 16ms/step - loss: 0.1366 - accuracy: 0.9434 - val_loss: 0.3167 - val_accuracy: 0.9000\n",
            "Epoch 78/120\n",
            "40/40 [==============================] - 1s 16ms/step - loss: 0.1370 - accuracy: 0.9469 - val_loss: 0.2202 - val_accuracy: 0.9070\n",
            "Epoch 79/120\n",
            "40/40 [==============================] - 1s 16ms/step - loss: 0.1345 - accuracy: 0.9460 - val_loss: 0.2708 - val_accuracy: 0.9070\n",
            "Epoch 80/120\n",
            "40/40 [==============================] - 1s 15ms/step - loss: 0.1347 - accuracy: 0.9463 - val_loss: 0.2091 - val_accuracy: 0.9120\n",
            "Epoch 81/120\n",
            "40/40 [==============================] - 1s 16ms/step - loss: 0.1308 - accuracy: 0.9481 - val_loss: 0.2697 - val_accuracy: 0.8890\n",
            "Epoch 82/120\n",
            "40/40 [==============================] - 1s 16ms/step - loss: 0.1426 - accuracy: 0.9442 - val_loss: 0.2252 - val_accuracy: 0.9060\n",
            "Epoch 83/120\n",
            "40/40 [==============================] - 1s 16ms/step - loss: 0.1304 - accuracy: 0.9506 - val_loss: 0.2251 - val_accuracy: 0.9180\n",
            "Epoch 84/120\n",
            "40/40 [==============================] - 1s 16ms/step - loss: 0.1286 - accuracy: 0.9480 - val_loss: 0.2900 - val_accuracy: 0.8950\n",
            "Epoch 85/120\n",
            "40/40 [==============================] - 1s 17ms/step - loss: 0.1266 - accuracy: 0.9496 - val_loss: 0.2543 - val_accuracy: 0.9150\n",
            "Epoch 86/120\n",
            "40/40 [==============================] - 1s 15ms/step - loss: 0.1206 - accuracy: 0.9545 - val_loss: 0.2570 - val_accuracy: 0.9070\n",
            "Epoch 87/120\n",
            "40/40 [==============================] - 1s 16ms/step - loss: 0.1228 - accuracy: 0.9508 - val_loss: 0.2421 - val_accuracy: 0.9170\n",
            "Epoch 88/120\n",
            "40/40 [==============================] - 1s 17ms/step - loss: 0.1256 - accuracy: 0.9514 - val_loss: 0.2385 - val_accuracy: 0.9120\n",
            "Epoch 89/120\n",
            "40/40 [==============================] - 1s 16ms/step - loss: 0.1230 - accuracy: 0.9539 - val_loss: 0.2815 - val_accuracy: 0.9070\n",
            "Epoch 90/120\n",
            "40/40 [==============================] - 1s 16ms/step - loss: 0.1230 - accuracy: 0.9530 - val_loss: 0.2510 - val_accuracy: 0.9130\n",
            "Epoch 91/120\n",
            "40/40 [==============================] - 1s 16ms/step - loss: 0.1162 - accuracy: 0.9553 - val_loss: 0.3173 - val_accuracy: 0.9140\n",
            "Epoch 92/120\n",
            "40/40 [==============================] - 1s 15ms/step - loss: 0.1154 - accuracy: 0.9561 - val_loss: 0.3297 - val_accuracy: 0.9090\n",
            "Epoch 93/120\n",
            "40/40 [==============================] - 1s 16ms/step - loss: 0.1197 - accuracy: 0.9530 - val_loss: 0.2609 - val_accuracy: 0.9170\n",
            "Epoch 94/120\n",
            "40/40 [==============================] - 1s 15ms/step - loss: 0.1185 - accuracy: 0.9556 - val_loss: 0.2499 - val_accuracy: 0.9180\n",
            "Epoch 95/120\n",
            "40/40 [==============================] - 1s 16ms/step - loss: 0.1177 - accuracy: 0.9553 - val_loss: 0.2763 - val_accuracy: 0.9110\n",
            "Epoch 96/120\n",
            "40/40 [==============================] - 1s 16ms/step - loss: 0.1122 - accuracy: 0.9565 - val_loss: 0.2426 - val_accuracy: 0.9230\n",
            "Epoch 97/120\n",
            "40/40 [==============================] - 1s 15ms/step - loss: 0.1160 - accuracy: 0.9556 - val_loss: 0.2501 - val_accuracy: 0.9190\n",
            "Epoch 98/120\n",
            "40/40 [==============================] - 1s 16ms/step - loss: 0.1133 - accuracy: 0.9571 - val_loss: 0.2435 - val_accuracy: 0.9240\n",
            "Epoch 99/120\n",
            "40/40 [==============================] - 1s 15ms/step - loss: 0.1071 - accuracy: 0.9595 - val_loss: 0.2527 - val_accuracy: 0.9240\n",
            "Epoch 100/120\n",
            "40/40 [==============================] - 1s 16ms/step - loss: 0.1247 - accuracy: 0.9553 - val_loss: 0.2313 - val_accuracy: 0.9220\n",
            "Epoch 101/120\n",
            "40/40 [==============================] - 1s 16ms/step - loss: 0.1125 - accuracy: 0.9567 - val_loss: 0.2127 - val_accuracy: 0.9280\n",
            "Epoch 102/120\n",
            "40/40 [==============================] - 1s 16ms/step - loss: 0.1074 - accuracy: 0.9575 - val_loss: 0.2715 - val_accuracy: 0.9090\n",
            "Epoch 103/120\n",
            "40/40 [==============================] - 1s 16ms/step - loss: 0.1057 - accuracy: 0.9582 - val_loss: 0.2433 - val_accuracy: 0.9230\n",
            "Epoch 104/120\n",
            "40/40 [==============================] - 1s 16ms/step - loss: 0.1099 - accuracy: 0.9589 - val_loss: 0.2294 - val_accuracy: 0.9310\n",
            "Epoch 105/120\n",
            "40/40 [==============================] - 1s 16ms/step - loss: 0.1036 - accuracy: 0.9616 - val_loss: 0.2258 - val_accuracy: 0.9280\n",
            "Epoch 106/120\n",
            "40/40 [==============================] - 1s 16ms/step - loss: 0.0990 - accuracy: 0.9626 - val_loss: 0.2451 - val_accuracy: 0.9240\n",
            "Epoch 107/120\n",
            "40/40 [==============================] - 1s 16ms/step - loss: 0.1044 - accuracy: 0.9610 - val_loss: 0.2417 - val_accuracy: 0.9320\n",
            "Epoch 108/120\n",
            "40/40 [==============================] - 1s 16ms/step - loss: 0.0990 - accuracy: 0.9629 - val_loss: 0.2017 - val_accuracy: 0.9320\n",
            "Epoch 109/120\n",
            "40/40 [==============================] - 1s 16ms/step - loss: 0.1078 - accuracy: 0.9604 - val_loss: 0.2373 - val_accuracy: 0.9220\n",
            "Epoch 110/120\n",
            "40/40 [==============================] - 1s 16ms/step - loss: 0.1004 - accuracy: 0.9613 - val_loss: 0.2479 - val_accuracy: 0.9340\n",
            "Epoch 111/120\n",
            "40/40 [==============================] - 1s 16ms/step - loss: 0.1020 - accuracy: 0.9627 - val_loss: 0.2144 - val_accuracy: 0.9240\n",
            "Epoch 112/120\n",
            "40/40 [==============================] - 1s 16ms/step - loss: 0.1032 - accuracy: 0.9615 - val_loss: 0.2907 - val_accuracy: 0.9150\n",
            "Epoch 113/120\n",
            "40/40 [==============================] - 1s 16ms/step - loss: 0.0953 - accuracy: 0.9652 - val_loss: 0.2861 - val_accuracy: 0.9240\n",
            "Epoch 114/120\n",
            "40/40 [==============================] - 1s 16ms/step - loss: 0.0975 - accuracy: 0.9651 - val_loss: 0.3316 - val_accuracy: 0.9020\n",
            "Epoch 115/120\n",
            "40/40 [==============================] - 1s 16ms/step - loss: 0.1016 - accuracy: 0.9629 - val_loss: 0.2555 - val_accuracy: 0.9300\n",
            "Epoch 116/120\n",
            "40/40 [==============================] - 1s 16ms/step - loss: 0.0972 - accuracy: 0.9654 - val_loss: 0.2531 - val_accuracy: 0.9340\n",
            "Epoch 117/120\n",
            "40/40 [==============================] - 1s 16ms/step - loss: 0.0961 - accuracy: 0.9632 - val_loss: 0.2708 - val_accuracy: 0.9210\n",
            "Epoch 118/120\n",
            "40/40 [==============================] - 1s 17ms/step - loss: 0.0934 - accuracy: 0.9642 - val_loss: 0.3079 - val_accuracy: 0.9280\n",
            "Epoch 119/120\n",
            "40/40 [==============================] - 1s 16ms/step - loss: 0.0855 - accuracy: 0.9676 - val_loss: 0.3160 - val_accuracy: 0.9240\n",
            "Epoch 120/120\n",
            "40/40 [==============================] - 1s 16ms/step - loss: 0.1028 - accuracy: 0.9637 - val_loss: 0.2766 - val_accuracy: 0.9290\n"
          ]
        }
      ]
    },
    {
      "cell_type": "code",
      "metadata": {
        "id": "e8tBRz2nMNkH",
        "colab": {
          "base_uri": "https://localhost:8080/"
        },
        "outputId": "c2439848-1659-4f7d-f7a1-a1b7bdc8ebb8"
      },
      "source": [
        "filename = 'chatbot_120_epochs_9710.h5'\n",
        "model.save(filename)"
      ],
      "execution_count": null,
      "outputs": [
        {
          "output_type": "stream",
          "name": "stderr",
          "text": [
            "/usr/local/lib/python3.7/dist-packages/keras/engine/functional.py:1410: CustomMaskWarning: Custom mask layers require a config and must override get_config. When loading, the custom mask layer must be passed to the custom_objects argument.\n",
            "  layer_config = serialize_layer_fn(layer)\n"
          ]
        }
      ]
    },
    {
      "cell_type": "code",
      "metadata": {
        "id": "lKHKeW14MS35"
      },
      "source": [
        "pred_results = model.predict(([inputs_test, queries_test]))\n"
      ],
      "execution_count": null,
      "outputs": []
    },
    {
      "cell_type": "code",
      "metadata": {
        "id": "M3_Dh-uvMXj7"
      },
      "source": [
        "story =' '.join(word for word in test_data[0][0])\n"
      ],
      "execution_count": null,
      "outputs": []
    },
    {
      "cell_type": "code",
      "metadata": {
        "id": "9vxvMzmQMbpv"
      },
      "source": [
        "query = ' '.join(word for word in test_data[0][1])\n"
      ],
      "execution_count": null,
      "outputs": []
    },
    {
      "cell_type": "code",
      "metadata": {
        "id": "s-oZMM3TMdc5",
        "colab": {
          "base_uri": "https://localhost:8080/"
        },
        "outputId": "d3efdb20-91b3-44cb-e537-456972b21119"
      },
      "source": [
        "val_max = np.argmax(pred_results[0])\n",
        "\n",
        "for key, val in tokenizer.word_index.items():\n",
        "    if val == val_max:\n",
        "        k = key\n",
        "\n",
        "print(\"Predicted answer is: \", k)"
      ],
      "execution_count": null,
      "outputs": [
        {
          "output_type": "stream",
          "name": "stdout",
          "text": [
            "Predicted answer is:  no\n"
          ]
        }
      ]
    },
    {
      "cell_type": "code",
      "metadata": {
        "id": "ndx67mC8Mh-w",
        "colab": {
          "base_uri": "https://localhost:8080/"
        },
        "outputId": "b281dcfb-b29e-4d31-d3d3-7d62ec29b443"
      },
      "source": [
        "history.history['accuracy'][-1]"
      ],
      "execution_count": null,
      "outputs": [
        {
          "output_type": "execute_result",
          "data": {
            "text/plain": [
              "0.963699996471405"
            ]
          },
          "metadata": {},
          "execution_count": 82
        }
      ]
    },
    {
      "cell_type": "code",
      "metadata": {
        "id": "Fevb3o1IOG_f"
      },
      "source": [
        ""
      ],
      "execution_count": null,
      "outputs": []
    }
  ]
}